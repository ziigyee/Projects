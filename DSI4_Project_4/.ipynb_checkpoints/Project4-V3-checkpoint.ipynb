{
 "cells": [
  {
   "cell_type": "markdown",
   "metadata": {},
   "source": [
    "# IMPORT CSV"
   ]
  },
  {
   "cell_type": "code",
   "execution_count": 4,
   "metadata": {
    "ExecuteTime": {
     "end_time": "2018-07-26T14:17:16.958920Z",
     "start_time": "2018-07-26T14:17:16.724265Z"
    }
   },
   "outputs": [],
   "source": [
    "import pandas as pd\n",
    "import numpy as np\n",
    "import matplotlib.pyplot as plt\n",
    "import string\n",
    "import seaborn as sns\n",
    "pd.options.display.max_rows = 200"
   ]
  },
  {
   "cell_type": "markdown",
   "metadata": {
    "heading_collapsed": true
   },
   "source": [
    "#### Continue from Scrape - read in CSV"
   ]
  },
  {
   "cell_type": "code",
   "execution_count": null,
   "metadata": {
    "ExecuteTime": {
     "end_time": "2018-07-24T17:08:37.813861Z",
     "start_time": "2018-07-24T17:08:37.680698Z"
    },
    "hidden": true
   },
   "outputs": [],
   "source": [
    "df = pd.read_csv('Jobstreet_Ziig.csv')"
   ]
  },
  {
   "cell_type": "code",
   "execution_count": null,
   "metadata": {
    "ExecuteTime": {
     "end_time": "2018-07-24T17:08:38.465195Z",
     "start_time": "2018-07-24T17:08:38.459522Z"
    },
    "hidden": true
   },
   "outputs": [],
   "source": [
    "jobstreet_df = df.copy()"
   ]
  },
  {
   "cell_type": "code",
   "execution_count": null,
   "metadata": {
    "ExecuteTime": {
     "end_time": "2018-07-24T17:08:38.997018Z",
     "start_time": "2018-07-24T17:08:38.990975Z"
    },
    "hidden": true
   },
   "outputs": [],
   "source": [
    "jobstreet_df = jobstreet_df.reset_index(drop=True)"
   ]
  },
  {
   "cell_type": "code",
   "execution_count": null,
   "metadata": {
    "ExecuteTime": {
     "end_time": "2018-07-24T17:08:39.465728Z",
     "start_time": "2018-07-24T17:08:39.458160Z"
    },
    "hidden": true
   },
   "outputs": [],
   "source": [
    "jobstreet_df = jobstreet_df.drop('Unnamed: 0', axis=1)"
   ]
  },
  {
   "cell_type": "code",
   "execution_count": null,
   "metadata": {
    "ExecuteTime": {
     "end_time": "2018-07-24T17:08:39.927726Z",
     "start_time": "2018-07-24T17:08:39.921448Z"
    },
    "hidden": true
   },
   "outputs": [],
   "source": [
    "jobstreet_df = jobstreet_df.drop('Requirements', axis=1)"
   ]
  },
  {
   "cell_type": "markdown",
   "metadata": {
    "heading_collapsed": true
   },
   "source": [
    "## DATA CLEANING"
   ]
  },
  {
   "cell_type": "markdown",
   "metadata": {
    "hidden": true
   },
   "source": [
    "#### DROP DUPLICATES"
   ]
  },
  {
   "cell_type": "code",
   "execution_count": null,
   "metadata": {
    "ExecuteTime": {
     "end_time": "2018-07-24T17:08:41.989985Z",
     "start_time": "2018-07-24T17:08:41.954307Z"
    },
    "hidden": true
   },
   "outputs": [],
   "source": [
    "jobstreet_df = jobstreet_df.drop_duplicates()"
   ]
  },
  {
   "cell_type": "code",
   "execution_count": null,
   "metadata": {
    "ExecuteTime": {
     "end_time": "2018-07-24T17:08:42.481841Z",
     "start_time": "2018-07-24T17:08:42.408271Z"
    },
    "hidden": true
   },
   "outputs": [],
   "source": [
    "jobstreet_df.describe()"
   ]
  },
  {
   "cell_type": "code",
   "execution_count": null,
   "metadata": {
    "hidden": true
   },
   "outputs": [],
   "source": [
    "jobstreet_df.isnull().sum()"
   ]
  },
  {
   "cell_type": "code",
   "execution_count": null,
   "metadata": {
    "hidden": true
   },
   "outputs": [],
   "source": [
    "jobstreet_df.head()"
   ]
  },
  {
   "cell_type": "markdown",
   "metadata": {
    "heading_collapsed": true
   },
   "source": [
    "## Feature Engineering"
   ]
  },
  {
   "cell_type": "code",
   "execution_count": null,
   "metadata": {
    "ExecuteTime": {
     "end_time": "2018-07-24T17:08:55.515305Z",
     "start_time": "2018-07-24T17:08:55.510275Z"
    },
    "hidden": true
   },
   "outputs": [],
   "source": [
    "# Import the regex module\n",
    "import re"
   ]
  },
  {
   "cell_type": "markdown",
   "metadata": {
    "heading_collapsed": true,
    "hidden": true
   },
   "source": [
    "### Job Level Feature"
   ]
  },
  {
   "cell_type": "code",
   "execution_count": null,
   "metadata": {
    "ExecuteTime": {
     "end_time": "2018-07-24T17:11:26.800934Z",
     "start_time": "2018-07-24T17:11:26.795442Z"
    },
    "hidden": true
   },
   "outputs": [],
   "source": [
    "inbracket_pattern = '\\((.*?)\\)'"
   ]
  },
  {
   "cell_type": "code",
   "execution_count": null,
   "metadata": {
    "ExecuteTime": {
     "end_time": "2018-07-24T17:11:27.343567Z",
     "start_time": "2018-07-24T17:11:27.333867Z"
    },
    "hidden": true
   },
   "outputs": [],
   "source": [
    "re.findall(inbracket_pattern, jobstreet_df['Seniority'].values[0])[0]"
   ]
  },
  {
   "cell_type": "code",
   "execution_count": null,
   "metadata": {
    "ExecuteTime": {
     "end_time": "2018-07-24T17:11:27.882871Z",
     "start_time": "2018-07-24T17:11:27.876503Z"
    },
    "hidden": true
   },
   "outputs": [],
   "source": [
    "def job_level(x):\n",
    "    if x in ['Junior Executive', 'Entry Level', 'Senior Executive', 'Senior Manager', 'Manager', 'None']:\n",
    "        return x\n",
    "    else:\n",
    "        return re.findall(inbracket_pattern, x)[0]"
   ]
  },
  {
   "cell_type": "code",
   "execution_count": null,
   "metadata": {
    "ExecuteTime": {
     "end_time": "2018-07-24T17:11:28.735811Z",
     "start_time": "2018-07-24T17:11:28.725835Z"
    },
    "hidden": true
   },
   "outputs": [],
   "source": [
    "jobstreet_df['Job Level'] = jobstreet_df['Seniority'].apply(job_level)"
   ]
  },
  {
   "cell_type": "code",
   "execution_count": null,
   "metadata": {
    "ExecuteTime": {
     "end_time": "2018-07-24T17:11:29.453957Z",
     "start_time": "2018-07-24T17:11:29.442080Z"
    },
    "hidden": true,
    "scrolled": true
   },
   "outputs": [],
   "source": [
    "jobstreet_df['Job Level'].value_counts()"
   ]
  },
  {
   "cell_type": "markdown",
   "metadata": {
    "heading_collapsed": true,
    "hidden": true
   },
   "source": [
    "### Min years Experience feature"
   ]
  },
  {
   "cell_type": "code",
   "execution_count": null,
   "metadata": {
    "ExecuteTime": {
     "end_time": "2018-07-24T17:08:57.146233Z",
     "start_time": "2018-07-24T17:08:57.128424Z"
    },
    "hidden": true,
    "scrolled": true
   },
   "outputs": [],
   "source": [
    "jobstreet_df.Seniority.value_counts()"
   ]
  },
  {
   "cell_type": "code",
   "execution_count": null,
   "metadata": {
    "ExecuteTime": {
     "end_time": "2018-07-24T17:08:57.626489Z",
     "start_time": "2018-07-24T17:08:57.617407Z"
    },
    "hidden": true
   },
   "outputs": [],
   "source": [
    "jobstreet_df['Seniority'].values[0]"
   ]
  },
  {
   "cell_type": "code",
   "execution_count": null,
   "metadata": {
    "ExecuteTime": {
     "end_time": "2018-07-24T17:08:58.103300Z",
     "start_time": "2018-07-24T17:08:58.095110Z"
    },
    "hidden": true
   },
   "outputs": [],
   "source": [
    "# Find all digits in my_string and print the result\n",
    "digits = r\"\\d+\"\n",
    "print(re.findall(digits, jobstreet_df['Seniority'].values[0]))"
   ]
  },
  {
   "cell_type": "code",
   "execution_count": null,
   "metadata": {
    "ExecuteTime": {
     "end_time": "2018-07-24T17:15:30.701579Z",
     "start_time": "2018-07-24T17:15:30.693661Z"
    },
    "hidden": true
   },
   "outputs": [],
   "source": [
    "def juniorexec_or_entry(x):\n",
    "    if x == 'Entry Level' or x == 'Junior Executive':\n",
    "        return 1\n",
    "    elif x in ['Senior Executive', 'Senior Manager', 'Manager', 'None']:\n",
    "        return np.nan\n",
    "    else:\n",
    "        return int(''.join(re.findall(digits, x)))"
   ]
  },
  {
   "cell_type": "code",
   "execution_count": null,
   "metadata": {
    "ExecuteTime": {
     "end_time": "2018-07-24T17:08:59.758530Z",
     "start_time": "2018-07-24T17:08:59.686482Z"
    },
    "hidden": true
   },
   "outputs": [],
   "source": [
    "# MINIMUM YEARS OF EXPERIENCE FEATURE\n",
    "jobstreet_df['Min Years Exp'] = jobstreet_df['Seniority'].apply(fix_minyrexp)"
   ]
  },
  {
   "cell_type": "code",
   "execution_count": null,
   "metadata": {
    "ExecuteTime": {
     "end_time": "2018-07-24T17:09:19.329975Z",
     "start_time": "2018-07-24T17:09:19.319420Z"
    },
    "hidden": true
   },
   "outputs": [],
   "source": [
    "jobstreet_df['Min Years Exp'].isnull().sum()"
   ]
  },
  {
   "cell_type": "code",
   "execution_count": null,
   "metadata": {
    "ExecuteTime": {
     "end_time": "2018-07-24T17:09:19.898104Z",
     "start_time": "2018-07-24T17:09:19.883368Z"
    },
    "hidden": true
   },
   "outputs": [],
   "source": [
    "jobstreet_df['Min Years Exp'].value_counts()"
   ]
  },
  {
   "cell_type": "code",
   "execution_count": null,
   "metadata": {
    "ExecuteTime": {
     "end_time": "2018-07-24T17:21:47.520261Z",
     "start_time": "2018-07-24T17:21:47.494922Z"
    },
    "hidden": true,
    "scrolled": true
   },
   "outputs": [],
   "source": [
    "jobstreet_df[jobstreet_df['Min Years Exp'].isnull()]"
   ]
  },
  {
   "cell_type": "code",
   "execution_count": null,
   "metadata": {
    "ExecuteTime": {
     "end_time": "2018-07-24T17:11:39.223860Z",
     "start_time": "2018-07-24T17:11:39.210223Z"
    },
    "hidden": true,
    "scrolled": true
   },
   "outputs": [],
   "source": [
    "## Impute Min Years Exp for ['Senior Executive', 'Senior Manager', 'Manager', 'None']\n",
    "\n",
    "jobstreet_df.groupby('Job Level')['Min Years Exp'].mean()"
   ]
  },
  {
   "cell_type": "code",
   "execution_count": null,
   "metadata": {
    "ExecuteTime": {
     "end_time": "2018-07-24T17:20:06.510497Z",
     "start_time": "2018-07-24T17:20:06.503300Z"
    },
    "hidden": true
   },
   "outputs": [],
   "source": [
    "## Fix Nans in Min Years Exp for SENIOR EXECUTIVE\n",
    "x = jobstreet_df[(jobstreet_df['Min Years Exp'].isnull())\\\n",
    "             &(jobstreet_df['Job Level'] == 'Senior Executive')]"
   ]
  },
  {
   "cell_type": "code",
   "execution_count": null,
   "metadata": {
    "ExecuteTime": {
     "end_time": "2018-07-24T17:20:37.470771Z",
     "start_time": "2018-07-24T17:20:37.460480Z"
    },
    "hidden": true
   },
   "outputs": [],
   "source": [
    "jobstreet_df.loc[x.index, 'Min Years Exp'] = 4.0"
   ]
  },
  {
   "cell_type": "code",
   "execution_count": null,
   "metadata": {
    "ExecuteTime": {
     "end_time": "2018-07-24T17:21:05.639921Z",
     "start_time": "2018-07-24T17:21:05.632450Z"
    },
    "hidden": true
   },
   "outputs": [],
   "source": [
    "## Fix Nans in Min Years Exp for SENIOR MANAGER\n",
    "x = jobstreet_df[(jobstreet_df['Min Years Exp'].isnull())\\\n",
    "             &(jobstreet_df['Job Level'] == 'Senior Manager')]"
   ]
  },
  {
   "cell_type": "code",
   "execution_count": null,
   "metadata": {
    "ExecuteTime": {
     "end_time": "2018-07-24T17:21:12.783956Z",
     "start_time": "2018-07-24T17:21:12.776752Z"
    },
    "hidden": true
   },
   "outputs": [],
   "source": [
    "jobstreet_df.loc[x.index, 'Min Years Exp'] = 7.0"
   ]
  },
  {
   "cell_type": "code",
   "execution_count": null,
   "metadata": {
    "ExecuteTime": {
     "end_time": "2018-07-24T17:21:39.108104Z",
     "start_time": "2018-07-24T17:21:39.100680Z"
    },
    "hidden": true
   },
   "outputs": [],
   "source": [
    "## Fix Nans in Min Years Exp for MANAGER\n",
    "x = jobstreet_df[(jobstreet_df['Min Years Exp'].isnull())\\\n",
    "             &(jobstreet_df['Job Level'] == 'Manager')]"
   ]
  },
  {
   "cell_type": "code",
   "execution_count": null,
   "metadata": {
    "ExecuteTime": {
     "end_time": "2018-07-24T17:21:43.554076Z",
     "start_time": "2018-07-24T17:21:43.547390Z"
    },
    "hidden": true
   },
   "outputs": [],
   "source": [
    "jobstreet_df.loc[x.index, 'Min Years Exp'] = 4.0"
   ]
  },
  {
   "cell_type": "markdown",
   "metadata": {
    "heading_collapsed": true,
    "hidden": true
   },
   "source": [
    "### NO INTERNSHIPS - Take out Internships as they affect the price prediction"
   ]
  },
  {
   "cell_type": "code",
   "execution_count": null,
   "metadata": {
    "ExecuteTime": {
     "end_time": "2018-07-24T17:22:09.553038Z",
     "start_time": "2018-07-24T17:22:09.542423Z"
    },
    "hidden": true
   },
   "outputs": [],
   "source": [
    "interns = jobstreet_df[(jobstreet_df['Title'].str.contains('Intern')) & (\n",
    "    (jobstreet_df.Seniority == 'Entry Level') | (jobstreet_df.Seniority == 'None'))]"
   ]
  },
  {
   "cell_type": "code",
   "execution_count": null,
   "metadata": {
    "ExecuteTime": {
     "end_time": "2018-07-24T17:22:09.984570Z",
     "start_time": "2018-07-24T17:22:09.977948Z"
    },
    "hidden": true
   },
   "outputs": [],
   "source": [
    "jobstreet_df.drop(interns.index, axis=0, inplace=True)"
   ]
  },
  {
   "cell_type": "code",
   "execution_count": null,
   "metadata": {
    "ExecuteTime": {
     "end_time": "2018-07-24T17:22:10.482796Z",
     "start_time": "2018-07-24T17:22:10.468879Z"
    },
    "hidden": true
   },
   "outputs": [],
   "source": [
    "jobstreet_df.info()"
   ]
  },
  {
   "cell_type": "markdown",
   "metadata": {
    "heading_collapsed": true,
    "hidden": true
   },
   "source": [
    "### Fix Title - Base Titles (DS, DA, BA, BI etc)"
   ]
  },
  {
   "cell_type": "markdown",
   "metadata": {
    "heading_collapsed": true,
    "hidden": true
   },
   "source": [
    "#### Create the Base Title Feature"
   ]
  },
  {
   "cell_type": "code",
   "execution_count": null,
   "metadata": {
    "ExecuteTime": {
     "end_time": "2018-07-24T17:22:12.719933Z",
     "start_time": "2018-07-24T17:22:12.697356Z"
    },
    "hidden": true,
    "scrolled": true
   },
   "outputs": [],
   "source": [
    "jobstreet_df.Title.value_counts()"
   ]
  },
  {
   "cell_type": "code",
   "execution_count": null,
   "metadata": {
    "ExecuteTime": {
     "end_time": "2018-07-24T17:22:13.205108Z",
     "start_time": "2018-07-24T17:22:13.188548Z"
    },
    "hidden": true,
    "scrolled": true
   },
   "outputs": [],
   "source": [
    "def base_title(x):\n",
    "    if 'data scientist' in x.lower():\n",
    "        return 'DS'\n",
    "    elif 'data science' in x.lower():\n",
    "        return 'DS'\n",
    "    elif 'machine learning' in x.lower():\n",
    "        return 'DS'\n",
    "    elif 'data analytics' in x.lower():\n",
    "        return 'DA'\n",
    "    elif 'data analysis' in x.lower():\n",
    "        return 'DA'\n",
    "    elif 'data analyst' in x.lower():\n",
    "        return 'DA'\n",
    "    elif 'data engineer' in x.lower():\n",
    "        return 'DE'\n",
    "    elif 'business analyst' in x.lower():\n",
    "        return 'BA'\n",
    "    elif 'business analytics' in x.lower():\n",
    "        return 'BA'\n",
    "    elif 'business intelligent' in x.lower():\n",
    "        return 'BI'\n",
    "    elif 'business intelligence' in x.lower():\n",
    "        return 'BI'\n",
    "    elif 'bi analyst' in x.lower():\n",
    "        return 'BI'\n",
    "    elif 'scientist' in x.lower():\n",
    "        return 'RS'  # Research Scientist\n",
    "    elif 'data architect' in x.lower():\n",
    "        return 'DArch'  # Data Architect\n",
    "    else:\n",
    "        return 'OTHER'"
   ]
  },
  {
   "cell_type": "code",
   "execution_count": null,
   "metadata": {
    "ExecuteTime": {
     "end_time": "2018-07-24T17:22:13.467744Z",
     "start_time": "2018-07-24T17:22:13.447376Z"
    },
    "hidden": true
   },
   "outputs": [],
   "source": [
    "jobstreet_df['Base Title'] = jobstreet_df['Title'].apply(base_title)"
   ]
  },
  {
   "cell_type": "code",
   "execution_count": null,
   "metadata": {
    "ExecuteTime": {
     "end_time": "2018-07-24T17:22:13.834777Z",
     "start_time": "2018-07-24T17:22:13.821102Z"
    },
    "hidden": true
   },
   "outputs": [],
   "source": [
    "jobstreet_df['Base Title'].value_counts()"
   ]
  },
  {
   "cell_type": "code",
   "execution_count": null,
   "metadata": {
    "ExecuteTime": {
     "end_time": "2018-07-24T17:22:14.369454Z",
     "start_time": "2018-07-24T17:22:14.354911Z"
    },
    "hidden": true
   },
   "outputs": [],
   "source": [
    "jobstreet_df['Base Title'].value_counts(\n",
    ")/jobstreet_df['Base Title'].value_counts().sum()"
   ]
  },
  {
   "cell_type": "code",
   "execution_count": null,
   "metadata": {
    "ExecuteTime": {
     "end_time": "2018-07-24T17:22:14.848574Z",
     "start_time": "2018-07-24T17:22:14.677480Z"
    },
    "hidden": true
   },
   "outputs": [],
   "source": [
    "jobstreet_df[jobstreet_df['Base Title'] == 'DS']"
   ]
  },
  {
   "cell_type": "markdown",
   "metadata": {
    "heading_collapsed": true,
    "hidden": true
   },
   "source": [
    "### Fix Location"
   ]
  },
  {
   "cell_type": "code",
   "execution_count": null,
   "metadata": {
    "ExecuteTime": {
     "end_time": "2018-07-24T17:22:15.475821Z",
     "start_time": "2018-07-24T17:22:15.454960Z"
    },
    "hidden": true
   },
   "outputs": [],
   "source": [
    "jobstreet_df['Location'].value_counts()"
   ]
  },
  {
   "cell_type": "code",
   "execution_count": null,
   "metadata": {
    "ExecuteTime": {
     "end_time": "2018-07-24T17:22:15.862648Z",
     "start_time": "2018-07-24T17:22:15.855033Z"
    },
    "hidden": true
   },
   "outputs": [],
   "source": [
    "aus = jobstreet_df[jobstreet_df['Location']\n",
    "                   == 'Australia - Across Australia']  # WTF"
   ]
  },
  {
   "cell_type": "code",
   "execution_count": null,
   "metadata": {
    "ExecuteTime": {
     "end_time": "2018-07-24T17:22:16.269368Z",
     "start_time": "2018-07-24T17:22:16.260501Z"
    },
    "hidden": true
   },
   "outputs": [],
   "source": [
    "jobstreet_df.drop(aus.index, axis=0, inplace=True)"
   ]
  },
  {
   "cell_type": "code",
   "execution_count": null,
   "metadata": {
    "ExecuteTime": {
     "end_time": "2018-07-24T17:22:16.548283Z",
     "start_time": "2018-07-24T17:22:16.524930Z"
    },
    "hidden": true
   },
   "outputs": [],
   "source": [
    "jobstreet_df['Location'].value_counts()"
   ]
  },
  {
   "cell_type": "code",
   "execution_count": null,
   "metadata": {
    "ExecuteTime": {
     "end_time": "2018-07-24T17:22:16.907495Z",
     "start_time": "2018-07-24T17:22:16.901056Z"
    },
    "hidden": true
   },
   "outputs": [],
   "source": [
    "thai = jobstreet_df[jobstreet_df['Location']\n",
    "                    == 'Thailand - Bangkok']  # WTF NOPE"
   ]
  },
  {
   "cell_type": "code",
   "execution_count": null,
   "metadata": {
    "ExecuteTime": {
     "end_time": "2018-07-24T17:22:17.248359Z",
     "start_time": "2018-07-24T17:22:17.239672Z"
    },
    "hidden": true
   },
   "outputs": [],
   "source": [
    "jobstreet_df.drop(thai.index, axis=0, inplace=True)"
   ]
  },
  {
   "cell_type": "code",
   "execution_count": null,
   "metadata": {
    "ExecuteTime": {
     "end_time": "2018-07-24T17:22:17.579792Z",
     "start_time": "2018-07-24T17:22:17.557319Z"
    },
    "hidden": true
   },
   "outputs": [],
   "source": [
    "jobstreet_df['Location'].value_counts()"
   ]
  },
  {
   "cell_type": "code",
   "execution_count": null,
   "metadata": {
    "ExecuteTime": {
     "end_time": "2018-07-24T17:22:17.925763Z",
     "start_time": "2018-07-24T17:22:17.916459Z"
    },
    "hidden": true
   },
   "outputs": [],
   "source": [
    "not_in_sg = jobstreet_df[~jobstreet_df['Location'].str.contains(\n",
    "    'Singapore|None')]"
   ]
  },
  {
   "cell_type": "code",
   "execution_count": null,
   "metadata": {
    "ExecuteTime": {
     "end_time": "2018-07-24T17:22:18.360552Z",
     "start_time": "2018-07-24T17:22:18.350776Z"
    },
    "hidden": true
   },
   "outputs": [],
   "source": [
    "jobstreet_df.drop(not_in_sg.index, axis=0, inplace=True)"
   ]
  },
  {
   "cell_type": "code",
   "execution_count": null,
   "metadata": {
    "ExecuteTime": {
     "end_time": "2018-07-24T17:22:18.725307Z",
     "start_time": "2018-07-24T17:22:18.701917Z"
    },
    "hidden": true
   },
   "outputs": [],
   "source": [
    "jobstreet_df['Location'].value_counts()"
   ]
  },
  {
   "cell_type": "code",
   "execution_count": null,
   "metadata": {
    "ExecuteTime": {
     "end_time": "2018-07-24T17:22:19.099653Z",
     "start_time": "2018-07-24T17:22:19.084395Z"
    },
    "hidden": true
   },
   "outputs": [],
   "source": [
    "jobstreet_df.info()"
   ]
  },
  {
   "cell_type": "markdown",
   "metadata": {
    "heading_collapsed": true,
    "hidden": true
   },
   "source": [
    "### !!!! PITSTOP !!!! - to_csv('Jobstreet_Ziig_FEng') prev, now Jobstreet_Ziig_FEng_1338"
   ]
  },
  {
   "cell_type": "code",
   "execution_count": null,
   "metadata": {
    "ExecuteTime": {
     "end_time": "2018-07-24T17:22:19.848331Z",
     "start_time": "2018-07-24T17:22:19.732772Z"
    },
    "hidden": true
   },
   "outputs": [],
   "source": [
    "jobstreet_df.to_csv('Jobstreet_Ziig_FEng_1338.csv')"
   ]
  },
  {
   "cell_type": "code",
   "execution_count": null,
   "metadata": {
    "ExecuteTime": {
     "end_time": "2018-07-24T17:22:21.833563Z",
     "start_time": "2018-07-24T17:22:21.741959Z"
    },
    "hidden": true
   },
   "outputs": [],
   "source": [
    "jobstreet_df = pd.read_csv('Jobstreet_Ziig_FEng_1338.csv')"
   ]
  },
  {
   "cell_type": "code",
   "execution_count": null,
   "metadata": {
    "ExecuteTime": {
     "end_time": "2018-07-24T17:22:24.034094Z",
     "start_time": "2018-07-24T17:22:24.025841Z"
    },
    "hidden": true
   },
   "outputs": [],
   "source": [
    "jobstreet_df = jobstreet_df.reset_index(drop=True)\n",
    "jobstreet_df = jobstreet_df.drop('Unnamed: 0', axis=1)"
   ]
  },
  {
   "cell_type": "markdown",
   "metadata": {
    "heading_collapsed": true,
    "hidden": true
   },
   "source": [
    "### Clean Up Address"
   ]
  },
  {
   "cell_type": "code",
   "execution_count": null,
   "metadata": {
    "ExecuteTime": {
     "end_time": "2018-07-24T17:22:25.587523Z",
     "start_time": "2018-07-24T17:22:25.578382Z"
    },
    "hidden": true
   },
   "outputs": [],
   "source": [
    "mask = (jobstreet_df['Address'].str.len() < 5)\n",
    "df = jobstreet_df.loc[mask]"
   ]
  },
  {
   "cell_type": "code",
   "execution_count": null,
   "metadata": {
    "ExecuteTime": {
     "end_time": "2018-07-24T17:22:25.924163Z",
     "start_time": "2018-07-24T17:22:25.909709Z"
    },
    "hidden": true
   },
   "outputs": [],
   "source": [
    "df.Address.value_counts()"
   ]
  },
  {
   "cell_type": "code",
   "execution_count": null,
   "metadata": {
    "ExecuteTime": {
     "end_time": "2018-07-24T17:22:26.185557Z",
     "start_time": "2018-07-24T17:22:26.178177Z"
    },
    "hidden": true
   },
   "outputs": [],
   "source": [
    "def address_to_null(x):\n",
    "    if x in ['None', '-', '.']:\n",
    "        return np.nan  # Replace with NaNs\n",
    "    else:\n",
    "        return x"
   ]
  },
  {
   "cell_type": "code",
   "execution_count": null,
   "metadata": {
    "ExecuteTime": {
     "end_time": "2018-07-24T17:22:26.383785Z",
     "start_time": "2018-07-24T17:22:26.375672Z"
    },
    "hidden": true
   },
   "outputs": [],
   "source": [
    "jobstreet_df['Address'] = jobstreet_df['Address'].apply(address_to_null)"
   ]
  },
  {
   "cell_type": "code",
   "execution_count": null,
   "metadata": {
    "ExecuteTime": {
     "end_time": "2018-07-24T17:22:26.599950Z",
     "start_time": "2018-07-24T17:22:26.577573Z"
    },
    "hidden": true
   },
   "outputs": [],
   "source": [
    "jobstreet_df['Address'].value_counts()"
   ]
  },
  {
   "cell_type": "markdown",
   "metadata": {
    "heading_collapsed": true,
    "hidden": true
   },
   "source": [
    "### Clean up Base Title"
   ]
  },
  {
   "cell_type": "code",
   "execution_count": null,
   "metadata": {
    "ExecuteTime": {
     "end_time": "2018-07-24T17:22:27.221045Z",
     "start_time": "2018-07-24T17:22:27.210885Z"
    },
    "hidden": true
   },
   "outputs": [],
   "source": [
    "# EXTRACT MORE BASE TITLES"
   ]
  },
  {
   "cell_type": "code",
   "execution_count": null,
   "metadata": {
    "ExecuteTime": {
     "end_time": "2018-07-24T17:22:27.418479Z",
     "start_time": "2018-07-24T17:22:27.403700Z"
    },
    "hidden": true
   },
   "outputs": [],
   "source": [
    "ActuallyDA = jobstreet_df[(jobstreet_df['Industry'] == 'Human Resources Management/Consulting')\n",
    "                          & (jobstreet_df['JD'].str.contains('Data Analyst'))\n",
    "                          & (jobstreet_df['Base Title'] == 'OTHER')]"
   ]
  },
  {
   "cell_type": "code",
   "execution_count": null,
   "metadata": {
    "ExecuteTime": {
     "end_time": "2018-07-24T17:22:28.107986Z",
     "start_time": "2018-07-24T17:22:28.101633Z"
    },
    "hidden": true
   },
   "outputs": [],
   "source": [
    "jobstreet_df.iloc[ActuallyDA.index, df.columns.get_loc('Base Title')] = 'DA'"
   ]
  },
  {
   "cell_type": "code",
   "execution_count": null,
   "metadata": {
    "ExecuteTime": {
     "end_time": "2018-07-24T17:22:28.356921Z",
     "start_time": "2018-07-24T17:22:28.344022Z"
    },
    "hidden": true
   },
   "outputs": [],
   "source": [
    "jobstreet_df.iloc[ActuallyDA.index, df.columns.get_loc('Base Title')]"
   ]
  },
  {
   "cell_type": "code",
   "execution_count": null,
   "metadata": {
    "ExecuteTime": {
     "end_time": "2018-07-24T17:22:30.931032Z",
     "start_time": "2018-07-24T17:22:30.914374Z"
    },
    "hidden": true,
    "scrolled": true
   },
   "outputs": [],
   "source": [
    "# DROP COZ WE DONT NEED MORE OF THESE ENTRIES (10 of them)\n",
    "ToDrop = jobstreet_df[(jobstreet_df['Industry'] == 'Human Resources Management/Consulting')\n",
    "                      & (jobstreet_df['JD'].str.contains('Business Analyst'))\n",
    "                      & (jobstreet_df['Base Title'] == 'OTHER')]  # ['JD'].values"
   ]
  },
  {
   "cell_type": "code",
   "execution_count": null,
   "metadata": {
    "ExecuteTime": {
     "end_time": "2018-07-24T17:22:33.175947Z",
     "start_time": "2018-07-24T17:22:33.166368Z"
    },
    "hidden": true
   },
   "outputs": [],
   "source": [
    "ToDrop.index"
   ]
  },
  {
   "cell_type": "code",
   "execution_count": null,
   "metadata": {
    "ExecuteTime": {
     "end_time": "2018-07-24T17:22:34.175103Z",
     "start_time": "2018-07-24T17:22:34.166833Z"
    },
    "hidden": true
   },
   "outputs": [],
   "source": [
    "jobstreet_df.drop(ToDrop.index, axis=0, inplace=True)"
   ]
  },
  {
   "cell_type": "code",
   "execution_count": null,
   "metadata": {
    "ExecuteTime": {
     "end_time": "2018-07-24T17:22:34.925327Z",
     "start_time": "2018-07-24T17:22:34.913553Z"
    },
    "hidden": true
   },
   "outputs": [],
   "source": [
    "jobstreet_df['Base Title'].value_counts()"
   ]
  },
  {
   "cell_type": "markdown",
   "metadata": {
    "heading_collapsed": true,
    "hidden": true
   },
   "source": [
    "#### CHECK RESEARCH SCIENTIST AND REASSIGN, DROP THOSE TOO SPECIALIZED"
   ]
  },
  {
   "cell_type": "code",
   "execution_count": null,
   "metadata": {
    "ExecuteTime": {
     "end_time": "2018-07-24T17:22:37.650116Z",
     "start_time": "2018-07-24T17:22:37.644887Z"
    },
    "hidden": true
   },
   "outputs": [],
   "source": [
    "comList = ['Institute for Infocomm Research', 'Singapore Management University', 'None',\n",
    "           'SINGAPORE VCYBER TECHNOLOGY PTE LTD', 'National University of Singapore, Office of Human Resources']"
   ]
  },
  {
   "cell_type": "code",
   "execution_count": null,
   "metadata": {
    "ExecuteTime": {
     "end_time": "2018-07-24T17:22:38.171671Z",
     "start_time": "2018-07-24T17:22:38.165962Z"
    },
    "hidden": true
   },
   "outputs": [],
   "source": [
    "pattern = '|'.join(comList)"
   ]
  },
  {
   "cell_type": "code",
   "execution_count": null,
   "metadata": {
    "ExecuteTime": {
     "end_time": "2018-07-24T17:22:38.560645Z",
     "start_time": "2018-07-24T17:22:38.551240Z"
    },
    "hidden": true,
    "scrolled": true
   },
   "outputs": [],
   "source": [
    "ToDrop = jobstreet_df[(jobstreet_df['Base Title'] == 'RS') & (\n",
    "    ~jobstreet_df['Company'].str.contains(pattern))]"
   ]
  },
  {
   "cell_type": "code",
   "execution_count": null,
   "metadata": {
    "ExecuteTime": {
     "end_time": "2018-07-24T17:22:38.761694Z",
     "start_time": "2018-07-24T17:22:38.753468Z"
    },
    "hidden": true
   },
   "outputs": [],
   "source": [
    "jobstreet_df.drop(ToDrop.index, axis=0, inplace=True)"
   ]
  },
  {
   "cell_type": "markdown",
   "metadata": {
    "heading_collapsed": true,
    "hidden": true
   },
   "source": [
    "#### Fix those job roles who are actually DS"
   ]
  },
  {
   "cell_type": "code",
   "execution_count": null,
   "metadata": {
    "ExecuteTime": {
     "end_time": "2018-07-24T17:22:39.581894Z",
     "start_time": "2018-07-24T17:22:39.572802Z"
    },
    "hidden": true,
    "scrolled": false
   },
   "outputs": [],
   "source": [
    "ActuallyDS = jobstreet_df[(jobstreet_df['Base Title'] == 'RS') & (\n",
    "    jobstreet_df['Company'].str.contains(pattern))]"
   ]
  },
  {
   "cell_type": "code",
   "execution_count": null,
   "metadata": {
    "ExecuteTime": {
     "end_time": "2018-07-24T17:22:40.129262Z",
     "start_time": "2018-07-24T17:22:40.121702Z"
    },
    "hidden": true
   },
   "outputs": [],
   "source": [
    "jobstreet_df['Base Title'] = jobstreet_df['Base Title'].apply(\n",
    "    lambda x: 'DS' if x == 'RS' else x)"
   ]
  },
  {
   "cell_type": "code",
   "execution_count": null,
   "metadata": {
    "ExecuteTime": {
     "end_time": "2018-07-24T17:22:40.429506Z",
     "start_time": "2018-07-24T17:22:40.416254Z"
    },
    "hidden": true
   },
   "outputs": [],
   "source": [
    "# /jobstreet_df['Base Title'].value_counts().sum()\n",
    "jobstreet_df['Base Title'].value_counts()"
   ]
  },
  {
   "cell_type": "code",
   "execution_count": null,
   "metadata": {
    "ExecuteTime": {
     "end_time": "2018-07-24T17:22:41.059283Z",
     "start_time": "2018-07-24T17:22:41.046479Z"
    },
    "hidden": true
   },
   "outputs": [],
   "source": [
    "jobstreet_df.info()"
   ]
  },
  {
   "cell_type": "code",
   "execution_count": null,
   "metadata": {
    "ExecuteTime": {
     "end_time": "2018-07-24T17:22:42.867458Z",
     "start_time": "2018-07-24T17:22:42.862227Z"
    },
    "hidden": true,
    "scrolled": false
   },
   "outputs": [],
   "source": [
    "#jobstreet_df[(jobstreet_df['Base Title'] == 'OTHER')&(jobstreet_df['Title'].str.contains('data|DATA|Data|Analytics'))]['Title'].value_counts()"
   ]
  },
  {
   "cell_type": "markdown",
   "metadata": {
    "heading_collapsed": true,
    "hidden": true
   },
   "source": [
    "### !!!! PITSTOP !!!! - BACK UP CSV"
   ]
  },
  {
   "cell_type": "code",
   "execution_count": null,
   "metadata": {
    "ExecuteTime": {
     "end_time": "2018-07-24T17:22:44.948131Z",
     "start_time": "2018-07-24T17:22:44.844144Z"
    },
    "hidden": true
   },
   "outputs": [],
   "source": [
    "# BACK UP\n",
    "jobstreet_df.to_csv('Jobstreet_Ziig_FEng_1313_354pm.csv')"
   ]
  },
  {
   "cell_type": "markdown",
   "metadata": {
    "heading_collapsed": true,
    "hidden": true
   },
   "source": [
    "### CONTINUE ON "
   ]
  },
  {
   "cell_type": "markdown",
   "metadata": {
    "heading_collapsed": true,
    "hidden": true
   },
   "source": [
    "### REMOVE Base Title = OTHER"
   ]
  },
  {
   "cell_type": "code",
   "execution_count": null,
   "metadata": {
    "ExecuteTime": {
     "end_time": "2018-07-24T17:22:47.475998Z",
     "start_time": "2018-07-24T17:22:47.395085Z"
    },
    "hidden": true
   },
   "outputs": [],
   "source": [
    "jobstreet_df = pd.read_csv('Jobstreet_Ziig_FEng_1313_354pm.csv')\n",
    "jobstreet_df = jobstreet_df.reset_index(drop=True)\n",
    "jobstreet_df = jobstreet_df.drop('Unnamed: 0', axis=1)"
   ]
  },
  {
   "cell_type": "code",
   "execution_count": null,
   "metadata": {
    "ExecuteTime": {
     "end_time": "2018-07-24T17:22:47.904981Z",
     "start_time": "2018-07-24T17:22:47.898083Z"
    },
    "hidden": true
   },
   "outputs": [],
   "source": [
    "other = jobstreet_df[jobstreet_df['Base Title'] == 'OTHER']"
   ]
  },
  {
   "cell_type": "code",
   "execution_count": null,
   "metadata": {
    "ExecuteTime": {
     "end_time": "2018-07-24T17:22:48.355862Z",
     "start_time": "2018-07-24T17:22:48.345897Z"
    },
    "hidden": true
   },
   "outputs": [],
   "source": [
    "jobstreet_df = jobstreet_df.drop(other.index, axis=0)"
   ]
  },
  {
   "cell_type": "code",
   "execution_count": null,
   "metadata": {
    "ExecuteTime": {
     "end_time": "2018-07-24T17:22:48.928874Z",
     "start_time": "2018-07-24T17:22:48.913619Z"
    },
    "hidden": true
   },
   "outputs": [],
   "source": [
    "jobstreet_df['Base Title'].value_counts(\n",
    ")/jobstreet_df['Base Title'].value_counts().sum()*100"
   ]
  },
  {
   "cell_type": "code",
   "execution_count": null,
   "metadata": {
    "ExecuteTime": {
     "end_time": "2018-07-24T17:22:49.497720Z",
     "start_time": "2018-07-24T17:22:49.485024Z"
    },
    "hidden": true,
    "scrolled": true
   },
   "outputs": [],
   "source": [
    "jobstreet_df.info()"
   ]
  },
  {
   "cell_type": "markdown",
   "metadata": {
    "heading_collapsed": true,
    "hidden": true
   },
   "source": [
    "### Fix Salary"
   ]
  },
  {
   "cell_type": "code",
   "execution_count": null,
   "metadata": {
    "ExecuteTime": {
     "end_time": "2018-07-24T17:22:51.701511Z",
     "start_time": "2018-07-24T17:22:51.683786Z"
    },
    "hidden": true,
    "scrolled": true
   },
   "outputs": [],
   "source": [
    "jobstreet_df.Salary.value_counts()"
   ]
  },
  {
   "cell_type": "code",
   "execution_count": null,
   "metadata": {
    "ExecuteTime": {
     "end_time": "2018-07-24T17:22:52.154187Z",
     "start_time": "2018-07-24T17:22:52.146461Z"
    },
    "hidden": true
   },
   "outputs": [],
   "source": [
    "jobstreet_df.drop(jobstreet_df[jobstreet_df.Salary ==\n",
    "                               'MYR15000-MYR25000'].index, axis=0, inplace=True)"
   ]
  },
  {
   "cell_type": "code",
   "execution_count": null,
   "metadata": {
    "ExecuteTime": {
     "end_time": "2018-07-24T17:22:52.464743Z",
     "start_time": "2018-07-24T17:22:52.456108Z"
    },
    "hidden": true
   },
   "outputs": [],
   "source": [
    "jobstreet_df.drop(\n",
    "    jobstreet_df[jobstreet_df.Salary == '375-417'].index, axis=0, inplace=True)"
   ]
  },
  {
   "cell_type": "code",
   "execution_count": null,
   "metadata": {
    "ExecuteTime": {
     "end_time": "2018-07-24T17:22:52.948872Z",
     "start_time": "2018-07-24T17:22:52.941158Z"
    },
    "hidden": true
   },
   "outputs": [],
   "source": [
    "# FIX Salary\n",
    "# EXPECTED SALARY = 4000\n",
    "# AROUND EXPECTED SALARY = 4000 --> 3750-4250 Aroundexpectedsalary\n",
    "# ABOVE EXPECTED SALARY = 4000 + 1K --> 4750-5250 Aboveexpectedsalary\n",
    "# BELOW EXPECTED SALARY = 4000 - 1K --> 2750-3250 Belowexpectedsalary"
   ]
  },
  {
   "cell_type": "code",
   "execution_count": null,
   "metadata": {
    "ExecuteTime": {
     "end_time": "2018-07-24T17:22:53.582116Z",
     "start_time": "2018-07-24T17:22:53.577268Z"
    },
    "hidden": true
   },
   "outputs": [],
   "source": [
    "# SPLIT SALARY INTO MIN AND MAX FEATURES, THEN EVENTUALLY CALCULATE MEAN\n",
    "## IMPUTE SALARY"
   ]
  },
  {
   "cell_type": "code",
   "execution_count": null,
   "metadata": {
    "ExecuteTime": {
     "end_time": "2018-07-24T17:22:53.985142Z",
     "start_time": "2018-07-24T17:22:53.974013Z"
    },
    "hidden": true
   },
   "outputs": [],
   "source": [
    "def fix_sal_min(x):\n",
    "    if x == 'Aroundexpectedsalary':\n",
    "        return 4000.0\n",
    "    elif x == 'Aboveexpectedsalary':\n",
    "        return 4750.0\n",
    "    elif x == 'Belowexpectedsalary':\n",
    "        return 2750.0\n",
    "    elif x == 'None':\n",
    "        return x\n",
    "    else:\n",
    "        new_min = float(x.split('-')[0])\n",
    "        if new_min > 10000:  # eyeball from value_counts()\n",
    "            return new_min/12\n",
    "        else:\n",
    "            return new_min"
   ]
  },
  {
   "cell_type": "code",
   "execution_count": null,
   "metadata": {
    "ExecuteTime": {
     "end_time": "2018-07-24T17:22:54.558017Z",
     "start_time": "2018-07-24T17:22:54.547343Z"
    },
    "hidden": true
   },
   "outputs": [],
   "source": [
    "def fix_sal_max(x):\n",
    "    if x == 'Aroundexpectedsalary':\n",
    "        return 4250.0\n",
    "    elif x == 'Aboveexpectedsalary':\n",
    "        return 5250.0\n",
    "    elif x == 'Belowexpectedsalary':\n",
    "        return 3250.0\n",
    "    elif x == 'None':\n",
    "        return x\n",
    "    else:\n",
    "        #print x\n",
    "        new_max = float(x.split('-')[1])\n",
    "        if new_max > 12600:  # eyeball from value_counts()\n",
    "            return new_max/12\n",
    "        else:\n",
    "            return new_max"
   ]
  },
  {
   "cell_type": "code",
   "execution_count": null,
   "metadata": {
    "ExecuteTime": {
     "end_time": "2018-07-24T17:22:55.308115Z",
     "start_time": "2018-07-24T17:22:55.301136Z"
    },
    "hidden": true
   },
   "outputs": [],
   "source": [
    "jobstreet_df['Min Sal'] = jobstreet_df['Salary'].apply(fix_sal_min)"
   ]
  },
  {
   "cell_type": "code",
   "execution_count": null,
   "metadata": {
    "ExecuteTime": {
     "end_time": "2018-07-24T17:22:55.720541Z",
     "start_time": "2018-07-24T17:22:55.714324Z"
    },
    "hidden": true
   },
   "outputs": [],
   "source": [
    "jobstreet_df['Max Sal'] = jobstreet_df['Salary'].apply(fix_sal_max)"
   ]
  },
  {
   "cell_type": "markdown",
   "metadata": {
    "heading_collapsed": true,
    "hidden": true
   },
   "source": [
    "### Impute 'None' Salary"
   ]
  },
  {
   "cell_type": "code",
   "execution_count": null,
   "metadata": {
    "ExecuteTime": {
     "end_time": "2018-07-24T17:22:57.164590Z",
     "start_time": "2018-07-24T17:22:57.035290Z"
    },
    "hidden": true,
    "scrolled": true
   },
   "outputs": [],
   "source": [
    "jobstreet_df[jobstreet_df.Salary == 'None']"
   ]
  },
  {
   "cell_type": "code",
   "execution_count": null,
   "metadata": {
    "ExecuteTime": {
     "end_time": "2018-07-24T17:23:04.328713Z",
     "start_time": "2018-07-24T17:23:04.310501Z"
    },
    "hidden": true
   },
   "outputs": [],
   "source": [
    "# SENIOR EXECUTIVE + DA MIN MAX\n",
    "jobstreet_df[(jobstreet_df['Job Level'] == 'Senior Executive')\n",
    "             & (jobstreet_df['Base Title'] == 'DA')\n",
    "             & (jobstreet_df['Min Sal'] != 'None')\n",
    "             & (jobstreet_df['Max Sal'] != 'None')][['Min Sal', 'Max Sal']].mean()\n",
    "\n",
    "# Min Sal    4161.458333\n",
    "# Max Sal    5151.041667"
   ]
  },
  {
   "cell_type": "code",
   "execution_count": null,
   "metadata": {
    "ExecuteTime": {
     "end_time": "2018-07-24T17:23:05.085397Z",
     "start_time": "2018-07-24T17:23:05.070647Z"
    },
    "hidden": true
   },
   "outputs": [],
   "source": [
    "x = jobstreet_df[(jobstreet_df['Job Level'] == 'Senior Executive')\n",
    "                 & (jobstreet_df['Base Title'] == 'DA')\n",
    "                 & (jobstreet_df['Min Sal'] == 'None')\n",
    "                 & (jobstreet_df['Max Sal'] == 'None')]\n",
    "\n",
    "x.index"
   ]
  },
  {
   "cell_type": "code",
   "execution_count": null,
   "metadata": {
    "ExecuteTime": {
     "end_time": "2018-07-24T17:23:05.604663Z",
     "start_time": "2018-07-24T17:23:05.597052Z"
    },
    "hidden": true
   },
   "outputs": [],
   "source": [
    "jobstreet_df.loc[x.index, 'Min Sal'] = 4161.458333\n",
    "jobstreet_df.loc[x.index, 'Max Sal'] = 5151.041667"
   ]
  },
  {
   "cell_type": "code",
   "execution_count": null,
   "metadata": {
    "ExecuteTime": {
     "end_time": "2018-07-24T17:23:05.844052Z",
     "start_time": "2018-07-24T17:23:05.824809Z"
    },
    "hidden": true
   },
   "outputs": [],
   "source": [
    "# SENIOR MANAGER + DA MIN MAX\n",
    "jobstreet_df[(jobstreet_df['Job Level'] == 'Senior Manager')\n",
    "             & (jobstreet_df['Base Title'] == 'DA')\n",
    "             & (jobstreet_df['Min Sal'] != 'None')\n",
    "             & (jobstreet_df['Max Sal'] != 'None')][['Min Sal', 'Max Sal']].mean()\n",
    "\n",
    "# Min Sal     9000.0\n",
    "# Max Sal    12000.0"
   ]
  },
  {
   "cell_type": "code",
   "execution_count": null,
   "metadata": {
    "ExecuteTime": {
     "end_time": "2018-07-24T17:23:06.024568Z",
     "start_time": "2018-07-24T17:23:06.007492Z"
    },
    "hidden": true
   },
   "outputs": [],
   "source": [
    "x = jobstreet_df[(jobstreet_df['Job Level'] == 'Senior Manager')\n",
    "                 & (jobstreet_df['Base Title'] == 'DA')\n",
    "                 & (jobstreet_df['Min Sal'] == 'None')\n",
    "                 & (jobstreet_df['Max Sal'] == 'None')]\n",
    "\n",
    "x.index"
   ]
  },
  {
   "cell_type": "code",
   "execution_count": null,
   "metadata": {
    "ExecuteTime": {
     "end_time": "2018-07-24T17:23:06.213804Z",
     "start_time": "2018-07-24T17:23:06.204187Z"
    },
    "hidden": true
   },
   "outputs": [],
   "source": [
    "jobstreet_df.loc[x.index, 'Min Sal'] = 9000.0\n",
    "jobstreet_df.loc[x.index, 'Max Sal'] = 12000.0"
   ]
  },
  {
   "cell_type": "code",
   "execution_count": null,
   "metadata": {
    "ExecuteTime": {
     "end_time": "2018-07-24T17:23:06.368414Z",
     "start_time": "2018-07-24T17:23:06.347921Z"
    },
    "hidden": true
   },
   "outputs": [],
   "source": [
    "# JUNIOR EXECUTIVE + DA MIN MAX\n",
    "jobstreet_df[(jobstreet_df['Job Level'] == 'Junior Executive')\n",
    "             & (jobstreet_df['Base Title'] == 'DA')\n",
    "             & (jobstreet_df['Min Sal'] != 'None')\n",
    "             & (jobstreet_df['Max Sal'] != 'None')][['Min Sal', 'Max Sal']].mean()\n",
    "\n",
    "# Min Sal    3621.794872\n",
    "# Max Sal    4589.743590"
   ]
  },
  {
   "cell_type": "code",
   "execution_count": null,
   "metadata": {
    "ExecuteTime": {
     "end_time": "2018-07-24T17:23:06.551724Z",
     "start_time": "2018-07-24T17:23:06.534287Z"
    },
    "hidden": true
   },
   "outputs": [],
   "source": [
    "x = jobstreet_df[(jobstreet_df['Job Level'] == 'Junior Executive')\n",
    "                 & (jobstreet_df['Base Title'] == 'DA')\n",
    "                 & (jobstreet_df['Min Sal'] == 'None')\n",
    "                 & (jobstreet_df['Max Sal'] == 'None')]\n",
    "\n",
    "x.index"
   ]
  },
  {
   "cell_type": "code",
   "execution_count": null,
   "metadata": {
    "ExecuteTime": {
     "end_time": "2018-07-24T17:23:06.692116Z",
     "start_time": "2018-07-24T17:23:06.682571Z"
    },
    "hidden": true
   },
   "outputs": [],
   "source": [
    "jobstreet_df.loc[x.index, 'Min Sal'] = 3621.794872\n",
    "jobstreet_df.loc[x.index, 'Max Sal'] = 4589.743590"
   ]
  },
  {
   "cell_type": "code",
   "execution_count": null,
   "metadata": {
    "ExecuteTime": {
     "end_time": "2018-07-24T17:23:06.851619Z",
     "start_time": "2018-07-24T17:23:06.831748Z"
    },
    "hidden": true
   },
   "outputs": [],
   "source": [
    "# SENIOR EXECUTIVE + BA MIN MAX\n",
    "jobstreet_df[(jobstreet_df['Job Level'] == 'Senior Executive')\n",
    "             & (jobstreet_df['Base Title'] == 'BA')\n",
    "             & (jobstreet_df['Min Sal'] != 'None')\n",
    "             & (jobstreet_df['Max Sal'] != 'None')][['Min Sal', 'Max Sal']].mean()\n",
    "\n",
    "# Min Sal    4390.254237\n",
    "# Max Sal    5536.440678"
   ]
  },
  {
   "cell_type": "code",
   "execution_count": null,
   "metadata": {
    "ExecuteTime": {
     "end_time": "2018-07-24T17:23:07.393868Z",
     "start_time": "2018-07-24T17:23:07.379293Z"
    },
    "hidden": true
   },
   "outputs": [],
   "source": [
    "x = jobstreet_df[(jobstreet_df['Job Level'] == 'Senior Executive')\n",
    "                 & (jobstreet_df['Base Title'] == 'BA')\n",
    "                 & (jobstreet_df['Min Sal'] == 'None')\n",
    "                 & (jobstreet_df['Max Sal'] == 'None')]\n",
    "\n",
    "x.index"
   ]
  },
  {
   "cell_type": "code",
   "execution_count": null,
   "metadata": {
    "ExecuteTime": {
     "end_time": "2018-07-24T17:23:07.588617Z",
     "start_time": "2018-07-24T17:23:07.579986Z"
    },
    "hidden": true
   },
   "outputs": [],
   "source": [
    "jobstreet_df.loc[x.index, 'Min Sal'] = 4390.254237\n",
    "jobstreet_df.loc[x.index, 'Max Sal'] = 5536.440678"
   ]
  },
  {
   "cell_type": "code",
   "execution_count": null,
   "metadata": {
    "ExecuteTime": {
     "end_time": "2018-07-24T17:23:07.760592Z",
     "start_time": "2018-07-24T17:23:07.743350Z"
    },
    "hidden": true
   },
   "outputs": [],
   "source": [
    "# JUNIOR EXECUTIVE + BA MIN MAX\n",
    "jobstreet_df[(jobstreet_df['Job Level'] == 'Junior Executive')\n",
    "             & (jobstreet_df['Base Title'] == 'BA')\n",
    "             & (jobstreet_df['Min Sal'] != 'None')\n",
    "             & (jobstreet_df['Max Sal'] != 'None')][['Min Sal', 'Max Sal']].mean()\n",
    "\n",
    "# Min Sal    3803.968254\n",
    "# Max Sal    4657.666667"
   ]
  },
  {
   "cell_type": "code",
   "execution_count": null,
   "metadata": {
    "ExecuteTime": {
     "end_time": "2018-07-24T17:23:08.240107Z",
     "start_time": "2018-07-24T17:23:08.226104Z"
    },
    "hidden": true
   },
   "outputs": [],
   "source": [
    "x = jobstreet_df[(jobstreet_df['Job Level'] == 'Junior Executive')\n",
    "                 & (jobstreet_df['Base Title'] == 'BA')\n",
    "                 & (jobstreet_df['Min Sal'] == 'None')\n",
    "                 & (jobstreet_df['Max Sal'] == 'None')]\n",
    "\n",
    "x.index"
   ]
  },
  {
   "cell_type": "code",
   "execution_count": null,
   "metadata": {
    "ExecuteTime": {
     "end_time": "2018-07-24T17:23:08.413631Z",
     "start_time": "2018-07-24T17:23:08.404274Z"
    },
    "hidden": true
   },
   "outputs": [],
   "source": [
    "jobstreet_df.loc[x.index, 'Min Sal'] = 3803.968254\n",
    "jobstreet_df.loc[x.index, 'Max Sal'] = 4657.666667"
   ]
  },
  {
   "cell_type": "code",
   "execution_count": null,
   "metadata": {
    "ExecuteTime": {
     "end_time": "2018-07-24T17:23:08.977923Z",
     "start_time": "2018-07-24T17:23:08.959529Z"
    },
    "hidden": true
   },
   "outputs": [],
   "source": [
    "# SENIOR MANAGER + BA MIN MAX\n",
    "jobstreet_df[(jobstreet_df['Job Level'] == 'Senior Manager')\n",
    "             & (jobstreet_df['Base Title'] == 'BA')\n",
    "             & (jobstreet_df['Min Sal'] != 'None')\n",
    "             & (jobstreet_df['Max Sal'] != 'None')][['Min Sal', 'Max Sal']].mean()\n",
    "\n",
    "# Min Sal    5125.0\n",
    "# Max Sal    6125.0"
   ]
  },
  {
   "cell_type": "code",
   "execution_count": null,
   "metadata": {
    "ExecuteTime": {
     "end_time": "2018-07-24T17:23:09.153056Z",
     "start_time": "2018-07-24T17:23:09.137650Z"
    },
    "hidden": true
   },
   "outputs": [],
   "source": [
    "x = jobstreet_df[(jobstreet_df['Job Level'] == 'Senior Manager')\n",
    "                 & (jobstreet_df['Base Title'] == 'BA')\n",
    "                 & (jobstreet_df['Min Sal'] == 'None')\n",
    "                 & (jobstreet_df['Max Sal'] == 'None')]\n",
    "\n",
    "x.index"
   ]
  },
  {
   "cell_type": "code",
   "execution_count": null,
   "metadata": {
    "ExecuteTime": {
     "end_time": "2018-07-24T17:23:09.330335Z",
     "start_time": "2018-07-24T17:23:09.320821Z"
    },
    "hidden": true
   },
   "outputs": [],
   "source": [
    "jobstreet_df.loc[x.index, 'Min Sal'] = 5125.0\n",
    "jobstreet_df.loc[x.index, 'Max Sal'] = 6125.0"
   ]
  },
  {
   "cell_type": "code",
   "execution_count": null,
   "metadata": {
    "ExecuteTime": {
     "end_time": "2018-07-24T17:23:09.726466Z",
     "start_time": "2018-07-24T17:23:09.708509Z"
    },
    "hidden": true
   },
   "outputs": [],
   "source": [
    "# MANAGER + BA MIN MAX\n",
    "jobstreet_df[(jobstreet_df['Job Level'] == 'Manager')\n",
    "             & (jobstreet_df['Base Title'] == 'BA')\n",
    "             & (jobstreet_df['Min Sal'] != 'None')\n",
    "             & (jobstreet_df['Max Sal'] != 'None')][['Min Sal', 'Max Sal']].mean()\n",
    "\n",
    "# Min Sal    4538.461538\n",
    "# Max Sal    5834.615385"
   ]
  },
  {
   "cell_type": "code",
   "execution_count": null,
   "metadata": {
    "ExecuteTime": {
     "end_time": "2018-07-24T17:23:09.924914Z",
     "start_time": "2018-07-24T17:23:09.908909Z"
    },
    "hidden": true
   },
   "outputs": [],
   "source": [
    "x = jobstreet_df[(jobstreet_df['Job Level'] == 'Manager')\n",
    "                 & (jobstreet_df['Base Title'] == 'BA')\n",
    "                 & (jobstreet_df['Min Sal'] == 'None')\n",
    "                 & (jobstreet_df['Max Sal'] == 'None')]\n",
    "\n",
    "x.index"
   ]
  },
  {
   "cell_type": "code",
   "execution_count": null,
   "metadata": {
    "ExecuteTime": {
     "end_time": "2018-07-24T17:23:10.106548Z",
     "start_time": "2018-07-24T17:23:10.096271Z"
    },
    "hidden": true
   },
   "outputs": [],
   "source": [
    "jobstreet_df.loc[x.index, 'Min Sal'] = 4538.461538\n",
    "jobstreet_df.loc[x.index, 'Max Sal'] = 5834.615385"
   ]
  },
  {
   "cell_type": "code",
   "execution_count": null,
   "metadata": {
    "ExecuteTime": {
     "end_time": "2018-07-24T17:23:10.490144Z",
     "start_time": "2018-07-24T17:23:10.473725Z"
    },
    "hidden": true
   },
   "outputs": [],
   "source": [
    "# SENIOR MANAGER + DArch MIN MAX (NO BASE TITLE REFERENCE, SO USE INDUSTRY)\n",
    "jobstreet_df[(jobstreet_df['Job Level'] == 'Senior Manager')\n",
    "             & (jobstreet_df['Industry'] == 'Education')\n",
    "             & (jobstreet_df['Min Sal'] != 'None')\n",
    "             & (jobstreet_df['Max Sal'] != 'None')][['Min Sal', 'Max Sal']].mean()\n",
    "\n",
    "# Min Sal    4562.5\n",
    "# Max Sal    5937.5"
   ]
  },
  {
   "cell_type": "code",
   "execution_count": null,
   "metadata": {
    "ExecuteTime": {
     "end_time": "2018-07-24T17:23:10.718875Z",
     "start_time": "2018-07-24T17:23:10.702944Z"
    },
    "hidden": true
   },
   "outputs": [],
   "source": [
    "x = jobstreet_df[(jobstreet_df['Job Level'] == 'Senior Manager')\n",
    "                 & (jobstreet_df['Industry'] == 'Education')\n",
    "                 & (jobstreet_df['Min Sal'] == 'None')\n",
    "                 & (jobstreet_df['Max Sal'] == 'None')]\n",
    "\n",
    "x.index"
   ]
  },
  {
   "cell_type": "code",
   "execution_count": null,
   "metadata": {
    "ExecuteTime": {
     "end_time": "2018-07-24T17:23:10.911858Z",
     "start_time": "2018-07-24T17:23:10.903079Z"
    },
    "hidden": true
   },
   "outputs": [],
   "source": [
    "jobstreet_df.loc[x.index, 'Min Sal'] = 4562.5\n",
    "jobstreet_df.loc[x.index, 'Max Sal'] = 5937.5"
   ]
  },
  {
   "cell_type": "code",
   "execution_count": null,
   "metadata": {
    "ExecuteTime": {
     "end_time": "2018-07-24T17:23:11.255966Z",
     "start_time": "2018-07-24T17:23:11.237898Z"
    },
    "hidden": true
   },
   "outputs": [],
   "source": [
    "# SENIOR MANAGER + DE MIN MAX (NO BASE TITLE REFERENCE, SO USE INDUSTRY) - Banking/Financial Services\n",
    "jobstreet_df[(jobstreet_df['Job Level'] == 'Senior Manager')\n",
    "             & (jobstreet_df['Industry'] == 'Banking/Financial Services')\n",
    "             & (jobstreet_df['Min Sal'] != 'None')\n",
    "             & (jobstreet_df['Max Sal'] != 'None')][['Min Sal', 'Max Sal']].mean()\n",
    "\n",
    "# Min Sal    7062.5\n",
    "# Max Sal    9062.5"
   ]
  },
  {
   "cell_type": "code",
   "execution_count": null,
   "metadata": {
    "ExecuteTime": {
     "end_time": "2018-07-24T17:23:11.472449Z",
     "start_time": "2018-07-24T17:23:11.456029Z"
    },
    "hidden": true
   },
   "outputs": [],
   "source": [
    "x = jobstreet_df[(jobstreet_df['Job Level'] == 'Senior Manager')\n",
    "                 & (jobstreet_df['Industry'] == 'Banking/Financial Services')\n",
    "                 & (jobstreet_df['Min Sal'] == 'None')\n",
    "                 & (jobstreet_df['Max Sal'] == 'None')]\n",
    "\n",
    "x.index"
   ]
  },
  {
   "cell_type": "code",
   "execution_count": null,
   "metadata": {
    "ExecuteTime": {
     "end_time": "2018-07-24T17:23:11.596598Z",
     "start_time": "2018-07-24T17:23:11.587208Z"
    },
    "hidden": true
   },
   "outputs": [],
   "source": [
    "jobstreet_df.loc[x.index, 'Min Sal'] = 7062.5\n",
    "jobstreet_df.loc[x.index, 'Max Sal'] = 9062.5"
   ]
  },
  {
   "cell_type": "code",
   "execution_count": null,
   "metadata": {
    "ExecuteTime": {
     "end_time": "2018-07-24T17:23:11.973836Z",
     "start_time": "2018-07-24T17:23:11.954068Z"
    },
    "hidden": true
   },
   "outputs": [],
   "source": [
    "# JUNIOR EXECUTIVE + BI MIN MAX\n",
    "jobstreet_df[(jobstreet_df['Job Level'] == 'Junior Executive')\n",
    "             & (jobstreet_df['Base Title'] == 'BI')\n",
    "             & (jobstreet_df['Min Sal'] != 'None')\n",
    "             & (jobstreet_df['Max Sal'] != 'None')][['Min Sal', 'Max Sal']].mean()\n",
    "\n",
    "# Min Sal    4000.0\n",
    "# Max Sal    5275.0"
   ]
  },
  {
   "cell_type": "code",
   "execution_count": null,
   "metadata": {
    "ExecuteTime": {
     "end_time": "2018-07-24T17:23:12.162349Z",
     "start_time": "2018-07-24T17:23:12.142657Z"
    },
    "hidden": true
   },
   "outputs": [],
   "source": [
    "x = jobstreet_df[(jobstreet_df['Job Level'] == 'Junior Executive')\n",
    "                 & (jobstreet_df['Base Title'] == 'BI')\n",
    "                 & (jobstreet_df['Min Sal'] == 'None')\n",
    "                 & (jobstreet_df['Max Sal'] == 'None')]\n",
    "\n",
    "x.index"
   ]
  },
  {
   "cell_type": "code",
   "execution_count": null,
   "metadata": {
    "ExecuteTime": {
     "end_time": "2018-07-24T17:23:12.453367Z",
     "start_time": "2018-07-24T17:23:12.446525Z"
    },
    "hidden": true
   },
   "outputs": [],
   "source": [
    "jobstreet_df.loc[x.index, 'Min Sal'] = 4000\n",
    "jobstreet_df.loc[x.index, 'Max Sal'] = 5275"
   ]
  },
  {
   "cell_type": "code",
   "execution_count": null,
   "metadata": {
    "ExecuteTime": {
     "end_time": "2018-07-24T17:23:12.637911Z",
     "start_time": "2018-07-24T17:23:12.618580Z"
    },
    "hidden": true
   },
   "outputs": [],
   "source": [
    "# JUNIOR EXECUTIVE + DS MIN MAX\n",
    "jobstreet_df[(jobstreet_df['Job Level'] == 'Junior Executive')\n",
    "             & (jobstreet_df['Base Title'] == 'DS')\n",
    "             & (jobstreet_df['Min Sal'] != 'None')\n",
    "             & (jobstreet_df['Max Sal'] != 'None')][['Min Sal', 'Max Sal']].mean()\n",
    "\n",
    "# Min Sal    4977.272727\n",
    "# Max Sal    6950.000000"
   ]
  },
  {
   "cell_type": "code",
   "execution_count": null,
   "metadata": {
    "ExecuteTime": {
     "end_time": "2018-07-24T17:23:12.944349Z",
     "start_time": "2018-07-24T17:23:12.929717Z"
    },
    "hidden": true
   },
   "outputs": [],
   "source": [
    "x = jobstreet_df[(jobstreet_df['Job Level'] == 'Junior Executive')\n",
    "                 & (jobstreet_df['Base Title'] == 'DS')\n",
    "                 & (jobstreet_df['Min Sal'] == 'None')\n",
    "                 & (jobstreet_df['Max Sal'] == 'None')]\n",
    "\n",
    "x.index"
   ]
  },
  {
   "cell_type": "code",
   "execution_count": null,
   "metadata": {
    "ExecuteTime": {
     "end_time": "2018-07-24T17:23:13.117885Z",
     "start_time": "2018-07-24T17:23:13.106505Z"
    },
    "hidden": true
   },
   "outputs": [],
   "source": [
    "jobstreet_df.loc[x.index, 'Min Sal'] = 4977.272727\n",
    "jobstreet_df.loc[x.index, 'Max Sal'] = 6950.000000"
   ]
  },
  {
   "cell_type": "code",
   "execution_count": null,
   "metadata": {
    "ExecuteTime": {
     "end_time": "2018-07-24T17:23:13.522134Z",
     "start_time": "2018-07-24T17:23:13.503605Z"
    },
    "hidden": true
   },
   "outputs": [],
   "source": [
    "# ENTRY LEVEL + DS MIN MAX\n",
    "jobstreet_df[(jobstreet_df['Job Level'] == 'Entry Level')\n",
    "             & (jobstreet_df['Base Title'] == 'DS')\n",
    "             & (jobstreet_df['Min Sal'] != 'None')\n",
    "             & (jobstreet_df['Max Sal'] != 'None')][['Min Sal', 'Max Sal']].mean()\n",
    "\n",
    "# Min Sal    4383.333333\n",
    "# Max Sal    5433.333333"
   ]
  },
  {
   "cell_type": "code",
   "execution_count": null,
   "metadata": {
    "ExecuteTime": {
     "end_time": "2018-07-24T17:23:13.695093Z",
     "start_time": "2018-07-24T17:23:13.678764Z"
    },
    "hidden": true
   },
   "outputs": [],
   "source": [
    "x = jobstreet_df[(jobstreet_df['Job Level'] == 'Entry Level')\n",
    "                 & (jobstreet_df['Base Title'] == 'DS')\n",
    "                 & (jobstreet_df['Min Sal'] == 'None')\n",
    "                 & (jobstreet_df['Max Sal'] == 'None')]\n",
    "\n",
    "x.index"
   ]
  },
  {
   "cell_type": "code",
   "execution_count": null,
   "metadata": {
    "ExecuteTime": {
     "end_time": "2018-07-24T17:23:14.024129Z",
     "start_time": "2018-07-24T17:23:14.016475Z"
    },
    "hidden": true
   },
   "outputs": [],
   "source": [
    "jobstreet_df.loc[x.index, 'Min Sal'] = 4383.333333\n",
    "jobstreet_df.loc[x.index, 'Max Sal'] = 5433.333333"
   ]
  },
  {
   "cell_type": "code",
   "execution_count": null,
   "metadata": {
    "ExecuteTime": {
     "end_time": "2018-07-24T17:23:14.204350Z",
     "start_time": "2018-07-24T17:23:14.184334Z"
    },
    "hidden": true
   },
   "outputs": [],
   "source": [
    "# ENTRY LEVEL + BA MIN MAX\n",
    "jobstreet_df[(jobstreet_df['Job Level'] == 'Entry Level')\n",
    "             & (jobstreet_df['Base Title'] == 'BA')\n",
    "             & (jobstreet_df['Min Sal'] != 'None')\n",
    "             & (jobstreet_df['Max Sal'] != 'None')][['Min Sal', 'Max Sal']].mean()\n",
    "\n",
    "# Min Sal    2900.000000\n",
    "# Max Sal    3676.666667"
   ]
  },
  {
   "cell_type": "code",
   "execution_count": null,
   "metadata": {
    "ExecuteTime": {
     "end_time": "2018-07-24T17:23:14.593098Z",
     "start_time": "2018-07-24T17:23:14.575896Z"
    },
    "hidden": true
   },
   "outputs": [],
   "source": [
    "x = jobstreet_df[(jobstreet_df['Job Level'] == 'Entry Level')\n",
    "                 & (jobstreet_df['Base Title'] == 'BA')\n",
    "                 & (jobstreet_df['Min Sal'] == 'None')\n",
    "                 & (jobstreet_df['Max Sal'] == 'None')]\n",
    "\n",
    "x.index"
   ]
  },
  {
   "cell_type": "code",
   "execution_count": null,
   "metadata": {
    "ExecuteTime": {
     "end_time": "2018-07-24T17:23:14.759113Z",
     "start_time": "2018-07-24T17:23:14.748566Z"
    },
    "hidden": true
   },
   "outputs": [],
   "source": [
    "jobstreet_df.loc[x.index, 'Min Sal'] = 2900.000000\n",
    "jobstreet_df.loc[x.index, 'Max Sal'] = 3676.666667"
   ]
  },
  {
   "cell_type": "code",
   "execution_count": null,
   "metadata": {
    "ExecuteTime": {
     "end_time": "2018-07-24T17:23:15.277318Z",
     "start_time": "2018-07-24T17:23:15.258581Z"
    },
    "hidden": true
   },
   "outputs": [],
   "source": [
    "# MANAGER + DS MIN MAX\n",
    "jobstreet_df[(jobstreet_df['Job Level'] == 'Manager')\n",
    "             & (jobstreet_df['Base Title'] == 'DS')\n",
    "             & (jobstreet_df['Min Sal'] != 'None')\n",
    "             & (jobstreet_df['Max Sal'] != 'None')][['Min Sal', 'Max Sal']].mean()\n",
    "\n",
    "# Min Sal    5048.461538\n",
    "# Max Sal    6076.923077"
   ]
  },
  {
   "cell_type": "code",
   "execution_count": null,
   "metadata": {
    "ExecuteTime": {
     "end_time": "2018-07-24T17:23:15.450102Z",
     "start_time": "2018-07-24T17:23:15.432603Z"
    },
    "hidden": true
   },
   "outputs": [],
   "source": [
    "x = jobstreet_df[(jobstreet_df['Job Level'] == 'Manager')\n",
    "                 & (jobstreet_df['Base Title'] == 'DS')\n",
    "                 & (jobstreet_df['Min Sal'] == 'None')\n",
    "                 & (jobstreet_df['Max Sal'] == 'None')]\n",
    "\n",
    "x.index"
   ]
  },
  {
   "cell_type": "code",
   "execution_count": null,
   "metadata": {
    "ExecuteTime": {
     "end_time": "2018-07-24T17:23:16.437739Z",
     "start_time": "2018-07-24T17:23:16.430104Z"
    },
    "hidden": true
   },
   "outputs": [],
   "source": [
    "jobstreet_df.loc[x.index, 'Min Sal'] = 5048.461538\n",
    "jobstreet_df.loc[x.index, 'Max Sal'] = 6076.923077"
   ]
  },
  {
   "cell_type": "markdown",
   "metadata": {
    "heading_collapsed": true,
    "hidden": true
   },
   "source": [
    "### Create Mean Sal feature - Mean Salary"
   ]
  },
  {
   "cell_type": "code",
   "execution_count": null,
   "metadata": {
    "ExecuteTime": {
     "end_time": "2018-07-24T17:23:17.799701Z",
     "start_time": "2018-07-24T17:23:17.793256Z"
    },
    "hidden": true
   },
   "outputs": [],
   "source": [
    "jobstreet_df['Mean Sal'] = (\n",
    "    jobstreet_df['Min Sal'] + jobstreet_df['Max Sal'])/2"
   ]
  },
  {
   "cell_type": "markdown",
   "metadata": {
    "heading_collapsed": true,
    "hidden": true
   },
   "source": [
    "### FIX Job Description -> Output in 'JD' col"
   ]
  },
  {
   "cell_type": "code",
   "execution_count": null,
   "metadata": {
    "ExecuteTime": {
     "end_time": "2018-07-24T17:23:19.568244Z",
     "start_time": "2018-07-24T17:23:19.417677Z"
    },
    "hidden": true
   },
   "outputs": [],
   "source": [
    "from bs4 import BeautifulSoup"
   ]
  },
  {
   "cell_type": "code",
   "execution_count": null,
   "metadata": {
    "ExecuteTime": {
     "end_time": "2018-07-24T17:23:20.255320Z",
     "start_time": "2018-07-24T17:23:20.245870Z"
    },
    "hidden": true
   },
   "outputs": [],
   "source": [
    "jobstreet_df['Job Description'].values[0]"
   ]
  },
  {
   "cell_type": "code",
   "execution_count": null,
   "metadata": {
    "ExecuteTime": {
     "end_time": "2018-07-24T17:23:20.789179Z",
     "start_time": "2018-07-24T17:23:20.772893Z"
    },
    "hidden": true
   },
   "outputs": [],
   "source": [
    "def fix_jd(req):\n",
    "    raw = str(req).replace(':', ' ')\\\n",
    "        .replace('<br/>', ' ')\\\n",
    "        .replace('<li>', '<li> ')\\\n",
    "        .replace('<strong>', '')\\\n",
    "        .replace('</strong>', '')\\\n",
    "        .replace('<p>', '')\\\n",
    "        .replace('</p>', ' ')\\\n",
    "        .replace('<em>', '')\\\n",
    "        .replace('</em>', '')\\\n",
    "        .replace('.', ' ')\\\n",
    "        .replace('(', ' ')\\\n",
    "        .replace(')', ' ')\\\n",
    "        .replace('\\xa0', ' ')\\\n",
    "        .replace('\\xc2', ' ')\\\n",
    "        .replace('@', ' ')\\\n",
    "        .replace('\\n', '')\\\n",
    "        .replace('\\t', '')\\\n",
    "        .replace('-', '')\\\n",
    "\n",
    "    soup = BeautifulSoup(raw.decode('utf-8', 'ignore'), 'lxml')\n",
    "\n",
    "    job_desc_text = []\n",
    "    for i in soup.find_all('div'):\n",
    "        job_desc_text.append(''.join(i.text).strip())\n",
    "       # print(''.join(i.text).strip())\n",
    "\n",
    "    out = ' '.join(set(job_desc_text))  # Unique\n",
    "    #out = ''.join(job_desc_text)\n",
    "    return out.encode('utf-8')"
   ]
  },
  {
   "cell_type": "code",
   "execution_count": null,
   "metadata": {
    "ExecuteTime": {
     "end_time": "2018-07-24T17:23:21.340744Z",
     "start_time": "2018-07-24T17:23:21.336078Z"
    },
    "hidden": true,
    "scrolled": false
   },
   "outputs": [],
   "source": [
    "#fix_jd(jobstreet_df['Job Description'].values[3])"
   ]
  },
  {
   "cell_type": "code",
   "execution_count": null,
   "metadata": {
    "ExecuteTime": {
     "end_time": "2018-07-24T17:23:22.554983Z",
     "start_time": "2018-07-24T17:23:21.813232Z"
    },
    "hidden": true
   },
   "outputs": [],
   "source": [
    "jobstreet_df['JD'] = jobstreet_df['Job Description'].apply(fix_jd)"
   ]
  },
  {
   "cell_type": "code",
   "execution_count": null,
   "metadata": {
    "ExecuteTime": {
     "end_time": "2018-07-24T17:23:22.575057Z",
     "start_time": "2018-07-24T17:23:22.560577Z"
    },
    "hidden": true
   },
   "outputs": [],
   "source": [
    "jobstreet_df['Industry'].value_counts()"
   ]
  },
  {
   "cell_type": "code",
   "execution_count": null,
   "metadata": {
    "ExecuteTime": {
     "end_time": "2018-07-24T17:23:23.186839Z",
     "start_time": "2018-07-24T17:23:23.181993Z"
    },
    "hidden": true,
    "scrolled": true
   },
   "outputs": [],
   "source": [
    "#jobstreet_df[(jobstreet_df['Industry']=='Human Resources Management/Consulting')]['JD'].values"
   ]
  },
  {
   "cell_type": "code",
   "execution_count": null,
   "metadata": {
    "ExecuteTime": {
     "end_time": "2018-07-24T17:23:23.438055Z",
     "start_time": "2018-07-24T17:23:23.409158Z"
    },
    "hidden": true,
    "scrolled": true
   },
   "outputs": [],
   "source": [
    "jobstreet_df[(jobstreet_df['Industry'] == 'Human Resources Management/Consulting')\n",
    "             & (jobstreet_df['JD'].str.contains('Automobile|automotive'))]['JD'].values"
   ]
  },
  {
   "cell_type": "markdown",
   "metadata": {
    "heading_collapsed": true,
    "hidden": true
   },
   "source": [
    "#### Fix Industry - Automobile/Automotive Ancillary/Vehicle"
   ]
  },
  {
   "cell_type": "code",
   "execution_count": null,
   "metadata": {
    "ExecuteTime": {
     "end_time": "2018-07-24T17:23:23.752699Z",
     "start_time": "2018-07-24T17:23:23.740498Z"
    },
    "hidden": true
   },
   "outputs": [],
   "source": [
    "x = jobstreet_df[(jobstreet_df['Industry'] == 'Human Resources Management/Consulting')\n",
    "                 & (jobstreet_df['JD'].str.contains('automotive'))]"
   ]
  },
  {
   "cell_type": "code",
   "execution_count": null,
   "metadata": {
    "ExecuteTime": {
     "end_time": "2018-07-24T17:23:23.924133Z",
     "start_time": "2018-07-24T17:23:23.914984Z"
    },
    "hidden": true
   },
   "outputs": [],
   "source": [
    "jobstreet_df.loc[x.index,\n",
    "                 'Industry'] = 'Automobile/Automotive Ancillary/Vehicle'"
   ]
  },
  {
   "cell_type": "markdown",
   "metadata": {
    "heading_collapsed": true,
    "hidden": true
   },
   "source": [
    "#### Fix Industry - Consumer Products/FMCG "
   ]
  },
  {
   "cell_type": "code",
   "execution_count": null,
   "metadata": {
    "ExecuteTime": {
     "end_time": "2018-07-24T17:23:24.239275Z",
     "start_time": "2018-07-24T17:23:24.230337Z"
    },
    "hidden": true
   },
   "outputs": [],
   "source": [
    "x = jobstreet_df[(jobstreet_df['Industry'] == 'Human Resources Management/Consulting')\n",
    "                 & (jobstreet_df['JD'].str.contains('FMCG'))]"
   ]
  },
  {
   "cell_type": "code",
   "execution_count": null,
   "metadata": {
    "ExecuteTime": {
     "end_time": "2018-07-24T17:23:24.390155Z",
     "start_time": "2018-07-24T17:23:24.383123Z"
    },
    "hidden": true
   },
   "outputs": [],
   "source": [
    "jobstreet_df.loc[x.index, 'Industry'] = 'Consumer Products/FMCG'"
   ]
  },
  {
   "cell_type": "markdown",
   "metadata": {
    "heading_collapsed": true,
    "hidden": true
   },
   "source": [
    "#### Fix Industry - Computer/Information Technology (Software)"
   ]
  },
  {
   "cell_type": "code",
   "execution_count": null,
   "metadata": {
    "ExecuteTime": {
     "end_time": "2018-07-24T17:23:24.722777Z",
     "start_time": "2018-07-24T17:23:24.711663Z"
    },
    "hidden": true
   },
   "outputs": [],
   "source": [
    "x = jobstreet_df[(jobstreet_df['Industry'] == 'Human Resources Management/Consulting')\n",
    "                 & (jobstreet_df['JD'].str.contains('IT Industry'))]"
   ]
  },
  {
   "cell_type": "code",
   "execution_count": null,
   "metadata": {
    "ExecuteTime": {
     "end_time": "2018-07-24T17:23:24.880422Z",
     "start_time": "2018-07-24T17:23:24.873414Z"
    },
    "hidden": true
   },
   "outputs": [],
   "source": [
    "jobstreet_df.loc[x.index,\n",
    "                 'Industry'] = 'Computer/Information Technology (Software)'"
   ]
  },
  {
   "cell_type": "markdown",
   "metadata": {
    "heading_collapsed": true,
    "hidden": true
   },
   "source": [
    "#### Fix Industry - Hotel/Hospitality"
   ]
  },
  {
   "cell_type": "code",
   "execution_count": null,
   "metadata": {
    "ExecuteTime": {
     "end_time": "2018-07-24T17:23:25.198704Z",
     "start_time": "2018-07-24T17:23:25.187533Z"
    },
    "hidden": true
   },
   "outputs": [],
   "source": [
    "x = jobstreet_df[(jobstreet_df['Industry'] == 'Human Resources Management/Consulting')\n",
    "                 & (jobstreet_df['JD'].str.contains('hotel|hospitality'))]"
   ]
  },
  {
   "cell_type": "code",
   "execution_count": null,
   "metadata": {
    "ExecuteTime": {
     "end_time": "2018-07-24T17:23:25.369003Z",
     "start_time": "2018-07-24T17:23:25.358997Z"
    },
    "hidden": true
   },
   "outputs": [],
   "source": [
    "jobstreet_df.loc[x.index, 'Industry'] = 'Hotel/Hospitality'"
   ]
  },
  {
   "cell_type": "markdown",
   "metadata": {
    "heading_collapsed": true,
    "hidden": true
   },
   "source": [
    "#### Fix Industry - Healthcare/Medical"
   ]
  },
  {
   "cell_type": "code",
   "execution_count": null,
   "metadata": {
    "ExecuteTime": {
     "end_time": "2018-07-24T17:23:25.695813Z",
     "start_time": "2018-07-24T17:23:25.676382Z"
    },
    "hidden": true
   },
   "outputs": [],
   "source": [
    "x = jobstreet_df[(jobstreet_df['Industry'] == 'Human Resources Management/Consulting')\n",
    "                 & (jobstreet_df['JD'].str.contains('Healthcare|healthcare'))]"
   ]
  },
  {
   "cell_type": "code",
   "execution_count": null,
   "metadata": {
    "ExecuteTime": {
     "end_time": "2018-07-24T17:23:25.844948Z",
     "start_time": "2018-07-24T17:23:25.837615Z"
    },
    "hidden": true
   },
   "outputs": [],
   "source": [
    "jobstreet_df.loc[x.index, 'Industry'] = 'Healthcare/Medical'"
   ]
  },
  {
   "cell_type": "markdown",
   "metadata": {
    "heading_collapsed": true,
    "hidden": true
   },
   "source": [
    "#### Fix Industry - Transportation/Logistics"
   ]
  },
  {
   "cell_type": "code",
   "execution_count": null,
   "metadata": {
    "ExecuteTime": {
     "end_time": "2018-07-24T17:23:26.173672Z",
     "start_time": "2018-07-24T17:23:26.162240Z"
    },
    "hidden": true
   },
   "outputs": [],
   "source": [
    "x = jobstreet_df[(jobstreet_df['Industry'] == 'Human Resources Management/Consulting')\n",
    "                 & (jobstreet_df['JD'].str.contains('logistics'))]"
   ]
  },
  {
   "cell_type": "code",
   "execution_count": null,
   "metadata": {
    "ExecuteTime": {
     "end_time": "2018-07-24T17:23:26.338092Z",
     "start_time": "2018-07-24T17:23:26.329387Z"
    },
    "hidden": true
   },
   "outputs": [],
   "source": [
    "jobstreet_df.loc[x.index, 'Industry'] = 'Transportation/Logistics'"
   ]
  },
  {
   "cell_type": "markdown",
   "metadata": {
    "heading_collapsed": true,
    "hidden": true
   },
   "source": [
    "#### Fix Industry - Education"
   ]
  },
  {
   "cell_type": "code",
   "execution_count": null,
   "metadata": {
    "ExecuteTime": {
     "end_time": "2018-07-24T17:23:26.660763Z",
     "start_time": "2018-07-24T17:23:26.648984Z"
    },
    "hidden": true
   },
   "outputs": [],
   "source": [
    "x = jobstreet_df[(jobstreet_df['Industry'] == 'Human Resources Management/Consulting')\n",
    "                 & (jobstreet_df['JD'].str.contains('Education'))]"
   ]
  },
  {
   "cell_type": "code",
   "execution_count": null,
   "metadata": {
    "ExecuteTime": {
     "end_time": "2018-07-24T17:23:26.830743Z",
     "start_time": "2018-07-24T17:23:26.824184Z"
    },
    "hidden": true
   },
   "outputs": [],
   "source": [
    "jobstreet_df.loc[x.index, 'Industry'] = 'Education'"
   ]
  },
  {
   "cell_type": "markdown",
   "metadata": {
    "heading_collapsed": true,
    "hidden": true
   },
   "source": [
    "#### Fix Indsutry - Banking/Financial Services  "
   ]
  },
  {
   "cell_type": "code",
   "execution_count": null,
   "metadata": {
    "ExecuteTime": {
     "end_time": "2018-07-24T17:23:27.164776Z",
     "start_time": "2018-07-24T17:23:27.152105Z"
    },
    "hidden": true
   },
   "outputs": [],
   "source": [
    "x = jobstreet_df[(jobstreet_df['Industry'] == 'Human Resources Management/Consulting')\n",
    "                 & (jobstreet_df['JD'].str.contains('bank|banking'))]"
   ]
  },
  {
   "cell_type": "code",
   "execution_count": null,
   "metadata": {
    "ExecuteTime": {
     "end_time": "2018-07-24T17:23:27.336354Z",
     "start_time": "2018-07-24T17:23:27.327235Z"
    },
    "hidden": true
   },
   "outputs": [],
   "source": [
    "jobstreet_df.loc[x.index, 'Industry'] = 'Banking/Financial Services'"
   ]
  },
  {
   "cell_type": "markdown",
   "metadata": {
    "heading_collapsed": true
   },
   "source": [
    "## !!!! PITSTOP !!! - DATA CHECK & BACK UP BEFORE MODEL"
   ]
  },
  {
   "cell_type": "code",
   "execution_count": null,
   "metadata": {
    "ExecuteTime": {
     "end_time": "2018-07-24T17:23:29.424185Z",
     "start_time": "2018-07-24T17:23:29.411262Z"
    },
    "hidden": true
   },
   "outputs": [],
   "source": [
    "jobstreet_df.info()"
   ]
  },
  {
   "cell_type": "code",
   "execution_count": null,
   "metadata": {
    "ExecuteTime": {
     "end_time": "2018-07-24T17:23:30.877709Z",
     "start_time": "2018-07-24T17:23:30.838530Z"
    },
    "hidden": true
   },
   "outputs": [],
   "source": [
    "jobstreet_df.to_csv('Jobstreet_120am.csv')"
   ]
  },
  {
   "cell_type": "markdown",
   "metadata": {
    "heading_collapsed": true
   },
   "source": [
    "## Model Prep"
   ]
  },
  {
   "cell_type": "code",
   "execution_count": null,
   "metadata": {
    "ExecuteTime": {
     "end_time": "2018-07-25T06:01:17.534131Z",
     "start_time": "2018-07-25T06:01:17.460044Z"
    },
    "hidden": true
   },
   "outputs": [],
   "source": [
    "## Read in CSV\n",
    "jobstreet_df = pd.read_csv('Jobstreet_120am.csv')"
   ]
  },
  {
   "cell_type": "markdown",
   "metadata": {
    "heading_collapsed": true,
    "hidden": true
   },
   "source": [
    "#### Load Data from Last Stop"
   ]
  },
  {
   "cell_type": "code",
   "execution_count": null,
   "metadata": {
    "ExecuteTime": {
     "end_time": "2018-07-25T06:01:19.671430Z",
     "start_time": "2018-07-25T06:01:19.050692Z"
    },
    "hidden": true
   },
   "outputs": [],
   "source": [
    "jobstreet_df = jobstreet_df.reset_index(drop=True)\n",
    "jobstreet_df = jobstreet_df.drop('Unnamed: 0', axis=1)\n",
    "jobstreet_df"
   ]
  },
  {
   "cell_type": "markdown",
   "metadata": {
    "heading_collapsed": true,
    "hidden": true
   },
   "source": [
    "#### Make Columns (Prep DF for TTS)"
   ]
  },
  {
   "cell_type": "code",
   "execution_count": null,
   "metadata": {
    "ExecuteTime": {
     "end_time": "2018-07-25T06:01:19.705507Z",
     "start_time": "2018-07-25T06:01:19.676267Z"
    },
    "hidden": true,
    "scrolled": true
   },
   "outputs": [],
   "source": [
    "## Make Columns\n",
    "# Take TEXT DATA\n",
    "Text_cols = ['Company', 'Title', 'Location', 'Address',\n",
    "    'Industry', 'JD', 'Job Level', 'Base Title']\n",
    "\n",
    "# Numerical DATA\n",
    "Num_cols = ['Min Years Exp', 'Mean Sal']\n",
    "\n",
    "## Make DF for Train Test Split\n",
    "df_jobs = jobstreet_df[Text_cols+Num_cols].copy()\n",
    "\n",
    "df_jobs.sample(1)"
   ]
  },
  {
   "cell_type": "markdown",
   "metadata": {
    "heading_collapsed": true,
    "hidden": true
   },
   "source": [
    "### Check Distributions + More Feature Engineering"
   ]
  },
  {
   "cell_type": "markdown",
   "metadata": {
    "heading_collapsed": true,
    "hidden": true
   },
   "source": [
    "#### Check Distribution of Min Year Exp"
   ]
  },
  {
   "cell_type": "code",
   "execution_count": null,
   "metadata": {
    "ExecuteTime": {
     "end_time": "2018-07-25T06:01:20.286943Z",
     "start_time": "2018-07-25T06:01:20.050910Z"
    },
    "hidden": true
   },
   "outputs": [],
   "source": [
    "## Distribution of the Min Years of Experience WANTED\n",
    "\n",
    "sns.set_style('ticks')\n",
    "#Set Figure size\n",
    "plt.figure(figsize=(10,4))\n",
    "\n",
    "ax = sns.countplot(x=\"Min Years Exp\", data=df_jobs, palette='husl')\n",
    "ax.set_title('Distribution of Min Years Exp', fontsize=15)\n",
    "ax.set_xlabel('Years Wanted', fontsize=14)\n",
    "ax.set_ylabel('Counts',fontsize=14)\n",
    "plt.show()"
   ]
  },
  {
   "cell_type": "markdown",
   "metadata": {
    "hidden": true
   },
   "source": [
    "- Seem to have more demand for in the earlier years of experience."
   ]
  },
  {
   "cell_type": "markdown",
   "metadata": {
    "heading_collapsed": true,
    "hidden": true
   },
   "source": [
    "#### Rank/Ordinal the Job Levels"
   ]
  },
  {
   "cell_type": "code",
   "execution_count": null,
   "metadata": {
    "ExecuteTime": {
     "end_time": "2018-07-26T07:32:40.189776Z",
     "start_time": "2018-07-26T07:32:40.169614Z"
    },
    "hidden": true
   },
   "outputs": [],
   "source": [
    "df_jobs['Job Level'].value_counts()"
   ]
  },
  {
   "cell_type": "code",
   "execution_count": null,
   "metadata": {
    "ExecuteTime": {
     "end_time": "2018-07-26T07:32:40.981048Z",
     "start_time": "2018-07-26T07:32:40.965712Z"
    },
    "hidden": true
   },
   "outputs": [],
   "source": [
    "## Take the Average Salary per JOB LEVEL - This is just to have an idea to give it an ordinal rank\n",
    "df_jobs.groupby('Job Level')['Mean Sal'].mean()"
   ]
  },
  {
   "cell_type": "code",
   "execution_count": null,
   "metadata": {
    "ExecuteTime": {
     "end_time": "2018-07-26T07:32:41.461591Z",
     "start_time": "2018-07-26T07:32:41.454877Z"
    },
    "hidden": true
   },
   "outputs": [],
   "source": [
    "ranks = {'Entry Level': 1, 'Junior Executive': 2, 'Non-Executive': 3, 'Senior Executive': 4, 'Manager': 5, 'Senior Manager':6}"
   ]
  },
  {
   "cell_type": "code",
   "execution_count": null,
   "metadata": {
    "ExecuteTime": {
     "end_time": "2018-07-26T07:32:42.028610Z",
     "start_time": "2018-07-26T07:32:42.020933Z"
    },
    "hidden": true
   },
   "outputs": [],
   "source": [
    "df_jobs['Job Level'] = df_jobs['Job Level'].map(ranks)"
   ]
  },
  {
   "cell_type": "markdown",
   "metadata": {
    "heading_collapsed": true,
    "hidden": true
   },
   "source": [
    "#### Check Correlations"
   ]
  },
  {
   "cell_type": "code",
   "execution_count": null,
   "metadata": {
    "ExecuteTime": {
     "end_time": "2018-07-26T07:32:43.678569Z",
     "start_time": "2018-07-26T07:32:43.344298Z"
    },
    "hidden": true
   },
   "outputs": [],
   "source": [
    "sns.heatmap(df_jobs.corr(method='pearson'))"
   ]
  },
  {
   "cell_type": "code",
   "execution_count": null,
   "metadata": {
    "ExecuteTime": {
     "end_time": "2018-07-26T07:32:53.050316Z",
     "start_time": "2018-07-26T07:32:52.828870Z"
    },
    "hidden": true
   },
   "outputs": [],
   "source": [
    "sns.heatmap(df_jobs.corr(method='spearman'))"
   ]
  },
  {
   "cell_type": "markdown",
   "metadata": {
    "hidden": true
   },
   "source": [
    "- Salary (Mean Salary) and Min Years Exp are not correlated (Note that this is the overall, not industry specific)\n",
    "- Job Level is correlated with the Salary!"
   ]
  },
  {
   "cell_type": "markdown",
   "metadata": {
    "heading_collapsed": true,
    "hidden": true
   },
   "source": [
    "#### Check Mean Salary Distribution - np.log mean salary"
   ]
  },
  {
   "cell_type": "code",
   "execution_count": null,
   "metadata": {
    "ExecuteTime": {
     "end_time": "2018-07-25T06:01:24.653242Z",
     "start_time": "2018-07-25T06:01:24.621987Z"
    },
    "hidden": true
   },
   "outputs": [],
   "source": [
    "df_jobs.head(1)"
   ]
  },
  {
   "cell_type": "code",
   "execution_count": null,
   "metadata": {
    "ExecuteTime": {
     "end_time": "2018-07-25T06:01:25.913493Z",
     "start_time": "2018-07-25T06:01:25.604421Z"
    },
    "hidden": true,
    "scrolled": true
   },
   "outputs": [],
   "source": [
    "## Salary Distrib\n",
    "df_jobs['Mean Sal'].apply(np.log).hist(bins=25)"
   ]
  },
  {
   "cell_type": "code",
   "execution_count": null,
   "metadata": {
    "ExecuteTime": {
     "end_time": "2018-07-25T06:01:26.806400Z",
     "start_time": "2018-07-25T06:01:26.207013Z"
    },
    "hidden": true
   },
   "outputs": [],
   "source": [
    "import statsmodels.api as sm\n",
    "import scipy.stats as stats"
   ]
  },
  {
   "cell_type": "code",
   "execution_count": null,
   "metadata": {
    "ExecuteTime": {
     "end_time": "2018-07-25T06:01:27.265180Z",
     "start_time": "2018-07-25T06:01:26.863788Z"
    },
    "hidden": true,
    "scrolled": false
   },
   "outputs": [],
   "source": [
    "## Log Mean Sal ##\n",
    "\n",
    "f, (ax1, ax2) = plt.subplots(2,figsize=(12,8))\n",
    "res = stats.probplot(df_jobs['Mean Sal'], plot=ax1)\n",
    "ax1.set_title('Mean Sal - Before Log', fontsize=16)\n",
    "\n",
    "## NEW COLUMN - ['Log Mean Sal']\n",
    "df_jobs['Log Mean Sal'] = np.log(df_jobs['Mean Sal'])\n",
    "res = stats.probplot(df_jobs['Log Mean Sal'], plot=ax2)\n",
    "ax2.set_title('Mean Sal - After Log', fontsize=16)"
   ]
  },
  {
   "cell_type": "markdown",
   "metadata": {
    "hidden": true
   },
   "source": [
    "#### BACK UP"
   ]
  },
  {
   "cell_type": "code",
   "execution_count": null,
   "metadata": {
    "ExecuteTime": {
     "end_time": "2018-07-26T07:34:59.914573Z",
     "start_time": "2018-07-26T07:34:59.880058Z"
    },
    "hidden": true
   },
   "outputs": [],
   "source": [
    "df_jobs.to_csv('Jobstreet_prep_pipeline.csv')"
   ]
  },
  {
   "cell_type": "markdown",
   "metadata": {},
   "source": [
    "## Prepare Pipeline"
   ]
  },
  {
   "cell_type": "code",
   "execution_count": 277,
   "metadata": {
    "ExecuteTime": {
     "end_time": "2018-07-26T16:44:29.587918Z",
     "start_time": "2018-07-26T16:44:29.567275Z"
    },
    "scrolled": true
   },
   "outputs": [],
   "source": [
    "from sklearn.linear_model import LinearRegression, LogisticRegression, LogisticRegressionCV\n",
    "from sklearn.linear_model import Ridge, Lasso, ElasticNet, RidgeCV, LassoCV, ElasticNetCV\n",
    "from sklearn.preprocessing import StandardScaler, Imputer\n",
    "from sklearn.pipeline import Pipeline\n",
    "from sklearn.model_selection import cross_val_score, train_test_split, RandomizedSearchCV, GridSearchCV\n",
    "from sklearn.metrics import confusion_matrix, mean_squared_error, accuracy_score,precision_score, recall_score, auc, roc_curve,roc_auc_score, classification_report\n",
    "from sklearn.feature_selection import SelectKBest\n",
    "from sklearn.base import BaseEstimator, TransformerMixin\n",
    "from sklearn.feature_extraction.text import CountVectorizer,TfidfTransformer, TfidfVectorizer\n",
    "from sklearn.multiclass import OneVsRestClassifier\n",
    "from sklearn.ensemble import GradientBoostingClassifier, RandomForestClassifier\n",
    "## Import Regex\n",
    "import re\n",
    "import string\n",
    "\n",
    "# Import FeatureUnion\n",
    "from sklearn.pipeline import FeatureUnion\n",
    "\n",
    "# Import FunctionTransformer\n",
    "from sklearn.preprocessing import FunctionTransformer, LabelEncoder, LabelBinarizer\n",
    "\n",
    "# Import NLTK\n",
    "import nltk\n",
    "from nltk import word_tokenize          \n",
    "from nltk.stem import WordNetLemmatizer\n",
    "\n",
    "# Import itertools\n",
    "import itertools\n"
   ]
  },
  {
   "cell_type": "code",
   "execution_count": 278,
   "metadata": {
    "ExecuteTime": {
     "end_time": "2018-07-26T16:44:30.126246Z",
     "start_time": "2018-07-26T16:44:30.107496Z"
    }
   },
   "outputs": [],
   "source": [
    "## TAKEN FROM SKLEARN WEBSITE:\n",
    "### http://scikit-learn.org/stable/auto_examples/model_selection/plot_confusion_matrix.html\n",
    "\n",
    "def plot_confusion_matrix(cm, classes,\n",
    "                          normalize=False,\n",
    "                          title='Confusion matrix',\n",
    "                          cmap=plt.cm.Blues):\n",
    "    \"\"\"\n",
    "    This function prints and plots the confusion matrix.\n",
    "    Normalization can be applied by setting `normalize=True`.\n",
    "    \"\"\"\n",
    "    if normalize:\n",
    "        cm = cm.astype('float') / cm.sum(axis=1)[:, np.newaxis]\n",
    "        print(\"Normalized confusion matrix\")\n",
    "    else:\n",
    "        print('Confusion matrix, without normalization')\n",
    "\n",
    "    print(cm)\n",
    "\n",
    "    plt.imshow(cm, interpolation='nearest', cmap=cmap)\n",
    "    plt.title(title)\n",
    "    plt.colorbar()\n",
    "    tick_marks = np.arange(len(classes))\n",
    "    plt.xticks(tick_marks, classes, rotation=45)\n",
    "    plt.yticks(tick_marks, classes)\n",
    "\n",
    "    fmt = '.2f' if normalize else 'd'\n",
    "    thresh = cm.max() / 2.\n",
    "    for i, j in itertools.product(range(cm.shape[0]), range(cm.shape[1])):\n",
    "        plt.text(j, i, format(cm[i, j], fmt),\n",
    "                 horizontalalignment=\"center\",\n",
    "                 color=\"white\" if cm[i, j] > thresh else \"black\")\n",
    "\n",
    "    plt.tight_layout()\n",
    "    plt.ylabel('True label')\n",
    "    plt.xlabel('Predicted label')"
   ]
  },
  {
   "cell_type": "code",
   "execution_count": 279,
   "metadata": {
    "ExecuteTime": {
     "end_time": "2018-07-26T16:44:30.802348Z",
     "start_time": "2018-07-26T16:44:30.795525Z"
    }
   },
   "outputs": [],
   "source": [
    "## Custom Lemmatizer to Tokenzier\n",
    "class LemmaTokenizer(object):\n",
    "    def __init__(self):\n",
    "        self.wnl = WordNetLemmatizer()\n",
    "    def __call__(self, articles):\n",
    "        return [self.wnl.lemmatize(t) for t in word_tokenize(articles)]"
   ]
  },
  {
   "cell_type": "code",
   "execution_count": 280,
   "metadata": {
    "ExecuteTime": {
     "end_time": "2018-07-26T16:44:31.207960Z",
     "start_time": "2018-07-26T16:44:31.180723Z"
    }
   },
   "outputs": [],
   "source": [
    "df_jobs = pd.read_csv('Jobstreet_prep_pipeline.csv')\n",
    "df_jobs.reset_index(drop=True, inplace=True)\n",
    "df_jobs = df_jobs.drop('Unnamed: 0', axis=1)\n",
    "\n",
    "df_jobs_tts = df_jobs.copy()"
   ]
  },
  {
   "cell_type": "markdown",
   "metadata": {},
   "source": [
    "## Attempt Q1 - Model 1 - Linear Model to predict continuous"
   ]
  },
  {
   "cell_type": "markdown",
   "metadata": {},
   "source": [
    "#### Custom Pipeline Function to Dummy Out the 'Industry' feature and the 'Base Title' feature"
   ]
  },
  {
   "cell_type": "code",
   "execution_count": 281,
   "metadata": {
    "ExecuteTime": {
     "end_time": "2018-07-26T16:44:32.456236Z",
     "start_time": "2018-07-26T16:44:32.445847Z"
    }
   },
   "outputs": [],
   "source": [
    "class IndustryPreprocessor(BaseEstimator, TransformerMixin):\n",
    "    def __init__(self):\n",
    "        self.feature_names = []\n",
    "    \n",
    "    def _make_industry_dummies(self, df):\n",
    "        df = pd.get_dummies(df, columns=['Industry'], drop_first=True)\n",
    "        #print df.columns\n",
    "        return df\n",
    "    \n",
    "    def transform(self, X, *args):\n",
    "        X = self._make_industry_dummies(X)\n",
    "        self.feature_names = X.columns  ## Keep Track of the Columns after Dummy Out\n",
    "        return X\n",
    "    def fit(self, X, *args):\n",
    "        return self"
   ]
  },
  {
   "cell_type": "code",
   "execution_count": 282,
   "metadata": {
    "ExecuteTime": {
     "end_time": "2018-07-26T16:44:33.107769Z",
     "start_time": "2018-07-26T16:44:33.097427Z"
    }
   },
   "outputs": [],
   "source": [
    "class JobBaseTitlePreprocessor(BaseEstimator, TransformerMixin):\n",
    "    def __init__(self):\n",
    "        self.feature_names = []\n",
    "    \n",
    "    def _make_basetitle_dummies(self, df):\n",
    "        df = pd.get_dummies(df, columns=['Base Title'], drop_first=True)\n",
    "        #print df.columns\n",
    "        return df\n",
    "    \n",
    "    def transform(self, X, *args):\n",
    "        X = self._make_basetitle_dummies(X)\n",
    "        self.feature_names = X.columns  ## Keep Track of the Columns after Dummy Out\n",
    "        return X\n",
    "    def fit(self, X, *args):\n",
    "        return self"
   ]
  },
  {
   "cell_type": "markdown",
   "metadata": {},
   "source": [
    "#### Custom Item Selector for Feature Union"
   ]
  },
  {
   "cell_type": "code",
   "execution_count": 283,
   "metadata": {
    "ExecuteTime": {
     "end_time": "2018-07-26T16:44:33.896847Z",
     "start_time": "2018-07-26T16:44:33.886479Z"
    }
   },
   "outputs": [],
   "source": [
    "class ItemSelector(BaseEstimator, TransformerMixin):\n",
    "    def __init__(self, key, dt):\n",
    "        self.key = key\n",
    "        self.dt = dt\n",
    "\n",
    "    def fit(self, x, y=None):\n",
    "        # does nothing\n",
    "        return self\n",
    "\n",
    "    def transform(self, data_dict):\n",
    "        # this returns the column requested\n",
    "        print \"Selecting\",self.key\n",
    "        if self.dt == 'text':\n",
    "            return data_dict.loc[:,self.key]\n",
    "        else:\n",
    "            return data_dict.loc[:,[self.key]].astype(float)"
   ]
  },
  {
   "cell_type": "markdown",
   "metadata": {},
   "source": [
    "#### Last Text Clean up"
   ]
  },
  {
   "cell_type": "code",
   "execution_count": 284,
   "metadata": {
    "ExecuteTime": {
     "end_time": "2018-07-26T16:44:34.820110Z",
     "start_time": "2018-07-26T16:44:34.811745Z"
    }
   },
   "outputs": [],
   "source": [
    "df_jobs_tts['Base Title'] = df_jobs_tts['Base Title'].astype('category')\n",
    "df_jobs_tts['Industry'] = df_jobs_tts['Industry'].astype('category')"
   ]
  },
  {
   "cell_type": "code",
   "execution_count": 285,
   "metadata": {
    "ExecuteTime": {
     "end_time": "2018-07-26T16:44:35.414178Z",
     "start_time": "2018-07-26T16:44:35.244311Z"
    }
   },
   "outputs": [],
   "source": [
    "## Final Text Clean up\n",
    "df_jobs_tts['JD'] = df_jobs_tts['JD'].apply(lambda x: re.sub('[^ a-zA-Z+]',' ',x).lower())\n",
    "df_jobs_tts['JD'] = df_jobs_tts['JD'].str.replace('\\d+', '') # for digits\n",
    "df_jobs_tts['JD'] = df_jobs_tts['JD'].str.replace(r'(\\b\\w{1,2}\\b)', '') # for words\n",
    "df_jobs_tts['JD'] = df_jobs_tts['JD'].str.replace('[^\\w\\s]', '') # for punctuation \n",
    "#df_jobs_tts['JD'] = df_jobs_tts['JD'].str.replace('[\\W_]+','') # only \n",
    "\n",
    "## Final Text Clean up\n",
    "df_jobs_tts['Title'] = df_jobs_tts['Title'].apply(lambda x: re.sub('[^ a-zA-Z+]',' ',x).lower())\n",
    "df_jobs_tts['Title'] = df_jobs_tts['Title'].str.replace('\\d+', '') # for digits\n",
    "df_jobs_tts['Title'] = df_jobs_tts['Title'].str.replace(r'(\\b\\w{1,2}\\b)', '') # for words\n",
    "df_jobs_tts['Title'] = df_jobs_tts['Title'].str.replace('[^\\w\\s]', '') # for punctuation \n",
    "#df_jobs_tts['Title'] = df_jobs_tts['Title'].str.replace('[\\W_]+','') # only \n",
    "\n",
    "\n",
    "## Final Text Clean up\n",
    "df_jobs_tts['Location'] = df_jobs_tts['Location'].apply(lambda x: re.sub('[^ a-zA-Z+]',' ',x).lower())\n",
    "df_jobs_tts['Location'] = df_jobs_tts['Location'].str.replace('\\d+', '') # for digits\n",
    "df_jobs_tts['Location'] = df_jobs_tts['Location'].str.replace(r'(\\b\\w{1,2}\\b)', '') # for words\n",
    "df_jobs_tts['Location'] = df_jobs_tts['Location'].str.replace('[^\\w\\s]', '') # for punctuation \n",
    "#df_jobs_tts['Location'] = df_jobs_tts['Location'].str.replace('[\\W_]+','') # only \n"
   ]
  },
  {
   "cell_type": "markdown",
   "metadata": {},
   "source": [
    "#### Train Test Split"
   ]
  },
  {
   "cell_type": "code",
   "execution_count": 286,
   "metadata": {
    "ExecuteTime": {
     "end_time": "2018-07-26T16:44:36.144106Z",
     "start_time": "2018-07-26T16:44:36.131270Z"
    }
   },
   "outputs": [],
   "source": [
    "## PREP X - Everything LESS 'Log Mean Sal'\n",
    "## PREP y - 'Log Mean Sal'\n",
    "\n",
    "X = df_jobs_tts[[x for x in df_jobs_tts.columns if x not in ['Log Mean Sal','Mean Sal', 'Address', 'Company' ,'Title']]]\n",
    "#X = df_jobs_tts.iloc[:,:df_jobs_tts.columns.get_loc(\"Log Mean Sal\")] # Not Recommended -we lose everything else after.\n",
    "\n",
    "y = df_jobs_tts['Log Mean Sal'].values\n",
    "\n",
    "X_train, X_test, y_train, y_test = train_test_split(X, y, random_state=42, test_size=0.33)"
   ]
  },
  {
   "cell_type": "code",
   "execution_count": 287,
   "metadata": {
    "ExecuteTime": {
     "end_time": "2018-07-26T16:44:36.608118Z",
     "start_time": "2018-07-26T16:44:36.602303Z"
    }
   },
   "outputs": [
    {
     "name": "stdout",
     "output_type": "stream",
     "text": [
      "(364, 6) (364,)\n",
      "(364,) (180,)\n"
     ]
    }
   ],
   "source": [
    "print X_train.shape, y_train.shape\n",
    "print y_train.shape, y_test.shape"
   ]
  },
  {
   "cell_type": "code",
   "execution_count": 288,
   "metadata": {
    "ExecuteTime": {
     "end_time": "2018-07-26T16:44:37.169851Z",
     "start_time": "2018-07-26T16:44:37.146226Z"
    }
   },
   "outputs": [
    {
     "data": {
      "text/html": [
       "<div>\n",
       "<style scoped>\n",
       "    .dataframe tbody tr th:only-of-type {\n",
       "        vertical-align: middle;\n",
       "    }\n",
       "\n",
       "    .dataframe tbody tr th {\n",
       "        vertical-align: top;\n",
       "    }\n",
       "\n",
       "    .dataframe thead th {\n",
       "        text-align: right;\n",
       "    }\n",
       "</style>\n",
       "<table border=\"1\" class=\"dataframe\">\n",
       "  <thead>\n",
       "    <tr style=\"text-align: right;\">\n",
       "      <th></th>\n",
       "      <th>Location</th>\n",
       "      <th>Industry</th>\n",
       "      <th>JD</th>\n",
       "      <th>Job Level</th>\n",
       "      <th>Base Title</th>\n",
       "      <th>Min Years Exp</th>\n",
       "    </tr>\n",
       "  </thead>\n",
       "  <tbody>\n",
       "    <tr>\n",
       "      <th>0</th>\n",
       "      <td>singapore   across singapore</td>\n",
       "      <td>Human Resources Management/Consulting</td>\n",
       "      <td>career edge asia pte ltd    licence number   ...</td>\n",
       "      <td>4</td>\n",
       "      <td>DA</td>\n",
       "      <td>3.0</td>\n",
       "    </tr>\n",
       "  </tbody>\n",
       "</table>\n",
       "</div>"
      ],
      "text/plain": [
       "                       Location                               Industry  \\\n",
       "0  singapore   across singapore  Human Resources Management/Consulting   \n",
       "\n",
       "                                                  JD  Job Level Base Title  \\\n",
       "0   career edge asia pte ltd    licence number   ...          4         DA   \n",
       "\n",
       "   Min Years Exp  \n",
       "0            3.0  "
      ]
     },
     "execution_count": 288,
     "metadata": {},
     "output_type": "execute_result"
    }
   ],
   "source": [
    "X.head(1)"
   ]
  },
  {
   "cell_type": "markdown",
   "metadata": {},
   "source": [
    "#### Adding custom stop words (Spelling errors etc)"
   ]
  },
  {
   "cell_type": "code",
   "execution_count": 289,
   "metadata": {
    "ExecuteTime": {
     "end_time": "2018-07-26T16:44:38.333051Z",
     "start_time": "2018-07-26T16:44:38.209763Z"
    }
   },
   "outputs": [],
   "source": [
    "from sklearn.feature_extraction import text \n",
    "my_additional_stop_words = ['acheivegroup','vanessa', 'reg','tan','wih', 'application', 'achievement', 'indicate',\n",
    "                           'ambition', 'ackerman' ,'recruitment', 'ackermanglobal', 'draft', 'sell', 'acquire', 'dll',\n",
    "                           'status' , 'project', 'refer', 'friend','linkedin','www','com','singapore', 'achieve', 'ha',\n",
    "                           'requirement' , 'requirements', 'adapt','analyst','responsibility','monitoring','support'\n",
    "                           'play' , 'skill' , 'monitored', 'refined' ,'clarify' ,'work',\n",
    "                           'alvin' ,'wan','job','signal' , 'wei' ,'jie','able', 'regarding' ,'regardless' ,'month',\n",
    "                           'possibility' , 'development', 'regard', 'monitor', 'hull', 'jen','new','build','process',\n",
    "                           'refine', 'monday', 'ideally','use','budget','net','web','btiexecutivesearch','refers','actual',\n",
    "                           'mon','tuesday','wednesday','thursday','friday','gender','refinement','mom','need',\n",
    "                           'negotiation','bti','amendment','determines','refinement','kaki','bukit', 'molding','scope',\n",
    "                           'negotiating','amended','tight','time','mohinani','lic','negotiate','negotiable','salary','region',\n",
    "                           'monfri','neg','aws','love','module','quality','needto','ame','related','basis','loss','expect','expected',\n",
    "                           'multitasks','detailsstrong','michael','availability','resume','leaving','rectify' ,'issue','recruitplus',\n",
    "                           'techincal','nontechnical', 'review','including','defining','moderation','recruiting', 'sea', 'recruithaus',\n",
    "                           'develops','recruitfirst','watsapp','willingness','whatsapp','email','willing','moderate','wide','variety',\n",
    "                           'recruitexpress','capitagrp','capita','address','addressed','recruit','quinnoxsolutions','kindly',\n",
    "                           'reusable', 'meet' ,'desired','returnoninvestment','visit','thatz','like','return','recovery','device','problem',\n",
    "                           'resolution','whitebox','retrieved', 'sync' ,'hoc','whilst','west','working','day','retrieval','retaining' ,'using' ,'disclosing',\n",
    "                           'wish','appl','lication','retain','disclose', 'personal','looking', 'hire','morgan','network', 'relies' ,'coordinate',\n",
    "                           'near','real' ,'nrt','mrt','wellness','sport','holiday','navigation', 'behavior' ,'given',\n",
    "                           'wellknown', 'established','wellestablished','nature','natural' ,'resource' ,'role', 'welcomed',\n",
    "                           'problemsolving','nation' ,'goal','larc','welcome', 'successful','candidate' ,'needed' ,'participate',\n",
    "                           'weekly' ,'monthly' ,'supporting', 'privacy' ,'policy' ,'consented' ,'uncertainty','associated',\n",
    "                           'weng', 'hong', 'industry','necessary' ,'prepare', 'week', 'location','multitask', 'strong' ,'sense' ,'website', 'kellyservices',\n",
    "                           'multisite', 'operation', 'involving' ,'record', 'leading', 'wenxing', 'license' ,'submitting','multiple', 'varied', 'source'\n",
    "                           'extensible','architectural','reconstruction','navigating','reconciliation','navigate','reconciles', 'conflict' ,'dissects',\n",
    "                           'software', 'extensible' ,'objective', 'reconcile', 'decompose', 'highlevel', 'smes', 'artc', 'unique','recommends', 'change', 'business',\n",
    "                           'sme' ,'provide' ,'strategic', 'priority', 'soap', 'rest' ,'apis', 'recommending', 'presenting', 'exercise', 'maintan',\n",
    "                           'socialurban', 'smartphone', 'app','developing','solution','exemplifying','reviewing', 'production',\n",
    "                           'developer', 'develop','technically', 'implement','implement' ,'based', 'gathered' ,'regulatory','executive','search',\n",
    "                           'impact', 'billion', 'patient', 'execution' ,'test' ,'idoc' ,'bapi' ,'experience', 'revenue','product',\n",
    "                           'mandated','journal','technique','result', 'technical','team', 'unit', 'supported', 'fda', 'responsible' ,'support',\n",
    "                           'nanyang', 'technological', 'university', 'target', 'track','apologize', 'modifies', 'tang','lee','response','maintain', 'low',\n",
    "                           'nashmi', 'tcoms','moody','knowledge' ,'narrative', 'naive','tay','rewarded' , 'diagram prior', 'daily', 'taxonomy', 'diagram' ,'prior',\n",
    "                            'taxkey' , 'perspective','mooc', 'refreshment', 'monthsinterested', 'reflect','underlying','present',\n",
    "                           'monthjob','refining','knowhow','monthend','referal','greatly','broad','cycle','stage', 'cassandra', 'bringing',\n",
    "                           'bring', 'revise', 'referral', 'fee', 'briefwe','closely', 'content','closely','area','tax', 'planning', 'affect', 'required', 'brief', 'client',\n",
    "                           'bridge', 'utilizing' ,'advocate', 'fair' ,'reference' ,'user', 'tasksqualifications', 'ref', 'stafflink', 'brenntag', 'global',\n",
    "                           'advisory', 'service','taskoriented', 'reestimates', 'management', 'breathing' ,'chronic', 'regret','school','kahsoon',\n",
    "                           'jen','experiments','profile','reeracoen', 'pang','dan','lotus',]\n",
    "                \n",
    "# my_additional_stop_words = []\n",
    "stop_words = text.ENGLISH_STOP_WORDS.union(my_additional_stop_words)"
   ]
  },
  {
   "cell_type": "markdown",
   "metadata": {},
   "source": [
    "#### Pipeline"
   ]
  },
  {
   "cell_type": "code",
   "execution_count": 290,
   "metadata": {
    "ExecuteTime": {
     "end_time": "2018-07-26T16:44:39.340922Z",
     "start_time": "2018-07-26T16:44:39.320790Z"
    }
   },
   "outputs": [],
   "source": [
    "# Create a FeatureUnion with nested pipeline: process_and_join_features\n",
    "process_and_join_features = FeatureUnion(\n",
    "    transformer_list=[\n",
    "        ('JobLevel', Pipeline([\n",
    "            ('selector', ItemSelector(key='Job Level', dt='num'))\n",
    "        ])),\n",
    "        ('JD', Pipeline([\n",
    "            ('selector', ItemSelector(key='JD', dt='text')),\n",
    "            ('tfidf', TfidfVectorizer(stop_words=stop_words,\n",
    "                                      tokenizer=LemmaTokenizer(),\n",
    "                                      lowercase=True,\n",
    "                                      use_idf=True, ngram_range=(1, 2),\n",
    "                                      max_features=500000, max_df=0.9, min_df=1,\n",
    "                                      norm='l2')),\n",
    "            # ('tfidfvect', TfidfTransformer())\n",
    "        ])),\n",
    "    ],\n",
    ")\n",
    "\n",
    "# Instantiate nested pipeline: pl\n",
    "pl = Pipeline([\n",
    "    ('basetitle', JobBaseTitlePreprocessor()),  # Dummy Out\n",
    "    ('indus', IndustryPreprocessor()),  # Dummy Out\n",
    "    ('union', process_and_join_features),\n",
    "    ('eNet', ElasticNet(l1_ratio=0.0, alpha=0.001, max_iter=20))\n",
    "])"
   ]
  },
  {
   "cell_type": "code",
   "execution_count": 291,
   "metadata": {
    "ExecuteTime": {
     "end_time": "2018-07-26T16:44:42.912747Z",
     "start_time": "2018-07-26T16:44:39.780329Z"
    },
    "scrolled": true
   },
   "outputs": [
    {
     "name": "stdout",
     "output_type": "stream",
     "text": [
      "Selecting Job Level\n",
      "Selecting JD\n",
      "Selecting Job Level\n",
      "Selecting JD\n",
      "('R2: ', 0.5023334505435124)\n"
     ]
    }
   ],
   "source": [
    "# Fit pl to the training data\n",
    "pl.fit(X_train, y_train)\n",
    "\n",
    "# Compute and print accuracy\n",
    "R2 = pl.score(X_test, y_test)\n",
    "print(\"R2: \", R2)"
   ]
  },
  {
   "cell_type": "markdown",
   "metadata": {},
   "source": [
    "#### View the Coefs"
   ]
  },
  {
   "cell_type": "code",
   "execution_count": 292,
   "metadata": {
    "ExecuteTime": {
     "end_time": "2018-07-26T16:44:44.322596Z",
     "start_time": "2018-07-26T16:44:44.272972Z"
    }
   },
   "outputs": [],
   "source": [
    "## This flow follows the Pipeline\n",
    "dummy_cols = pl.named_steps['indus'].feature_names.tolist()\n",
    "# Numeric Cols \n",
    "numeric_cols = ['Job Level']\n",
    "# TDIDF FOR JD\n",
    "jd_cols = pl.named_steps['union'].transformer_list[1][1].named_steps['tfidf'].get_feature_names()\n",
    "\n",
    "X_train_csr_cols = dummy_cols + numeric_cols + jd_cols\n",
    "X_train_csr_cols.remove('JD')"
   ]
  },
  {
   "cell_type": "code",
   "execution_count": 293,
   "metadata": {
    "ExecuteTime": {
     "end_time": "2018-07-26T16:44:44.909156Z",
     "start_time": "2018-07-26T16:44:44.863479Z"
    }
   },
   "outputs": [
    {
     "name": "stdout",
     "output_type": "stream",
     "text": [
      "Top Positive Factors on Salary:\n",
      "                         0         1       abs\n",
      "17909            mysql sql  0.226760  0.226760\n",
      "8092              dialogue  0.190831  0.190831\n",
      "17768        mongodb redis  0.183214  0.183214\n",
      "22296  regional accounting  0.172205  0.172205\n",
      "6837            data price  0.140917  0.140917\n",
      "26559      tasking ability  0.135016  0.135016\n",
      "6511         cybersecurity  0.130143  0.130143\n",
      "23266               reward  0.127252  0.127252\n",
      "15610  learning proficient  0.127036  0.127036\n",
      "3382                   brn  0.124590  0.124590\n",
      "\n",
      "Top Negative Factors on Salary:\n",
      "                            0         1       abs\n",
      "23504             rule ensure -0.147781  0.147781\n",
      "5648   contacted registration -0.134393  0.134393\n",
      "28305         various perform -0.123249  0.123249\n",
      "24580              sherwinneo -0.122027  0.122027\n",
      "22132          really excited -0.119455  0.119455\n",
      "19462            perform duty -0.114720  0.114720\n",
      "16527            mananagement -0.111029  0.111029\n",
      "24571         shell scripting -0.106929  0.106929\n",
      "10148                eventual -0.105386  0.105386\n",
      "23572         sale initiative -0.105202  0.105202\n"
     ]
    }
   ],
   "source": [
    "#get strongest features affecting salary\n",
    "coefs = list(zip(X_train_csr_cols, pl.named_steps['eNet'].coef_))\n",
    "coefs = pd.DataFrame.from_records(coefs)\n",
    "coefs['abs'] = abs(coefs[1])\n",
    "print 'Top Positive Factors on Salary:'\n",
    "print coefs[coefs[1] > 0].sort_values('abs', ascending=False).head(10)\n",
    "print \n",
    "print 'Top Negative Factors on Salary:'\n",
    "print coefs[coefs[1] < 0].sort_values('abs', ascending=False).head(10)\n",
    "#http://www.cazaar.com/ta/econ113/interpreting-beta"
   ]
  },
  {
   "cell_type": "markdown",
   "metadata": {},
   "source": [
    "<p><strong>MODEL Q1A: Using a LINEAR model to Predict Salary ( BAD MOVE )</strong></p>\n",
    "<ul>\n",
    "<li>Best result is approx 50%.</li>\n",
    "<li>However the text/words from the NLP segment do not make any sense.</li>\n",
    "<li>Essentially, <span style=\"text-decoration: underline;\">they are words for us to take note of</span>.</li>\n",
    "<li>Even after removing more words (by adding to the stop words), this model is unable to make sense of the 50%, let alone the missing 50% of what it doesn't explain</li>\n",
    "<li>Conclusion is that, No one really uses NLP for Linear regession type of operations.</li>\n",
    "</ul>"
   ]
  },
  {
   "cell_type": "markdown",
   "metadata": {},
   "source": [
    "## Attempt Q1 - Model 2 - Predicting by Logistic Regression"
   ]
  },
  {
   "cell_type": "code",
   "execution_count": 294,
   "metadata": {
    "ExecuteTime": {
     "end_time": "2018-07-26T16:44:54.997208Z",
     "start_time": "2018-07-26T16:44:54.988841Z"
    }
   },
   "outputs": [],
   "source": [
    "## QCut / Bin the Mean Salary\n",
    "\n",
    "df_jobs_tts['Sal Range'] = pd.qcut(df_jobs_tts['Mean Sal'],3, labels=[\"Low\",\"Mid\",\"High\"])"
   ]
  },
  {
   "cell_type": "code",
   "execution_count": 295,
   "metadata": {
    "ExecuteTime": {
     "end_time": "2018-07-26T16:44:56.921341Z",
     "start_time": "2018-07-26T16:44:56.899488Z"
    }
   },
   "outputs": [
    {
     "data": {
      "text/html": [
       "<div>\n",
       "<style scoped>\n",
       "    .dataframe tbody tr th:only-of-type {\n",
       "        vertical-align: middle;\n",
       "    }\n",
       "\n",
       "    .dataframe tbody tr th {\n",
       "        vertical-align: top;\n",
       "    }\n",
       "\n",
       "    .dataframe thead th {\n",
       "        text-align: right;\n",
       "    }\n",
       "</style>\n",
       "<table border=\"1\" class=\"dataframe\">\n",
       "  <thead>\n",
       "    <tr style=\"text-align: right;\">\n",
       "      <th></th>\n",
       "      <th>min</th>\n",
       "      <th>max</th>\n",
       "    </tr>\n",
       "    <tr>\n",
       "      <th>Sal Range</th>\n",
       "      <th></th>\n",
       "      <th></th>\n",
       "    </tr>\n",
       "  </thead>\n",
       "  <tbody>\n",
       "    <tr>\n",
       "      <th>Low</th>\n",
       "      <td>2100.0</td>\n",
       "      <td>4230.81746</td>\n",
       "    </tr>\n",
       "    <tr>\n",
       "      <th>Mid</th>\n",
       "      <td>4250.0</td>\n",
       "      <td>5000.00000</td>\n",
       "    </tr>\n",
       "    <tr>\n",
       "      <th>High</th>\n",
       "      <td>5100.0</td>\n",
       "      <td>11250.00000</td>\n",
       "    </tr>\n",
       "  </tbody>\n",
       "</table>\n",
       "</div>"
      ],
      "text/plain": [
       "              min          max\n",
       "Sal Range                     \n",
       "Low        2100.0   4230.81746\n",
       "Mid        4250.0   5000.00000\n",
       "High       5100.0  11250.00000"
      ]
     },
     "execution_count": 295,
     "metadata": {},
     "output_type": "execute_result"
    }
   ],
   "source": [
    "df_jobs_tts.groupby('Sal Range')['Mean Sal'].agg(['min', 'max'])\n",
    "\n",
    "## Low Salary Range = $2100 - $4230.82\n",
    "## Mid Salary Range = $4250 - $5000\n",
    "## High Salary Range = $5100 and UP ($11250)"
   ]
  },
  {
   "cell_type": "code",
   "execution_count": 296,
   "metadata": {
    "ExecuteTime": {
     "end_time": "2018-07-26T16:44:57.969807Z",
     "start_time": "2018-07-26T16:44:57.953899Z"
    }
   },
   "outputs": [
    {
     "data": {
      "text/plain": [
       "Mid     234\n",
       "Low     187\n",
       "High    123\n",
       "Name: Sal Range, dtype: int64"
      ]
     },
     "execution_count": 296,
     "metadata": {},
     "output_type": "execute_result"
    }
   ],
   "source": [
    "df_jobs_tts['Sal Range'].value_counts()"
   ]
  },
  {
   "cell_type": "code",
   "execution_count": 297,
   "metadata": {
    "ExecuteTime": {
     "end_time": "2018-07-26T16:44:58.783631Z",
     "start_time": "2018-07-26T16:44:58.753459Z"
    }
   },
   "outputs": [
    {
     "data": {
      "text/html": [
       "<div>\n",
       "<style scoped>\n",
       "    .dataframe tbody tr th:only-of-type {\n",
       "        vertical-align: middle;\n",
       "    }\n",
       "\n",
       "    .dataframe tbody tr th {\n",
       "        vertical-align: top;\n",
       "    }\n",
       "\n",
       "    .dataframe thead th {\n",
       "        text-align: right;\n",
       "    }\n",
       "</style>\n",
       "<table border=\"1\" class=\"dataframe\">\n",
       "  <thead>\n",
       "    <tr style=\"text-align: right;\">\n",
       "      <th></th>\n",
       "      <th>Company</th>\n",
       "      <th>Title</th>\n",
       "      <th>Location</th>\n",
       "      <th>Address</th>\n",
       "      <th>Industry</th>\n",
       "      <th>JD</th>\n",
       "      <th>Job Level</th>\n",
       "      <th>Base Title</th>\n",
       "      <th>Min Years Exp</th>\n",
       "      <th>Mean Sal</th>\n",
       "      <th>Log Mean Sal</th>\n",
       "      <th>Sal Range</th>\n",
       "    </tr>\n",
       "  </thead>\n",
       "  <tbody>\n",
       "    <tr>\n",
       "      <th>0</th>\n",
       "      <td>Career Edge Asia Pte Ltd</td>\n",
       "      <td>senior data analyst            cbd  mnc   ref</td>\n",
       "      <td>singapore   across singapore</td>\n",
       "      <td>NaN</td>\n",
       "      <td>Human Resources Management/Consulting</td>\n",
       "      <td>career edge asia pte ltd    licence number   ...</td>\n",
       "      <td>4</td>\n",
       "      <td>DA</td>\n",
       "      <td>3.0</td>\n",
       "      <td>7000.0</td>\n",
       "      <td>8.853665</td>\n",
       "      <td>High</td>\n",
       "    </tr>\n",
       "  </tbody>\n",
       "</table>\n",
       "</div>"
      ],
      "text/plain": [
       "                    Company                                            Title  \\\n",
       "0  Career Edge Asia Pte Ltd  senior data analyst            cbd  mnc   ref     \n",
       "\n",
       "                       Location Address  \\\n",
       "0  singapore   across singapore     NaN   \n",
       "\n",
       "                                Industry  \\\n",
       "0  Human Resources Management/Consulting   \n",
       "\n",
       "                                                  JD  Job Level Base Title  \\\n",
       "0   career edge asia pte ltd    licence number   ...          4         DA   \n",
       "\n",
       "   Min Years Exp  Mean Sal  Log Mean Sal Sal Range  \n",
       "0            3.0    7000.0      8.853665      High  "
      ]
     },
     "execution_count": 297,
     "metadata": {},
     "output_type": "execute_result"
    }
   ],
   "source": [
    "df_jobs_tts.head(1)"
   ]
  },
  {
   "cell_type": "code",
   "execution_count": 298,
   "metadata": {
    "ExecuteTime": {
     "end_time": "2018-07-26T16:44:59.335502Z",
     "start_time": "2018-07-26T16:44:59.330718Z"
    }
   },
   "outputs": [],
   "source": [
    "#LabelEncoder().fit_transform(y)"
   ]
  },
  {
   "cell_type": "code",
   "execution_count": 299,
   "metadata": {
    "ExecuteTime": {
     "end_time": "2018-07-26T16:44:59.958929Z",
     "start_time": "2018-07-26T16:44:59.945024Z"
    }
   },
   "outputs": [],
   "source": [
    "## PREP X - Everything LESS 'Log Mean Sal', 'Address', 'Company' ,'Title'\n",
    "## PREP y - 'Sal Range'\n",
    "\n",
    "X = df_jobs_tts[[x for x in df_jobs_tts.columns if x not in ['Log Mean Sal','Min Years Exp', 'Location','Mean Sal', 'Address', 'Company' ,'Title','Sal Range']]]\n",
    "\n",
    "y = df_jobs_tts['Sal Range']\n",
    "#y = LabelEncoder().fit_transform(y)\n",
    "\n",
    "X_train, X_test, y_train, y_test = train_test_split(X, y, stratify=y, test_size=0.33)"
   ]
  },
  {
   "cell_type": "code",
   "execution_count": 300,
   "metadata": {
    "ExecuteTime": {
     "end_time": "2018-07-26T16:45:00.627848Z",
     "start_time": "2018-07-26T16:45:00.615043Z"
    }
   },
   "outputs": [
    {
     "data": {
      "text/plain": [
       "Industry      0\n",
       "JD            0\n",
       "Job Level     0\n",
       "Base Title    0\n",
       "dtype: int64"
      ]
     },
     "execution_count": 300,
     "metadata": {},
     "output_type": "execute_result"
    }
   ],
   "source": [
    "X.isnull().sum()"
   ]
  },
  {
   "cell_type": "markdown",
   "metadata": {},
   "source": [
    "#### Q1B Pipeline"
   ]
  },
  {
   "cell_type": "code",
   "execution_count": 301,
   "metadata": {
    "ExecuteTime": {
     "end_time": "2018-07-26T16:45:01.792891Z",
     "start_time": "2018-07-26T16:45:01.770399Z"
    }
   },
   "outputs": [],
   "source": [
    "# Create a FeatureUnion with nested pipeline: process_and_join_features\n",
    "process_and_join_features = FeatureUnion(\n",
    "    transformer_list=[\n",
    "        ('JobLevel', Pipeline([\n",
    "            ('selector', ItemSelector(key='Job Level', dt='num'))\n",
    "        ])),\n",
    "        ('JD', Pipeline([\n",
    "            ('selector', ItemSelector(key='JD', dt='text')),\n",
    "            ('tfidf', TfidfVectorizer(stop_words=stop_words,\n",
    "                                      tokenizer=LemmaTokenizer(),\n",
    "                                      lowercase=True,\n",
    "                                      use_idf=True, ngram_range=(1, 3),\n",
    "                                      max_features=100000, max_df=0.9, min_df=1,\n",
    "                                      norm='l2')),\n",
    "            # ('tfidfvect', TfidfTransformer())\n",
    "        ])),\n",
    "    ],\n",
    ")\n",
    "\n",
    "# Instantiate nested pipeline: pl\n",
    "pl = Pipeline([\n",
    "    ('basetitle', JobBaseTitlePreprocessor()),  # Dummy Out\n",
    "    ('indus', IndustryPreprocessor()),  # Dummy Out\n",
    "    ('union', process_and_join_features),\n",
    "    ('logreg', LogisticRegression(C=0.9, class_weight=None, dual=False, fit_intercept=True,\n",
    "         intercept_scaling=1, max_iter=100, multi_class='ovr', n_jobs=1,\n",
    "         penalty='l2', random_state=None, solver='saga', tol=0.0001,\n",
    "         verbose=0, warm_start=False))\n",
    "    #('gbc', GradientBoostingClassifier(random_state=42, max_features='auto', max_depth=6, n_estimators=200))\n",
    "])"
   ]
  },
  {
   "cell_type": "code",
   "execution_count": 302,
   "metadata": {
    "ExecuteTime": {
     "end_time": "2018-07-26T16:45:07.282860Z",
     "start_time": "2018-07-26T16:45:02.478265Z"
    }
   },
   "outputs": [
    {
     "name": "stdout",
     "output_type": "stream",
     "text": [
      "Selecting Job Level\n",
      "Selecting JD\n",
      "----------------------------------------\n",
      "--------- Classfication Report ------------\n",
      "Selecting Job Level\n",
      "Selecting JD\n",
      "             precision    recall  f1-score   support\n",
      "\n",
      "       High       0.77      0.24      0.37        41\n",
      "        Low       0.75      0.73      0.74        62\n",
      "        Mid       0.60      0.83      0.70        77\n",
      "\n",
      "avg / total       0.69      0.66      0.64       180\n",
      "\n",
      "----------------------------------------\n",
      "--------- Confusion Matrix ------------\n",
      "Selecting Job Level\n",
      "Selecting JD\n",
      "Confusion matrix, without normalization\n",
      "[[10  5 26]\n",
      " [ 0 45 17]\n",
      " [ 3 10 64]]\n"
     ]
    },
    {
     "data": {
      "image/png": "[encoded data removed]",
      "text/plain": [
       "<matplotlib.figure.Figure at 0x1a1e00ba50>"
      ]
     },
     "metadata": {},
     "output_type": "display_data"
    }
   ],
   "source": [
    "# Fit pl to the training data\n",
    "pl.fit(X_train, y_train)\n",
    "\n",
    "# Compute and print accuracy\n",
    "\n",
    "print('-'*40)\n",
    "print '--------- Classfication Report ------------'\n",
    "print classification_report(y_test, pl.predict(X_test))\n",
    "print('-'*40)\n",
    "print '--------- Confusion Matrix ------------'\n",
    "plot_confusion_matrix(confusion_matrix(y_test, pl.predict(X_test)), ['High','Mid','Low'])"
   ]
  },
  {
   "cell_type": "markdown",
   "metadata": {},
   "source": [
    "<p><strong>MODEL Q1B: Using a Logistic Regression model to Predict Salary Groups (Low, Mid, High)</strong></p>\n",
    "<ul>\n",
    "<li>Best result is approx 65%</li>\n",
    "<li>Salary Ranges:\n",
    "<ul>\n",
    "<li>Low Salary Range = $2100 - $4230.8</li>\n",
    "<li>Mid Salary Range = $4250 - $5000</li>\n",
    "<li>High Salary Range = $5100 and UP ($11250)</li>\n",
    "</ul>\n",
    "</li>\n",
    "<li>\n",
    "<pre>             precision    recall  f1-score   support\n",
    "\n",
    "       High       0.78      0.17      0.28        41\n",
    "        Low       0.75      0.73      0.74        62\n",
    "        Mid       0.59      0.84      0.69        77\n",
    "\n",
    "avg / total       0.69      0.65      0.61       180</pre>\n",
    "</li>\n",
    "<li>Thankfully, it predicts the Low and the Mid range salary brackets well.</li>\n",
    "</ul>"
   ]
  },
  {
   "cell_type": "markdown",
   "metadata": {},
   "source": [
    "#### Lets see the coefficients"
   ]
  },
  {
   "cell_type": "code",
   "execution_count": 303,
   "metadata": {
    "ExecuteTime": {
     "end_time": "2018-07-26T16:45:09.491503Z",
     "start_time": "2018-07-26T16:45:09.384880Z"
    }
   },
   "outputs": [],
   "source": [
    "## This flow follows the Pipeline\n",
    "dummy_cols = pl.named_steps['indus'].feature_names.tolist()\n",
    "# Numeric Cols \n",
    "numeric_cols = ['Job Level']\n",
    "# TDIDF FOR JD\n",
    "jd_cols = pl.named_steps['union'].transformer_list[1][1].named_steps['tfidf'].get_feature_names()\n",
    "\n",
    "X_train_csr_cols = dummy_cols + numeric_cols + jd_cols\n",
    "\n",
    "X_train_csr_cols.remove('JD')"
   ]
  },
  {
   "cell_type": "code",
   "execution_count": 304,
   "metadata": {
    "ExecuteTime": {
     "end_time": "2018-07-26T16:45:12.983817Z",
     "start_time": "2018-07-26T16:45:09.838772Z"
    }
   },
   "outputs": [],
   "source": [
    "results_dict = {}\n",
    "for i in range(len(pl.named_steps['logreg'].coef_[0])):\n",
    "       results_dict[X_train_csr_cols[i]] = [pl.named_steps['logreg'].coef_[0][i],pl.named_steps['logreg'].coef_[1][i],pl.named_steps['logreg'].coef_[2][i]]\n",
    "\n",
    "multi_coef = pd.DataFrame.from_dict(results_dict)\n",
    "multi_coef = multi_coef.T\n",
    "multi_coef.columns = [\"Low\",\"Mid\",\"High\"]"
   ]
  },
  {
   "cell_type": "code",
   "execution_count": 305,
   "metadata": {
    "ExecuteTime": {
     "end_time": "2018-07-26T16:45:13.017995Z",
     "start_time": "2018-07-26T16:45:12.989511Z"
    }
   },
   "outputs": [
    {
     "data": {
      "text/html": [
       "<div>\n",
       "<style scoped>\n",
       "    .dataframe tbody tr th:only-of-type {\n",
       "        vertical-align: middle;\n",
       "    }\n",
       "\n",
       "    .dataframe tbody tr th {\n",
       "        vertical-align: top;\n",
       "    }\n",
       "\n",
       "    .dataframe thead th {\n",
       "        text-align: right;\n",
       "    }\n",
       "</style>\n",
       "<table border=\"1\" class=\"dataframe\">\n",
       "  <thead>\n",
       "    <tr style=\"text-align: right;\">\n",
       "      <th></th>\n",
       "      <th>Low</th>\n",
       "    </tr>\n",
       "  </thead>\n",
       "  <tbody>\n",
       "    <tr>\n",
       "      <th>dashboard interactive</th>\n",
       "      <td>0.389759</td>\n",
       "    </tr>\n",
       "    <tr>\n",
       "      <th>look opportunity</th>\n",
       "      <td>0.379030</td>\n",
       "    </tr>\n",
       "    <tr>\n",
       "      <th>different format</th>\n",
       "      <td>0.372165</td>\n",
       "    </tr>\n",
       "    <tr>\n",
       "      <th>motivated flexible</th>\n",
       "      <td>0.317465</td>\n",
       "    </tr>\n",
       "    <tr>\n",
       "      <th>updated chua pearsonfrank</th>\n",
       "      <td>0.291369</td>\n",
       "    </tr>\n",
       "    <tr>\n",
       "      <th>agency case enterprise</th>\n",
       "      <td>0.279230</td>\n",
       "    </tr>\n",
       "    <tr>\n",
       "      <th>updated chua</th>\n",
       "      <td>0.274852</td>\n",
       "    </tr>\n",
       "    <tr>\n",
       "      <th>desiredgood understanding big</th>\n",
       "      <td>0.254987</td>\n",
       "    </tr>\n",
       "    <tr>\n",
       "      <th>coordination excellent</th>\n",
       "      <td>0.254987</td>\n",
       "    </tr>\n",
       "    <tr>\n",
       "      <th>coordination drive efficiency</th>\n",
       "      <td>0.254987</td>\n",
       "    </tr>\n",
       "  </tbody>\n",
       "</table>\n",
       "</div>"
      ],
      "text/plain": [
       "                                    Low\n",
       "dashboard interactive          0.389759\n",
       "look opportunity               0.379030\n",
       "different format               0.372165\n",
       "motivated flexible             0.317465\n",
       "updated chua pearsonfrank      0.291369\n",
       "agency case enterprise         0.279230\n",
       "updated chua                   0.274852\n",
       "desiredgood understanding big  0.254987\n",
       "coordination excellent         0.254987\n",
       "coordination drive efficiency  0.254987"
      ]
     },
     "execution_count": 305,
     "metadata": {},
     "output_type": "execute_result"
    }
   ],
   "source": [
    "## Top 10 Features for LOW Salary\n",
    "## Low Salary Range = $2100 - $4230.82\n",
    "\n",
    "multi_coef.sort_values('Low', ascending=False)[['Low']].head(10)"
   ]
  },
  {
   "cell_type": "code",
   "execution_count": 306,
   "metadata": {
    "ExecuteTime": {
     "end_time": "2018-07-26T16:45:15.305596Z",
     "start_time": "2018-07-26T16:45:15.276818Z"
    }
   },
   "outputs": [
    {
     "data": {
      "text/html": [
       "<div>\n",
       "<style scoped>\n",
       "    .dataframe tbody tr th:only-of-type {\n",
       "        vertical-align: middle;\n",
       "    }\n",
       "\n",
       "    .dataframe tbody tr th {\n",
       "        vertical-align: top;\n",
       "    }\n",
       "\n",
       "    .dataframe thead th {\n",
       "        text-align: right;\n",
       "    }\n",
       "</style>\n",
       "<table border=\"1\" class=\"dataframe\">\n",
       "  <thead>\n",
       "    <tr style=\"text-align: right;\">\n",
       "      <th></th>\n",
       "      <th>Mid</th>\n",
       "    </tr>\n",
       "  </thead>\n",
       "  <tbody>\n",
       "    <tr>\n",
       "      <th>dashboard interactive</th>\n",
       "      <td>0.461175</td>\n",
       "    </tr>\n",
       "    <tr>\n",
       "      <th>sa matlab spss</th>\n",
       "      <td>0.458175</td>\n",
       "    </tr>\n",
       "    <tr>\n",
       "      <th>relevant tracker tool</th>\n",
       "      <td>0.383230</td>\n",
       "    </tr>\n",
       "    <tr>\n",
       "      <th>join senior intelligence</th>\n",
       "      <td>0.325245</td>\n",
       "    </tr>\n",
       "    <tr>\n",
       "      <th>evolve interacting regional</th>\n",
       "      <td>0.301328</td>\n",
       "    </tr>\n",
       "    <tr>\n",
       "      <th>advanced analytics activity</th>\n",
       "      <td>0.293235</td>\n",
       "    </tr>\n",
       "    <tr>\n",
       "      <th>influence longterm</th>\n",
       "      <td>0.288605</td>\n",
       "    </tr>\n",
       "    <tr>\n",
       "      <th>salesforce certified platform</th>\n",
       "      <td>0.280146</td>\n",
       "    </tr>\n",
       "    <tr>\n",
       "      <th>mha collaborate extract</th>\n",
       "      <td>0.266778</td>\n",
       "    </tr>\n",
       "    <tr>\n",
       "      <th>qualification graduate analysis</th>\n",
       "      <td>0.263186</td>\n",
       "    </tr>\n",
       "  </tbody>\n",
       "</table>\n",
       "</div>"
      ],
      "text/plain": [
       "                                      Mid\n",
       "dashboard interactive            0.461175\n",
       "sa matlab spss                   0.458175\n",
       "relevant tracker tool            0.383230\n",
       "join senior intelligence         0.325245\n",
       "evolve interacting regional      0.301328\n",
       "advanced analytics activity      0.293235\n",
       "influence longterm               0.288605\n",
       "salesforce certified platform    0.280146\n",
       "mha collaborate extract          0.266778\n",
       "qualification graduate analysis  0.263186"
      ]
     },
     "execution_count": 306,
     "metadata": {},
     "output_type": "execute_result"
    }
   ],
   "source": [
    "## Top 10 Features for MID Salary\n",
    "## Mid Salary Range = $4250 - $5000\n",
    "\n",
    "multi_coef.sort_values('Mid', ascending=False)[['Mid']].head(10)"
   ]
  },
  {
   "cell_type": "code",
   "execution_count": 307,
   "metadata": {
    "ExecuteTime": {
     "end_time": "2018-07-26T16:45:16.057517Z",
     "start_time": "2018-07-26T16:45:16.030109Z"
    }
   },
   "outputs": [
    {
     "data": {
      "text/html": [
       "<div>\n",
       "<style scoped>\n",
       "    .dataframe tbody tr th:only-of-type {\n",
       "        vertical-align: middle;\n",
       "    }\n",
       "\n",
       "    .dataframe tbody tr th {\n",
       "        vertical-align: top;\n",
       "    }\n",
       "\n",
       "    .dataframe thead th {\n",
       "        text-align: right;\n",
       "    }\n",
       "</style>\n",
       "<table border=\"1\" class=\"dataframe\">\n",
       "  <thead>\n",
       "    <tr style=\"text-align: right;\">\n",
       "      <th></th>\n",
       "      <th>High</th>\n",
       "    </tr>\n",
       "  </thead>\n",
       "  <tbody>\n",
       "    <tr>\n",
       "      <th>creation stakeholder gather</th>\n",
       "      <td>0.480998</td>\n",
       "    </tr>\n",
       "    <tr>\n",
       "      <th>improving financial</th>\n",
       "      <td>0.318171</td>\n",
       "    </tr>\n",
       "    <tr>\n",
       "      <th>learn bleeding edge</th>\n",
       "      <td>0.295018</td>\n",
       "    </tr>\n",
       "    <tr>\n",
       "      <th>redefining applicablerequirements</th>\n",
       "      <td>0.272052</td>\n",
       "    </tr>\n",
       "    <tr>\n",
       "      <th>position senior</th>\n",
       "      <td>0.267347</td>\n",
       "    </tr>\n",
       "    <tr>\n",
       "      <th>apex</th>\n",
       "      <td>0.256266</td>\n",
       "    </tr>\n",
       "    <tr>\n",
       "      <th>report template annual</th>\n",
       "      <td>0.251939</td>\n",
       "    </tr>\n",
       "    <tr>\n",
       "      <th>right ensure high</th>\n",
       "      <td>0.248294</td>\n",
       "    </tr>\n",
       "    <tr>\n",
       "      <th>sector agency</th>\n",
       "      <td>0.245219</td>\n",
       "    </tr>\n",
       "    <tr>\n",
       "      <th>pressure accuracy</th>\n",
       "      <td>0.245022</td>\n",
       "    </tr>\n",
       "  </tbody>\n",
       "</table>\n",
       "</div>"
      ],
      "text/plain": [
       "                                       High\n",
       "creation stakeholder gather        0.480998\n",
       "improving financial                0.318171\n",
       "learn bleeding edge                0.295018\n",
       "redefining applicablerequirements  0.272052\n",
       "position senior                    0.267347\n",
       "apex                               0.256266\n",
       "report template annual             0.251939\n",
       "right ensure high                  0.248294\n",
       "sector agency                      0.245219\n",
       "pressure accuracy                  0.245022"
      ]
     },
     "execution_count": 307,
     "metadata": {},
     "output_type": "execute_result"
    }
   ],
   "source": [
    "## Top 10 Features for HIGH Salary\n",
    "## High Salary Range = $5100 and UP ($11250)\n",
    "\n",
    "multi_coef.sort_values('High', ascending=False)[['High']].head(10)"
   ]
  },
  {
   "cell_type": "markdown",
   "metadata": {},
   "source": []
  },
  {
   "cell_type": "markdown",
   "metadata": {
    "ExecuteTime": {
     "end_time": "2018-07-26T15:12:33.511251Z",
     "start_time": "2018-07-26T15:12:33.506344Z"
    }
   },
   "source": [
    "## Attempt Q2 - Model 1 - Logistic Regression"
   ]
  },
  {
   "cell_type": "code",
   "execution_count": 308,
   "metadata": {
    "ExecuteTime": {
     "end_time": "2018-07-26T16:45:27.395660Z",
     "start_time": "2018-07-26T16:45:27.365497Z"
    }
   },
   "outputs": [
    {
     "data": {
      "text/html": [
       "<div>\n",
       "<style scoped>\n",
       "    .dataframe tbody tr th:only-of-type {\n",
       "        vertical-align: middle;\n",
       "    }\n",
       "\n",
       "    .dataframe tbody tr th {\n",
       "        vertical-align: top;\n",
       "    }\n",
       "\n",
       "    .dataframe thead th {\n",
       "        text-align: right;\n",
       "    }\n",
       "</style>\n",
       "<table border=\"1\" class=\"dataframe\">\n",
       "  <thead>\n",
       "    <tr style=\"text-align: right;\">\n",
       "      <th></th>\n",
       "      <th>Company</th>\n",
       "      <th>Title</th>\n",
       "      <th>Location</th>\n",
       "      <th>Address</th>\n",
       "      <th>Industry</th>\n",
       "      <th>JD</th>\n",
       "      <th>Job Level</th>\n",
       "      <th>Base Title</th>\n",
       "      <th>Min Years Exp</th>\n",
       "      <th>Mean Sal</th>\n",
       "      <th>Log Mean Sal</th>\n",
       "      <th>Sal Range</th>\n",
       "    </tr>\n",
       "  </thead>\n",
       "  <tbody>\n",
       "    <tr>\n",
       "      <th>0</th>\n",
       "      <td>Career Edge Asia Pte Ltd</td>\n",
       "      <td>senior data analyst            cbd  mnc   ref</td>\n",
       "      <td>singapore   across singapore</td>\n",
       "      <td>NaN</td>\n",
       "      <td>Human Resources Management/Consulting</td>\n",
       "      <td>career edge asia pte ltd    licence number   ...</td>\n",
       "      <td>4</td>\n",
       "      <td>DA</td>\n",
       "      <td>3.0</td>\n",
       "      <td>7000.0</td>\n",
       "      <td>8.853665</td>\n",
       "      <td>High</td>\n",
       "    </tr>\n",
       "  </tbody>\n",
       "</table>\n",
       "</div>"
      ],
      "text/plain": [
       "                    Company                                            Title  \\\n",
       "0  Career Edge Asia Pte Ltd  senior data analyst            cbd  mnc   ref     \n",
       "\n",
       "                       Location Address  \\\n",
       "0  singapore   across singapore     NaN   \n",
       "\n",
       "                                Industry  \\\n",
       "0  Human Resources Management/Consulting   \n",
       "\n",
       "                                                  JD  Job Level Base Title  \\\n",
       "0   career edge asia pte ltd    licence number   ...          4         DA   \n",
       "\n",
       "   Min Years Exp  Mean Sal  Log Mean Sal Sal Range  \n",
       "0            3.0    7000.0      8.853665      High  "
      ]
     },
     "execution_count": 308,
     "metadata": {},
     "output_type": "execute_result"
    }
   ],
   "source": [
    "df_jobs_tts.head(1)"
   ]
  },
  {
   "cell_type": "code",
   "execution_count": 309,
   "metadata": {
    "ExecuteTime": {
     "end_time": "2018-07-26T16:45:28.039672Z",
     "start_time": "2018-07-26T16:45:28.025644Z"
    }
   },
   "outputs": [],
   "source": [
    "## PREP X - 'Everything LESS 'Base Title','Log Mean Sal','Min Years Exp', 'Location','Address', 'Title','Company','Sal Range'\n",
    "## PREP y - 'Base Title'\n",
    "\n",
    "X = df_jobs_tts[[x for x in df_jobs_tts.columns if x not in ['Base Title','Log Mean Sal','Min Years Exp', 'Location','Address', 'Title','Company','Sal Range']]]\n",
    "\n",
    "y = df_jobs_tts['Base Title']\n",
    "#y = LabelEncoder().fit_transform(y)\n",
    "\n",
    "X_train, X_test, y_train, y_test = train_test_split(X, y, stratify=y, test_size=0.33)"
   ]
  },
  {
   "cell_type": "code",
   "execution_count": 310,
   "metadata": {
    "ExecuteTime": {
     "end_time": "2018-07-26T16:45:28.411229Z",
     "start_time": "2018-07-26T16:45:28.385963Z"
    }
   },
   "outputs": [],
   "source": [
    "# Create a FeatureUnion with nested pipeline: process_and_join_features\n",
    "process_and_join_features = FeatureUnion(\n",
    "    transformer_list=[\n",
    "        ('JobLevel', Pipeline([\n",
    "            ('selector', ItemSelector(key='Job Level', dt='num'))\n",
    "        ])),\n",
    "        ('MeanSal', Pipeline([\n",
    "            ('selector', ItemSelector(key='Mean Sal', dt='num'))\n",
    "        ])),\n",
    "        ('JD', Pipeline([\n",
    "            ('selector', ItemSelector(key='JD', dt='text')),\n",
    "            ('tfidf', TfidfVectorizer(stop_words=stop_words,\n",
    "                                      tokenizer=LemmaTokenizer(),\n",
    "                                      lowercase=True,\n",
    "                                      use_idf=True, ngram_range=(1, 2),\n",
    "                                      max_features=100000, max_df=0.9, min_df=1,\n",
    "                                      norm='l2')),\n",
    "        ])),\n",
    "\n",
    "    ],\n",
    ")\n",
    "\n",
    "# Instantiate nested pipeline: pl\n",
    "pl = Pipeline([\n",
    "    ('indus', IndustryPreprocessor()),  # Dummy Out\n",
    "    ('union', process_and_join_features),\n",
    "#     ('logreg', LogisticRegression(C=0.9, class_weight=None, dual=False, fit_intercept=True,\n",
    "#          intercept_scaling=1, max_iter=100, multi_class='ovr', n_jobs=1,\n",
    "#          penalty='l2', random_state=None, solver='saga', tol=0.0001,\n",
    "#          verbose=0, warm_start=False))\n",
    "    ('gbc', GradientBoostingClassifier(random_state=42, max_features='auto', max_depth=7, n_estimators=500))\n",
    "])"
   ]
  },
  {
   "cell_type": "code",
   "execution_count": 312,
   "metadata": {
    "ExecuteTime": {
     "end_time": "2018-07-26T16:46:23.339907Z",
     "start_time": "2018-07-26T16:46:00.160009Z"
    }
   },
   "outputs": [
    {
     "name": "stdout",
     "output_type": "stream",
     "text": [
      "Selecting Job Level\n",
      "Selecting Mean Sal\n",
      "Selecting JD\n",
      "----------------------------------------\n",
      "--------- Classfication Report ------------\n",
      "Selecting Job Level\n",
      "Selecting Mean Sal\n",
      "Selecting JD\n",
      "             precision    recall  f1-score   support\n",
      "\n",
      "         BA       0.86      0.93      0.89        82\n",
      "         BI       0.73      0.79      0.76        14\n",
      "         DA       0.75      0.67      0.71        45\n",
      "      DArch       0.00      0.00      0.00         1\n",
      "         DE       0.67      0.67      0.67         3\n",
      "         DS       0.79      0.77      0.78        35\n",
      "\n",
      "avg / total       0.80      0.81      0.81       180\n",
      "\n",
      "----------------------------------------\n",
      "--------- Confusion Matrix ------------\n",
      "Selecting Job Level\n",
      "Selecting Mean Sal\n",
      "Selecting JD\n",
      "Confusion matrix, without normalization\n",
      "[[76  2  3  0  0  1]\n",
      " [ 2 11  1  0  0  0]\n",
      " [ 7  2 30  0  1  5]\n",
      " [ 0  0  1  0  0  0]\n",
      " [ 0  0  0  0  2  1]\n",
      " [ 3  0  5  0  0 27]]\n"
     ]
    },
    {
     "data": {
      "image/png": "[encoded data removed]",
      "text/plain": [
       "<matplotlib.figure.Figure at 0x1a1c227590>"
      ]
     },
     "metadata": {},
     "output_type": "display_data"
    }
   ],
   "source": [
    "# Fit pl to the training data\n",
    "pl.fit(X_train, y_train)\n",
    "\n",
    "# Compute and print accuracy\n",
    "print('-'*40)\n",
    "print '--------- Classfication Report ------------'\n",
    "print classification_report(y_test, pl.predict(X_test))\n",
    "print('-'*40)\n",
    "print '--------- Confusion Matrix ------------'\n",
    "plot_confusion_matrix(confusion_matrix(y_test, pl.predict(X_test)), ['BA','BI','DA','DArch','DE','DS'])"
   ]
  },
  {
   "cell_type": "markdown",
   "metadata": {},
   "source": [
    "<p><strong>MODEL Q1B: Using a Gradient Boosted Classifier model to Predict Base Titles</strong></p>\n",
    "<ul>\n",
    "<li>Best result is approx 78%</li>\n",
    "<li>Base Titles:\n",
    "<ul>\n",
    "<li>BA = Business Analyst</li>\n",
    "<li>BI = Business Intelligence</li>\n",
    "<li>DA = Data Analyst</li>\n",
    "<li>DArch = Data Architect</li>\n",
    "<li>DE = Data Engineer</li>\n",
    "<li><strong>DS = Data Scientist</strong></li>\n",
    "</ul>\n",
    "</li>\n",
    "<li>Given that the classes are slightly imbalanced - given a 97% on the DS label (34/35) is a good sign</li>\n",
    "<li>\n",
    "<pre>            precision    recall  f1-score   support\n",
    "\n",
    "         BA       0.94      0.80      0.87        82\n",
    "         BI       0.65      0.79      0.71        14\n",
    "         DA       0.66      0.60      0.63        45\n",
    "      DArch       0.00      0.00      0.00         1\n",
    "         DE       1.00      1.00      1.00         3\n",
    "         DS       0.69      0.97      0.81        35\n",
    "\n",
    "avg / total       0.80      0.78      0.78       180</pre>\n",
    "</li>\n",
    "<li>THIS ISNT IT! - We need to see ONE VS ALL !</li>\n",
    "</ul>"
   ]
  },
  {
   "cell_type": "markdown",
   "metadata": {},
   "source": [
    "#### ONE VS ALL Approach to find out what contributes to DS!"
   ]
  },
  {
   "cell_type": "code",
   "execution_count": 313,
   "metadata": {
    "ExecuteTime": {
     "end_time": "2018-07-26T16:46:23.359254Z",
     "start_time": "2018-07-26T16:46:23.347441Z"
    }
   },
   "outputs": [],
   "source": [
    "## CREATE A NEW FEATURE TO TARGET IS_DS\n",
    "df_jobs_tts['IS_DS'] = df_jobs_tts['Base Title'].apply(lambda x: 'DS' if x == 'DS' else 'OTHERS')"
   ]
  },
  {
   "cell_type": "code",
   "execution_count": 314,
   "metadata": {
    "ExecuteTime": {
     "end_time": "2018-07-26T16:46:23.382549Z",
     "start_time": "2018-07-26T16:46:23.365359Z"
    }
   },
   "outputs": [],
   "source": [
    "## PREP X - 'Everything LESS 'Base Title','Log Mean Sal','Min Years Exp', 'Location','Address', 'Title','Company','Sal Range'\n",
    "## PREP y - 'IS_DS'\n",
    "\n",
    "X = df_jobs_tts[[x for x in df_jobs_tts.columns if x not in ['Base Title','Log Mean Sal','Min Years Exp', 'Location','Address', 'Title','Company','Sal Range']]]\n",
    "\n",
    "y = df_jobs_tts['IS_DS']\n",
    "#y = LabelEncoder().fit_transform(y)\n",
    "\n",
    "X_train, X_test, y_train, y_test = train_test_split(X, y, stratify=y, test_size=0.33)"
   ]
  },
  {
   "cell_type": "code",
   "execution_count": 315,
   "metadata": {
    "ExecuteTime": {
     "end_time": "2018-07-26T16:46:23.415955Z",
     "start_time": "2018-07-26T16:46:23.387761Z"
    }
   },
   "outputs": [],
   "source": [
    "# Create a FeatureUnion with nested pipeline: process_and_join_features\n",
    "process_and_join_features = FeatureUnion(\n",
    "    transformer_list=[\n",
    "        ('JobLevel', Pipeline([\n",
    "            ('selector', ItemSelector(key='Job Level', dt='num'))\n",
    "        ])),\n",
    "        ('MeanSal', Pipeline([\n",
    "            ('selector', ItemSelector(key='Mean Sal', dt='num'))\n",
    "        ])),\n",
    "        ('JD', Pipeline([\n",
    "            ('selector', ItemSelector(key='JD', dt='text')),\n",
    "            ('tfidf', TfidfVectorizer(stop_words=stop_words,\n",
    "                                      tokenizer=LemmaTokenizer(),\n",
    "                                      lowercase=True,\n",
    "                                      use_idf=True, ngram_range=(1, 2),\n",
    "                                      max_features=100000, max_df=0.9, min_df=1,\n",
    "                                      norm='l2')),\n",
    "        ])),\n",
    "\n",
    "    ],\n",
    ")\n",
    "\n",
    "# Instantiate nested pipeline: pl\n",
    "pl = Pipeline([\n",
    "    ('indus', IndustryPreprocessor()),  # Dummy Out\n",
    "    ('union', process_and_join_features),\n",
    "#     ('logreg', LogisticRegression(C=0.9, class_weight=None, dual=False, fit_intercept=True,\n",
    "#          intercept_scaling=1, max_iter=100, multi_class='ovr', n_jobs=1,\n",
    "#          penalty='l2', random_state=None, solver='saga', tol=0.0001,\n",
    "#          verbose=0, warm_start=False))\n",
    "    ('gbc', GradientBoostingClassifier(random_state=42, max_features='auto', max_depth=7, n_estimators=500))\n",
    "])"
   ]
  },
  {
   "cell_type": "code",
   "execution_count": 318,
   "metadata": {
    "ExecuteTime": {
     "end_time": "2018-07-26T16:47:15.420423Z",
     "start_time": "2018-07-26T16:47:08.941029Z"
    }
   },
   "outputs": [
    {
     "name": "stdout",
     "output_type": "stream",
     "text": [
      "Selecting Job Level\n",
      "Selecting Mean Sal\n",
      "Selecting JD\n",
      "----------------------------------------\n",
      "--------- Classfication Report ------------\n",
      "Selecting Job Level\n",
      "Selecting Mean Sal\n",
      "Selecting JD\n",
      "             precision    recall  f1-score   support\n",
      "\n",
      "         DS       0.73      0.65      0.69        34\n",
      "     OTHERS       0.92      0.95      0.93       146\n",
      "\n",
      "avg / total       0.88      0.89      0.89       180\n",
      "\n",
      "----------------------------------------\n",
      "--------- Confusion Matrix ------------\n",
      "Selecting Job Level\n",
      "Selecting Mean Sal\n",
      "Selecting JD\n",
      "Confusion matrix, without normalization\n",
      "[[ 22  12]\n",
      " [  8 138]]\n"
     ]
    },
    {
     "data": {
      "image/png": "[encoded data removed]",
      "text/plain": [
       "<matplotlib.figure.Figure at 0x1a1b6701d0>"
      ]
     },
     "metadata": {},
     "output_type": "display_data"
    }
   ],
   "source": [
    "# Fit pl to the training data\n",
    "pl.fit(X_train, y_train)\n",
    "\n",
    "# Compute and print accuracy\n",
    "print('-'*40)\n",
    "print '--------- Classfication Report ------------'\n",
    "print classification_report(y_test, pl.predict(X_test))\n",
    "print('-'*40)\n",
    "print '--------- Confusion Matrix ------------'\n",
    "plot_confusion_matrix(confusion_matrix(y_test, pl.predict(X_test)), ['IS_DS','OTHERS'])"
   ]
  },
  {
   "cell_type": "markdown",
   "metadata": {},
   "source": [
    "<p><span style=\"color: #0000ff;\"><strong>MODEL Q2A: Using a Gradient Boosted Classifier model to Predict IS_DS</strong></span></p>\n",
    "<ul>\n",
    "<li>Best result is approx 92%</li>\n",
    "<li>Base Titles:\n",
    "<ul>\n",
    "<li>OTHERS = BA, DA, BI, DArch, DE</li>\n",
    "<li><strong>DS = Data Scientist</strong></li>\n",
    "</ul>\n",
    "</li>\n",
    "<li>Given that the classes are <span style=\"text-decoration: underline;\">very imbalanced</span> - given a 88% on the DS label (30/34) is a pretty good sign</li>\n",
    "<li>\n",
    "<pre>             precision    recall  f1-score   support\n",
    "\n",
    "         DS       0.73      0.88      0.80        34\n",
    "     OTHERS       0.97      0.92      0.95       146\n",
    "\n",
    "avg / total       0.93      0.92      0.92       180</pre>\n",
    "</li>\n",
    "<li>NOW we can see the feature importance for DS~</li>\n",
    "</ul>"
   ]
  },
  {
   "cell_type": "markdown",
   "metadata": {},
   "source": [
    "#### As this is using a GradientBoostedClassifier we can see the Feature importances"
   ]
  },
  {
   "cell_type": "code",
   "execution_count": 319,
   "metadata": {
    "ExecuteTime": {
     "end_time": "2018-07-26T16:47:20.643144Z",
     "start_time": "2018-07-26T16:47:20.595895Z"
    }
   },
   "outputs": [],
   "source": [
    "## This flow follows the Pipeline\n",
    "dummy_cols = pl.named_steps['indus'].feature_names.tolist()\n",
    "# Numeric Cols \n",
    "numeric_cols = ['Job Level' , 'Mean Sal']\n",
    "# TDIDF FOR JD\n",
    "jd_cols = pl.named_steps['union'].transformer_list[2][1].named_steps['tfidf'].get_feature_names()\n",
    "\n",
    "X_train_csr_cols = dummy_cols + numeric_cols + jd_cols\n",
    "\n",
    "X_train_csr_cols.remove('JD')"
   ]
  },
  {
   "cell_type": "code",
   "execution_count": 320,
   "metadata": {
    "ExecuteTime": {
     "end_time": "2018-07-26T16:47:22.123724Z",
     "start_time": "2018-07-26T16:47:22.029414Z"
    }
   },
   "outputs": [
    {
     "data": {
      "text/html": [
       "<div>\n",
       "<style scoped>\n",
       "    .dataframe tbody tr th:only-of-type {\n",
       "        vertical-align: middle;\n",
       "    }\n",
       "\n",
       "    .dataframe tbody tr th {\n",
       "        vertical-align: top;\n",
       "    }\n",
       "\n",
       "    .dataframe thead th {\n",
       "        text-align: right;\n",
       "    }\n",
       "</style>\n",
       "<table border=\"1\" class=\"dataframe\">\n",
       "  <thead>\n",
       "    <tr style=\"text-align: right;\">\n",
       "      <th></th>\n",
       "      <th>Feature</th>\n",
       "      <th>Importance</th>\n",
       "    </tr>\n",
       "  </thead>\n",
       "  <tbody>\n",
       "    <tr>\n",
       "      <th>15499</th>\n",
       "      <td>leadership plus</td>\n",
       "      <td>0.084336</td>\n",
       "    </tr>\n",
       "    <tr>\n",
       "      <th>7571</th>\n",
       "      <td>delivery various</td>\n",
       "      <td>0.015343</td>\n",
       "    </tr>\n",
       "    <tr>\n",
       "      <th>8413</th>\n",
       "      <td>discussion understand</td>\n",
       "      <td>0.006240</td>\n",
       "    </tr>\n",
       "    <tr>\n",
       "      <th>25698</th>\n",
       "      <td>standard best</td>\n",
       "      <td>0.005695</td>\n",
       "    </tr>\n",
       "    <tr>\n",
       "      <th>21503</th>\n",
       "      <td>proposed case</td>\n",
       "      <td>0.005151</td>\n",
       "    </tr>\n",
       "    <tr>\n",
       "      <th>23962</th>\n",
       "      <td>science iot</td>\n",
       "      <td>0.004449</td>\n",
       "    </tr>\n",
       "    <tr>\n",
       "      <th>13490</th>\n",
       "      <td>improvement deliverable</td>\n",
       "      <td>0.004070</td>\n",
       "    </tr>\n",
       "    <tr>\n",
       "      <th>19808</th>\n",
       "      <td>personnel registration</td>\n",
       "      <td>0.003764</td>\n",
       "    </tr>\n",
       "    <tr>\n",
       "      <th>7161</th>\n",
       "      <td>deadline technology</td>\n",
       "      <td>0.003591</td>\n",
       "    </tr>\n",
       "    <tr>\n",
       "      <th>23589</th>\n",
       "      <td>routine shared</td>\n",
       "      <td>0.003583</td>\n",
       "    </tr>\n",
       "  </tbody>\n",
       "</table>\n",
       "</div>"
      ],
      "text/plain": [
       "                       Feature  Importance\n",
       "15499          leadership plus    0.084336\n",
       "7571          delivery various    0.015343\n",
       "8413     discussion understand    0.006240\n",
       "25698            standard best    0.005695\n",
       "21503            proposed case    0.005151\n",
       "23962              science iot    0.004449\n",
       "13490  improvement deliverable    0.004070\n",
       "19808   personnel registration    0.003764\n",
       "7161       deadline technology    0.003591\n",
       "23589           routine shared    0.003583"
      ]
     },
     "execution_count": 320,
     "metadata": {},
     "output_type": "execute_result"
    }
   ],
   "source": [
    "# Top 10 Features based on Importance\n",
    "coefs = list(zip(X_train_csr_cols, pl.named_steps['gbc'].feature_importances_))\n",
    "coefs = pd.DataFrame.from_records(coefs)\n",
    "coefs.columns = ['Feature','Importance']\n",
    "coefs.sort_values('Importance', ascending=False)[['Feature', 'Importance']].head(10)"
   ]
  },
  {
   "cell_type": "code",
   "execution_count": 321,
   "metadata": {
    "ExecuteTime": {
     "end_time": "2018-07-26T16:47:22.921491Z",
     "start_time": "2018-07-26T16:47:22.898128Z"
    }
   },
   "outputs": [
    {
     "data": {
      "text/html": [
       "<div>\n",
       "<style scoped>\n",
       "    .dataframe tbody tr th:only-of-type {\n",
       "        vertical-align: middle;\n",
       "    }\n",
       "\n",
       "    .dataframe tbody tr th {\n",
       "        vertical-align: top;\n",
       "    }\n",
       "\n",
       "    .dataframe thead th {\n",
       "        text-align: right;\n",
       "    }\n",
       "</style>\n",
       "<table border=\"1\" class=\"dataframe\">\n",
       "  <thead>\n",
       "    <tr style=\"text-align: right;\">\n",
       "      <th></th>\n",
       "      <th>Feature</th>\n",
       "      <th>Importance</th>\n",
       "    </tr>\n",
       "  </thead>\n",
       "  <tbody>\n",
       "    <tr>\n",
       "      <th>9751</th>\n",
       "      <td>enthusiastic fast</td>\n",
       "      <td>0.0</td>\n",
       "    </tr>\n",
       "    <tr>\n",
       "      <th>9750</th>\n",
       "      <td>enthusiastic algorithm</td>\n",
       "      <td>0.0</td>\n",
       "    </tr>\n",
       "    <tr>\n",
       "      <th>9749</th>\n",
       "      <td>enthusiastic</td>\n",
       "      <td>0.0</td>\n",
       "    </tr>\n",
       "    <tr>\n",
       "      <th>9748</th>\n",
       "      <td>enthusiasm challenging</td>\n",
       "      <td>0.0</td>\n",
       "    </tr>\n",
       "    <tr>\n",
       "      <th>9747</th>\n",
       "      <td>enthusiasm</td>\n",
       "      <td>0.0</td>\n",
       "    </tr>\n",
       "    <tr>\n",
       "      <th>9746</th>\n",
       "      <td>enthuse benefit</td>\n",
       "      <td>0.0</td>\n",
       "    </tr>\n",
       "    <tr>\n",
       "      <th>9745</th>\n",
       "      <td>enthuse</td>\n",
       "      <td>0.0</td>\n",
       "    </tr>\n",
       "    <tr>\n",
       "      <th>9744</th>\n",
       "      <td>entertainment spe</td>\n",
       "      <td>0.0</td>\n",
       "    </tr>\n",
       "    <tr>\n",
       "      <th>9743</th>\n",
       "      <td>entertainment</td>\n",
       "      <td>0.0</td>\n",
       "    </tr>\n",
       "    <tr>\n",
       "      <th>29151</th>\n",
       "      <td>yield curve</td>\n",
       "      <td>0.0</td>\n",
       "    </tr>\n",
       "  </tbody>\n",
       "</table>\n",
       "</div>"
      ],
      "text/plain": [
       "                      Feature  Importance\n",
       "9751        enthusiastic fast         0.0\n",
       "9750   enthusiastic algorithm         0.0\n",
       "9749             enthusiastic         0.0\n",
       "9748   enthusiasm challenging         0.0\n",
       "9747               enthusiasm         0.0\n",
       "9746          enthuse benefit         0.0\n",
       "9745                  enthuse         0.0\n",
       "9744        entertainment spe         0.0\n",
       "9743            entertainment         0.0\n",
       "29151             yield curve         0.0"
      ]
     },
     "execution_count": 321,
     "metadata": {},
     "output_type": "execute_result"
    }
   ],
   "source": [
    "## Bottom 10 Features\n",
    "coefs.sort_values('Importance', ascending=False)[['Feature', 'Importance']].tail(10)"
   ]
  },
  {
   "cell_type": "markdown",
   "metadata": {},
   "source": [
    "## Attempt Q2 - Model 2 - Predicting by Random Forest Classifier"
   ]
  },
  {
   "cell_type": "code",
   "execution_count": 329,
   "metadata": {
    "ExecuteTime": {
     "end_time": "2018-07-26T16:48:22.804235Z",
     "start_time": "2018-07-26T16:48:22.779291Z"
    }
   },
   "outputs": [],
   "source": [
    "# Create a FeatureUnion with nested pipeline: process_and_join_features\n",
    "process_and_join_features = FeatureUnion(\n",
    "    transformer_list=[\n",
    "        ('JobLevel', Pipeline([\n",
    "            ('selector', ItemSelector(key='Job Level', dt='num'))\n",
    "        ])),\n",
    "        ('MeanSal', Pipeline([\n",
    "            ('selector', ItemSelector(key='Mean Sal', dt='num'))\n",
    "        ])),\n",
    "        ('JD', Pipeline([\n",
    "            ('selector', ItemSelector(key='JD', dt='text')),\n",
    "            ('tfidf', TfidfVectorizer(stop_words=stop_words,\n",
    "                                      tokenizer=LemmaTokenizer(),\n",
    "                                      lowercase=True,\n",
    "                                      use_idf=True, ngram_range=(1, 2),\n",
    "                                      max_features=100000, max_df=0.9, min_df=1,\n",
    "                                      norm='l2')),\n",
    "        ])),\n",
    "\n",
    "    ],\n",
    ")\n",
    "\n",
    "# Instantiate nested pipeline: pl\n",
    "pl = Pipeline([\n",
    "    ('indus', IndustryPreprocessor()),  # Dummy Out\n",
    "    ('union', process_and_join_features),\n",
    "    ('rfc', RandomForestClassifier(random_state=42, max_features=3000, max_depth=7, n_estimators=500, bootstrap=True))\n",
    "])"
   ]
  },
  {
   "cell_type": "code",
   "execution_count": 330,
   "metadata": {
    "ExecuteTime": {
     "end_time": "2018-07-26T16:48:31.100912Z",
     "start_time": "2018-07-26T16:48:23.460236Z"
    }
   },
   "outputs": [
    {
     "name": "stdout",
     "output_type": "stream",
     "text": [
      "Selecting Job Level\n",
      "Selecting Mean Sal\n",
      "Selecting JD\n",
      "----------------------------------------\n",
      "--------- Classfication Report ------------\n",
      "Selecting Job Level\n",
      "Selecting Mean Sal\n",
      "Selecting JD\n",
      "             precision    recall  f1-score   support\n",
      "\n",
      "         DS       0.88      0.85      0.87        34\n",
      "     OTHERS       0.97      0.97      0.97       146\n",
      "\n",
      "avg / total       0.95      0.95      0.95       180\n",
      "\n",
      "----------------------------------------\n",
      "--------- Confusion Matrix ------------\n",
      "Selecting Job Level\n",
      "Selecting Mean Sal\n",
      "Selecting JD\n",
      "Confusion matrix, without normalization\n",
      "[[ 29   5]\n",
      " [  4 142]]\n"
     ]
    },
    {
     "data": {
      "image/png": "[encoded data removed]",
      "text/plain": [
       "<matplotlib.figure.Figure at 0x1a2029c450>"
      ]
     },
     "metadata": {},
     "output_type": "display_data"
    }
   ],
   "source": [
    "# Fit pl to the training data\n",
    "pl.fit(X_train, y_train)\n",
    "\n",
    "# Compute and print accuracy\n",
    "print('-'*40)\n",
    "print '--------- Classfication Report ------------'\n",
    "print classification_report(y_test, pl.predict(X_test))\n",
    "print('-'*40)\n",
    "print '--------- Confusion Matrix ------------'\n",
    "plot_confusion_matrix(confusion_matrix(y_test, pl.predict(X_test)), ['IS_DS','OTHERS'])"
   ]
  },
  {
   "cell_type": "markdown",
   "metadata": {},
   "source": [
    "<p><span style=\"color: #0000ff;\"><strong>MODEL Q2B: Using a Random Forest Classifier model to Predict IS_DS</strong></span></p>\n",
    "<ul>\n",
    "<li>Best result is approx 96%</li>\n",
    "<li>Base Titles:\n",
    "<ul>\n",
    "<li>OTHERS = BA, DA, BI, DArch, DE</li>\n",
    "<li><strong>DS = Data Scientist</strong></li>\n",
    "</ul>\n",
    "</li>\n",
    "<li>Given that the classes are <span style=\"text-decoration: underline;\">very imbalanced</span> - given a 94% on the DS label (32/34) is a pretty good sign <strong>(Out Performing Gradient Boosted Classifier)</strong></li>\n",
    "<li>\n",
    "<pre>             precision    recall  f1-score   support\n",
    "\n",
    "         DS       0.84      0.94      0.89        34\n",
    "     OTHERS       0.99      0.96      0.97       146\n",
    "\n",
    "avg / total       0.96      0.96      0.96       180</pre>\n",
    "</li>\n",
    "<li>NOW we can see the feature importance for DS~</li>\n",
    "</ul>"
   ]
  },
  {
   "cell_type": "code",
   "execution_count": 324,
   "metadata": {
    "ExecuteTime": {
     "end_time": "2018-07-26T16:47:38.479004Z",
     "start_time": "2018-07-26T16:47:38.431924Z"
    }
   },
   "outputs": [],
   "source": [
    "## This flow follows the Pipeline\n",
    "dummy_cols = pl.named_steps['indus'].feature_names.tolist()\n",
    "# Numeric Cols \n",
    "numeric_cols = ['Job Level' , 'Mean Sal']\n",
    "# TDIDF FOR JD\n",
    "jd_cols = pl.named_steps['union'].transformer_list[2][1].named_steps['tfidf'].get_feature_names()\n",
    "\n",
    "X_train_csr_cols = dummy_cols + numeric_cols + jd_cols\n",
    "\n",
    "X_train_csr_cols.remove('JD')"
   ]
  },
  {
   "cell_type": "code",
   "execution_count": 325,
   "metadata": {
    "ExecuteTime": {
     "end_time": "2018-07-26T16:47:39.336138Z",
     "start_time": "2018-07-26T16:47:39.138700Z"
    }
   },
   "outputs": [
    {
     "data": {
      "text/html": [
       "<div>\n",
       "<style scoped>\n",
       "    .dataframe tbody tr th:only-of-type {\n",
       "        vertical-align: middle;\n",
       "    }\n",
       "\n",
       "    .dataframe tbody tr th {\n",
       "        vertical-align: top;\n",
       "    }\n",
       "\n",
       "    .dataframe thead th {\n",
       "        text-align: right;\n",
       "    }\n",
       "</style>\n",
       "<table border=\"1\" class=\"dataframe\">\n",
       "  <thead>\n",
       "    <tr style=\"text-align: right;\">\n",
       "      <th></th>\n",
       "      <th>Feature</th>\n",
       "      <th>Importance</th>\n",
       "    </tr>\n",
       "  </thead>\n",
       "  <tbody>\n",
       "    <tr>\n",
       "      <th>15499</th>\n",
       "      <td>leadership plus</td>\n",
       "      <td>0.078984</td>\n",
       "    </tr>\n",
       "    <tr>\n",
       "      <th>16131</th>\n",
       "      <td>look outstanding</td>\n",
       "      <td>0.070751</td>\n",
       "    </tr>\n",
       "    <tr>\n",
       "      <th>16141</th>\n",
       "      <td>lose</td>\n",
       "      <td>0.070152</td>\n",
       "    </tr>\n",
       "    <tr>\n",
       "      <th>19808</th>\n",
       "      <td>personnel registration</td>\n",
       "      <td>0.041675</td>\n",
       "    </tr>\n",
       "    <tr>\n",
       "      <th>21779</th>\n",
       "      <td>pui jun</td>\n",
       "      <td>0.029080</td>\n",
       "    </tr>\n",
       "    <tr>\n",
       "      <th>976</th>\n",
       "      <td>agreement stakeholder</td>\n",
       "      <td>0.026390</td>\n",
       "    </tr>\n",
       "    <tr>\n",
       "      <th>17576</th>\n",
       "      <td>mnc hvac</td>\n",
       "      <td>0.015991</td>\n",
       "    </tr>\n",
       "    <tr>\n",
       "      <th>6882</th>\n",
       "      <td>data primary</td>\n",
       "      <td>0.015696</td>\n",
       "    </tr>\n",
       "    <tr>\n",
       "      <th>23020</th>\n",
       "      <td>requiredanalyse</td>\n",
       "      <td>0.015098</td>\n",
       "    </tr>\n",
       "    <tr>\n",
       "      <th>13199</th>\n",
       "      <td>identify valuable</td>\n",
       "      <td>0.014774</td>\n",
       "    </tr>\n",
       "  </tbody>\n",
       "</table>\n",
       "</div>"
      ],
      "text/plain": [
       "                      Feature  Importance\n",
       "15499         leadership plus    0.078984\n",
       "16131        look outstanding    0.070751\n",
       "16141                    lose    0.070152\n",
       "19808  personnel registration    0.041675\n",
       "21779                 pui jun    0.029080\n",
       "976     agreement stakeholder    0.026390\n",
       "17576                mnc hvac    0.015991\n",
       "6882             data primary    0.015696\n",
       "23020         requiredanalyse    0.015098\n",
       "13199       identify valuable    0.014774"
      ]
     },
     "execution_count": 325,
     "metadata": {},
     "output_type": "execute_result"
    }
   ],
   "source": [
    "# Top 10 Features based on Importance\n",
    "coefs = list(zip(X_train_csr_cols, pl.named_steps['rfc'].feature_importances_))\n",
    "coefs = pd.DataFrame.from_records(coefs)\n",
    "coefs.columns = ['Feature','Importance']\n",
    "coefs.sort_values('Importance', ascending=False)[['Feature', 'Importance']].head(10)"
   ]
  },
  {
   "cell_type": "code",
   "execution_count": 326,
   "metadata": {
    "ExecuteTime": {
     "end_time": "2018-07-26T16:47:49.605858Z",
     "start_time": "2018-07-26T16:47:49.583013Z"
    }
   },
   "outputs": [
    {
     "data": {
      "text/html": [
       "<div>\n",
       "<style scoped>\n",
       "    .dataframe tbody tr th:only-of-type {\n",
       "        vertical-align: middle;\n",
       "    }\n",
       "\n",
       "    .dataframe tbody tr th {\n",
       "        vertical-align: top;\n",
       "    }\n",
       "\n",
       "    .dataframe thead th {\n",
       "        text-align: right;\n",
       "    }\n",
       "</style>\n",
       "<table border=\"1\" class=\"dataframe\">\n",
       "  <thead>\n",
       "    <tr style=\"text-align: right;\">\n",
       "      <th></th>\n",
       "      <th>Feature</th>\n",
       "      <th>Importance</th>\n",
       "    </tr>\n",
       "  </thead>\n",
       "  <tbody>\n",
       "    <tr>\n",
       "      <th>10140</th>\n",
       "      <td>event maintaining</td>\n",
       "      <td>0.0</td>\n",
       "    </tr>\n",
       "    <tr>\n",
       "      <th>10139</th>\n",
       "      <td>event data</td>\n",
       "      <td>0.0</td>\n",
       "    </tr>\n",
       "    <tr>\n",
       "      <th>10138</th>\n",
       "      <td>event barrier</td>\n",
       "      <td>0.0</td>\n",
       "    </tr>\n",
       "    <tr>\n",
       "      <th>10137</th>\n",
       "      <td>event annual</td>\n",
       "      <td>0.0</td>\n",
       "    </tr>\n",
       "    <tr>\n",
       "      <th>10134</th>\n",
       "      <td>evaluation data</td>\n",
       "      <td>0.0</td>\n",
       "    </tr>\n",
       "    <tr>\n",
       "      <th>10133</th>\n",
       "      <td>evaluation awarding</td>\n",
       "      <td>0.0</td>\n",
       "    </tr>\n",
       "    <tr>\n",
       "      <th>10132</th>\n",
       "      <td>evaluation analysis</td>\n",
       "      <td>0.0</td>\n",
       "    </tr>\n",
       "    <tr>\n",
       "      <th>10130</th>\n",
       "      <td>evaluating potential</td>\n",
       "      <td>0.0</td>\n",
       "    </tr>\n",
       "    <tr>\n",
       "      <th>10129</th>\n",
       "      <td>evaluating erp</td>\n",
       "      <td>0.0</td>\n",
       "    </tr>\n",
       "    <tr>\n",
       "      <th>29151</th>\n",
       "      <td>yield curve</td>\n",
       "      <td>0.0</td>\n",
       "    </tr>\n",
       "  </tbody>\n",
       "</table>\n",
       "</div>"
      ],
      "text/plain": [
       "                    Feature  Importance\n",
       "10140     event maintaining         0.0\n",
       "10139            event data         0.0\n",
       "10138         event barrier         0.0\n",
       "10137          event annual         0.0\n",
       "10134       evaluation data         0.0\n",
       "10133   evaluation awarding         0.0\n",
       "10132   evaluation analysis         0.0\n",
       "10130  evaluating potential         0.0\n",
       "10129        evaluating erp         0.0\n",
       "29151           yield curve         0.0"
      ]
     },
     "execution_count": 326,
     "metadata": {},
     "output_type": "execute_result"
    }
   ],
   "source": [
    "## Bottom 10 Features\n",
    "coefs.sort_values('Importance', ascending=False)[['Feature', 'Importance']].tail(10)"
   ]
  },
  {
   "cell_type": "markdown",
   "metadata": {},
   "source": [
    "## REPORT"
   ]
  },
  {
   "cell_type": "markdown",
   "metadata": {},
   "source": [
    "### Scraping the Data"
   ]
  },
  {
   "cell_type": "code",
   "execution_count": null,
   "metadata": {},
   "outputs": [],
   "source": [
    "Source\n",
    "Tech\n",
    "Challenges"
   ]
  },
  {
   "cell_type": "markdown",
   "metadata": {},
   "source": [
    "### Cleaning the Data"
   ]
  },
  {
   "cell_type": "code",
   "execution_count": null,
   "metadata": {},
   "outputs": [],
   "source": [
    "HTML tags, punctuations\n",
    "Categorizing\n",
    "imputations\n",
    "removals - duplicates"
   ]
  },
  {
   "cell_type": "markdown",
   "metadata": {},
   "source": [
    "### Predicting Salary"
   ]
  },
  {
   "cell_type": "code",
   "execution_count": null,
   "metadata": {},
   "outputs": [],
   "source": [
    "Pipeline Approach\n",
    "Model 1A - Linear Reg\n",
    "Model 1B - Logistic Reg\n",
    "\n",
    "3. Discover which features have the greatest importance when determining a low vs. high paying job.\n",
    "  - Your Boss is interested in what overall features hold the greatest significance.\n",
    "  - HR is interested in which SKILLS and KEY WORDS hold the greatest significance.  "
   ]
  },
  {
   "cell_type": "markdown",
   "metadata": {},
   "source": [
    "### Predicting Factors for Data Science jobs"
   ]
  },
  {
   "cell_type": "code",
   "execution_count": null,
   "metadata": {},
   "outputs": [],
   "source": [
    "DS Tag - ONE vs ALL\n",
    "Model 2A - Gradient Boosted Classifier\n",
    "Model 2B - Random Forest Classifier"
   ]
  },
  {
   "cell_type": "markdown",
   "metadata": {},
   "source": [
    "### Conclusion"
   ]
  },
  {
   "cell_type": "code",
   "execution_count": null,
   "metadata": {},
   "outputs": [],
   "source": [
    "What would i have done better given more time.\n",
    "Better data cleaning of the text features. -> More interpretability\n",
    "Add more stop words"
   ]
  },
  {
   "cell_type": "code",
   "execution_count": null,
   "metadata": {},
   "outputs": [],
   "source": []
  },
  {
   "cell_type": "code",
   "execution_count": null,
   "metadata": {},
   "outputs": [],
   "source": []
  }
 ],
 "metadata": {
  "kernelspec": {
   "display_name": "Python 2",
   "language": "python",
   "name": "python2"
  },
  "language_info": {
   "codemirror_mode": {
    "name": "ipython",
    "version": 2
   },
   "file_extension": ".py",
   "mimetype": "text/x-python",
   "name": "python",
   "nbconvert_exporter": "python",
   "pygments_lexer": "ipython2",
   "version": "2.7.14"
  }
 },
 "nbformat": 4,
 "nbformat_minor": 2
}
