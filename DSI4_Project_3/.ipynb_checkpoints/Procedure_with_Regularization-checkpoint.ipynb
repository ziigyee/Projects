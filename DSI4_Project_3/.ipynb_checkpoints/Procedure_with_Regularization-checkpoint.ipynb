{
 "cells": [
  {
   "cell_type": "code",
   "execution_count": null,
   "metadata": {},
   "outputs": [],
   "source": [
    "## Add in SalePrice and YrSold cols.\n",
    "features = no_reno_features + ['YrSold','SalePrice']\n",
    "\n",
    "## TRAININGDATA from Residential_log\n",
    "TRAININGDATA = residential_log[features].copy()\n",
    "\n",
    "## Dummy out\n",
    "TRAININGDATA = pd.get_dummies(TRAININGDATA, columns=no_reno_features_cat, drop_first=True)\n",
    "\n",
    "print TRAININGDATA.shape\n",
    "##SPLIT THE DATA INTO < 2010 AND == 2010\n",
    "TESTSET = TRAININGDATA[TRAININGDATA.YrSold == 2010].copy()\n",
    "TRAINSET = TRAININGDATA[TRAININGDATA.YrSold < 2010].copy()\n",
    "\n",
    "## YrSold served is Purpose, we can drop it.\n",
    "TESTSET.drop('YrSold', axis=1, inplace=True)\n",
    "TRAINSET.drop('YrSold', axis=1, inplace=True)\n",
    "\n"
   ]
  },
  {
   "cell_type": "code",
   "execution_count": null,
   "metadata": {},
   "outputs": [],
   "source": [
    "ss = StandardScaler()"
   ]
  },
  {
   "cell_type": "code",
   "execution_count": null,
   "metadata": {},
   "outputs": [],
   "source": [
    "## TRAINING SET\n",
    "X_train = TRAINSET.drop('SalePrice', axis=1)\n",
    "X_train = ss.fit_transform(X_train) ##Standardize\n",
    "y_train = TRAINSET['SalePrice'].values\n",
    "\n",
    "## TESTING SET\n",
    "X_test = TESTSET.drop('SalePrice', axis=1)\n",
    "X_test = ss.fit_transform(X_test) ##Standardize\n",
    "y_test = TESTSET['SalePrice'].values"
   ]
  },
  {
   "cell_type": "markdown",
   "metadata": {},
   "source": [
    "### Base LinearRegression cv=15"
   ]
  },
  {
   "cell_type": "code",
   "execution_count": null,
   "metadata": {},
   "outputs": [],
   "source": [
    "model = LinearRegression()\n",
    "model.fit(X_train, y_train)"
   ]
  },
  {
   "cell_type": "code",
   "execution_count": null,
   "metadata": {},
   "outputs": [],
   "source": [
    "linreg_scores = cross_val_score(model, X_test, y_test, cv=15)\n",
    "## Tried multiple Cvs, 15 isnt the best, at 14: -5.86784329765e+25, then at 15: 0.794398096911 \n",
    "\n",
    "#print linreg_scores\n",
    "print('Base Test LinearRegression R2 score: {}'.format(np.mean(linreg_scores)))\n",
    "## Can't trust this Base Test"
   ]
  },
  {
   "cell_type": "markdown",
   "metadata": {},
   "source": [
    "### RidgeCV cv=15"
   ]
  },
  {
   "cell_type": "code",
   "execution_count": null,
   "metadata": {},
   "outputs": [],
   "source": [
    "ridge_alphas = np.logspace(-2, 7, 50)\n",
    "\n",
    "optimal_ridge = RidgeCV(alphas=ridge_alphas, cv=15)\n",
    "optimal_ridge.fit(X_train, y_train)\n",
    "\n",
    "print('Optimal alpha: {}'.format(optimal_ridge.alpha_))"
   ]
  },
  {
   "cell_type": "markdown",
   "metadata": {},
   "source": [
    "### Ridge with optimal_alpha cv=15"
   ]
  },
  {
   "cell_type": "code",
   "execution_count": null,
   "metadata": {},
   "outputs": [],
   "source": [
    "ridge = Ridge(alpha=optimal_ridge.alpha_)\n",
    "\n",
    "ridge_scores = cross_val_score(ridge, X_train, y_train, cv=15)\n",
    "\n",
    "#print ridge_scores\n",
    "print('Ridge R2 score: {}'.format(np.mean(ridge_scores)))"
   ]
  },
  {
   "cell_type": "markdown",
   "metadata": {},
   "source": [
    "### LassoCV cv=15"
   ]
  },
  {
   "cell_type": "code",
   "execution_count": null,
   "metadata": {},
   "outputs": [],
   "source": [
    "optimal_lasso = LassoCV(n_alphas=500, cv=15, verbose=1)\n",
    "optimal_lasso.fit(X_train, y_train)\n",
    "\n",
    "print optimal_lasso.alpha_"
   ]
  },
  {
   "cell_type": "markdown",
   "metadata": {},
   "source": [
    "###  Lasso with optimal_alpha cv=15"
   ]
  },
  {
   "cell_type": "code",
   "execution_count": null,
   "metadata": {},
   "outputs": [],
   "source": [
    "lasso = Lasso(alpha=optimal_lasso.alpha_)\n",
    "\n",
    "lasso_scores = cross_val_score(lasso, X_train, y_train, cv=15)\n",
    "\n",
    "#print lasso_scores\n",
    "print('Lasso R2 score: {}'.format(np.mean(lasso_scores)))"
   ]
  },
  {
   "cell_type": "markdown",
   "metadata": {},
   "source": [
    "### Lets try ElasticNet cv=15"
   ]
  },
  {
   "cell_type": "code",
   "execution_count": null,
   "metadata": {},
   "outputs": [],
   "source": [
    "l1_ratios = np.linspace(0.01, 1.0, 25)\n",
    "optimal_enet = ElasticNetCV(l1_ratio=l1_ratios, n_alphas=30, cv=15,\n",
    "                            verbose=1)\n",
    "optimal_enet.fit(X_train, y_train)\n",
    "\n",
    "print optimal_enet.alpha_\n",
    "print optimal_enet.l1_ratio_"
   ]
  },
  {
   "cell_type": "code",
   "execution_count": null,
   "metadata": {},
   "outputs": [],
   "source": [
    "## The L1 Ratio is 1.0 = LASSO\n",
    "## Lets see with the optimals\n",
    "enet = ElasticNet(alpha=optimal_enet.alpha_, l1_ratio=optimal_enet.l1_ratio_)\n",
    "\n",
    "enet_scores = cross_val_score(enet, X_train, y_train, cv=15)\n",
    "\n",
    "print enet_scores\n",
    "print np.mean(enet_scores)"
   ]
  },
  {
   "cell_type": "markdown",
   "metadata": {},
   "source": [
    "### Seems to be telling me ....."
   ]
  },
  {
   "cell_type": "code",
   "execution_count": null,
   "metadata": {},
   "outputs": [],
   "source": [
    "## Plot to see the Residuals\n",
    "ridge.fit(X_train, y_train)\n",
    "lasso.fit(X_train, y_train)"
   ]
  },
  {
   "cell_type": "code",
   "execution_count": null,
   "metadata": {},
   "outputs": [],
   "source": [
    "# Model residuals:\n",
    "ridge_resid = y_test - ridge.predict(X_test)\n",
    "lasso_resid = y_test - lasso.predict(X_test)"
   ]
  },
  {
   "cell_type": "code",
   "execution_count": null,
   "metadata": {},
   "outputs": [],
   "source": [
    "sns.jointplot(ridge_resid, lasso_resid)\n",
    "\n",
    "## Both seem normally distributed..and quite linear.."
   ]
  },
  {
   "cell_type": "markdown",
   "metadata": {},
   "source": [
    "###  Lets go with Lasso"
   ]
  },
  {
   "cell_type": "code",
   "execution_count": null,
   "metadata": {},
   "outputs": [],
   "source": [
    "lasso.fit(X_train, y_train)"
   ]
  },
  {
   "cell_type": "code",
   "execution_count": null,
   "metadata": {},
   "outputs": [],
   "source": [
    "lasso_coefs = pd.DataFrame({'variable':TRAINSET.drop('SalePrice', axis=1).columns,\n",
    "                            'coef':lasso.coef_,\n",
    "                            'abs_coef':np.abs(lasso.coef_)})\n",
    "\n",
    "lasso_coefs.sort_values('abs_coef', inplace=True, ascending=False)\n",
    "\n",
    "lasso_coefs"
   ]
  },
  {
   "cell_type": "code",
   "execution_count": null,
   "metadata": {},
   "outputs": [],
   "source": [
    "print 'Percent variables zeroed out:', np.sum((lasso.coef_ == 0))/float(len(lasso.coef_))"
   ]
  },
  {
   "cell_type": "markdown",
   "metadata": {},
   "source": [
    "## REVISIT LinearRegression only using XXXXXXX's non-zero features."
   ]
  },
  {
   "cell_type": "code",
   "execution_count": null,
   "metadata": {},
   "outputs": [],
   "source": [
    "lasso_selected_feat = lasso_coefs[lasso_coefs.abs_coef != 0]['variable'].tolist()"
   ]
  },
  {
   "cell_type": "code",
   "execution_count": null,
   "metadata": {},
   "outputs": [],
   "source": [
    "## Add in SalePrice and YrSold cols.\n",
    "features_v2 = lasso_selected_feat + ['YrSold','SalePrice']"
   ]
  },
  {
   "cell_type": "code",
   "execution_count": null,
   "metadata": {},
   "outputs": [],
   "source": [
    "## TRAININGDATA2 from TRAININGDATA\n",
    "## (Reminder: TRAININGDATA IS ALREADY DUMMIED. EVERYTHING WAS DONE WITH DUMMIED OUT COLS)\n",
    "TRAININGDATA2 = TRAININGDATA[features_v2].copy()\n",
    "\n",
    "##SPLIT THE DATA INTO < 2010 AND == 2010\n",
    "TESTSET2 = TRAININGDATA2[TRAININGDATA2.YrSold == 2010].copy()\n",
    "TRAINSET2 = TRAININGDATA2[TRAININGDATA2.YrSold < 2010].copy()"
   ]
  },
  {
   "cell_type": "code",
   "execution_count": null,
   "metadata": {},
   "outputs": [],
   "source": [
    "## YrSold served is Purpose, we can drop it.\n",
    "TESTSET2.drop('YrSold', axis=1, inplace=True)\n",
    "TRAINSET2.drop('YrSold', axis=1, inplace=True)"
   ]
  },
  {
   "cell_type": "markdown",
   "metadata": {},
   "source": [
    "### TRAINSET2 & TESTSET2 !"
   ]
  },
  {
   "cell_type": "code",
   "execution_count": null,
   "metadata": {},
   "outputs": [],
   "source": [
    "## TRAINING SET 2\n",
    "X_train2 = TRAINSET2.drop('SalePrice', axis=1)\n",
    "X_train2 = ss.fit_transform(X_train2) ##Standardize\n",
    "y_train2 = TRAINSET2['SalePrice'].values\n",
    "\n",
    "## TESTING SET 2\n",
    "X_test2 = TESTSET2.drop('SalePrice', axis=1)\n",
    "X_test2 = ss.fit_transform(X_test2) ##Standardize\n",
    "y_test2 = TESTSET2['SalePrice'].values"
   ]
  },
  {
   "cell_type": "code",
   "execution_count": null,
   "metadata": {},
   "outputs": [],
   "source": [
    "model2 = LinearRegression()\n",
    "model2.fit(X_train2, y_train2)"
   ]
  },
  {
   "cell_type": "code",
   "execution_count": null,
   "metadata": {},
   "outputs": [],
   "source": [
    "linreg_scores2 = cross_val_score(model2, X_test2, y_test2, cv=9) \n",
    "#print linreg_scores\n",
    "print('LinearRegression with select features after Lasso: R2 score: {}'.format(np.mean(linreg_scores2)))"
   ]
  },
  {
   "cell_type": "markdown",
   "metadata": {},
   "source": [
    "## Lets try it out"
   ]
  },
  {
   "cell_type": "markdown",
   "metadata": {},
   "source": [
    "### Lets Predict with X_test2! on model2 !"
   ]
  },
  {
   "cell_type": "code",
   "execution_count": null,
   "metadata": {},
   "outputs": [],
   "source": [
    "## Keep fingers crossed.\n",
    "y_pred = model2.predict(X_test2)"
   ]
  },
  {
   "cell_type": "code",
   "execution_count": null,
   "metadata": {},
   "outputs": [],
   "source": [
    "print('Mean squared error: {}'.format(mean_squared_error(y_test, y_pred)))\n",
    "print('Model Score R2: {}'.format(model2.score(X_test2, y_test2)))\n",
    "print('Cross Validated R2: {}'.format(np.mean(cross_val_score(model2, X_test2,y_test2, cv=9))))"
   ]
  },
  {
   "cell_type": "code",
   "execution_count": null,
   "metadata": {},
   "outputs": [],
   "source": [
    "# Plot Residuals vs Predicted Residuals\n",
    "plt.figure(figsize=(20,8))\n",
    "sns.regplot(y_test, y_pred, fit_reg=True)\n",
    "\n",
    "plt.title('Scatter Plot of Actual and Predicted Sales Prices', fontsize=20)\n",
    "plt.xlabel('Predicted Sales Prices', fontsize=18)\n",
    "plt.ylabel('Actual Sales Prices', fontsize=18)\n",
    "plt.show()"
   ]
  },
  {
   "cell_type": "code",
   "execution_count": null,
   "metadata": {},
   "outputs": [],
   "source": [
    "# Plot the Actual(y_test2) and Predicted (y_pred)\n",
    "# BLUE = Actual (y_test2)\n",
    "# RED =  Predicted (y_pred)\n",
    "\n",
    "plt.figure(figsize=(20,8))\n",
    "plt.scatter(range(len(y_test2)), y_test2,  color='cornflowerblue', label='Actual Prices (y_test2)') #Actual (y_test2)\n",
    "plt.scatter(range(len(y_pred)), y_pred, color='red', alpha=0.5, label='Predicted Prices (y_pred)') #Predicted (y_pred)\n",
    "\n",
    "plt.legend(loc='upper left', prop={'size': 16}, frameon=True)\n",
    "\n",
    "plt.title('Visual difference between the Actual and Predicted', fontsize=20)\n",
    "plt.xlabel('Houses Sold', fontsize=18)\n",
    "plt.ylabel('Sale Prices', fontsize=18)\n",
    "plt.show()"
   ]
  },
  {
   "cell_type": "code",
   "execution_count": null,
   "metadata": {},
   "outputs": [],
   "source": [
    "# Plot the Residuals = y_test2 - y_pred\n",
    "Residuals = y_test2 - y_pred\n",
    "\n",
    "plt.figure(figsize=(20,5))\n",
    "plt.scatter(range(len(Residuals)), Residuals,  color='cornflowerblue', label='Residuals = y_test2 - y_pred') #Residuals\n",
    "#plt.scatter(range(len(y_pred)), y_pred, color='red', alpha=0.5, label='Predicted Prices (y_pred)') #Predicted (y_pred)\n",
    "\n",
    "plt.legend(loc='upper left', prop={'size': 16}, frameon=True)\n",
    "\n",
    "plt.title('Residuals', fontsize=20)\n",
    "plt.xlabel('Houses Sold', fontsize=18)\n",
    "plt.ylabel('Residuals', fontsize=18)\n",
    "plt.axhline(y=0, color='darkorange')  ## the 0 line to see how far the residuals are.\n",
    "plt.show()"
   ]
  },
  {
   "cell_type": "code",
   "execution_count": null,
   "metadata": {},
   "outputs": [],
   "source": []
  },
  {
   "cell_type": "code",
   "execution_count": null,
   "metadata": {},
   "outputs": [],
   "source": []
  },
  {
   "cell_type": "code",
   "execution_count": null,
   "metadata": {},
   "outputs": [],
   "source": []
  },
  {
   "cell_type": "code",
   "execution_count": null,
   "metadata": {},
   "outputs": [],
   "source": []
  },
  {
   "cell_type": "code",
   "execution_count": null,
   "metadata": {},
   "outputs": [],
   "source": []
  },
  {
   "cell_type": "code",
   "execution_count": null,
   "metadata": {},
   "outputs": [],
   "source": []
  }
 ],
 "metadata": {
  "kernelspec": {
   "display_name": "Python 2",
   "language": "python",
   "name": "python2"
  },
  "language_info": {
   "codemirror_mode": {
    "name": "ipython",
    "version": 2
   },
   "file_extension": ".py",
   "mimetype": "text/x-python",
   "name": "python",
   "nbconvert_exporter": "python",
   "pygments_lexer": "ipython2",
   "version": "2.7.14"
  }
 },
 "nbformat": 4,
 "nbformat_minor": 2
}
